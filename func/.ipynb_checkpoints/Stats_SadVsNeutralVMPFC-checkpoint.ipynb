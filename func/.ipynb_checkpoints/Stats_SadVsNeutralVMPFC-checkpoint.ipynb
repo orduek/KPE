{
 "cells": [
  {
   "cell_type": "markdown",
   "id": "6be63692",
   "metadata": {},
   "source": [
    "## Calculate differences\n",
    "- Calculate differences using different models on the effect of Sad vs. Neutral on hippocampus"
   ]
  },
  {
   "cell_type": "code",
   "execution_count": 1,
   "id": "d3fdd094",
   "metadata": {},
   "outputs": [],
   "source": [
    "import warnings\n",
    "warnings.filterwarnings('ignore')"
   ]
  },
  {
   "cell_type": "code",
   "execution_count": 2,
   "id": "2044bf5e",
   "metadata": {},
   "outputs": [],
   "source": [
    "import pandas as pd\n",
    "import numpy as np\n",
    "import seaborn as sns\n",
    "import matplotlib.pyplot as plt\n",
    "import pymc3 as pm\n",
    "import arviz as az\n",
    "\n",
    "# regular GLMs\n",
    "import pingouin as pg\n",
    "import statsmodels.api as sm\n",
    "import statsmodels.formula.api as smf"
   ]
  },
  {
   "cell_type": "code",
   "execution_count": 3,
   "id": "60284eb7",
   "metadata": {},
   "outputs": [
    {
     "data": {
      "text/html": [
       "<div>\n",
       "<style scoped>\n",
       "    .dataframe tbody tr th:only-of-type {\n",
       "        vertical-align: middle;\n",
       "    }\n",
       "\n",
       "    .dataframe tbody tr th {\n",
       "        vertical-align: top;\n",
       "    }\n",
       "\n",
       "    .dataframe thead th {\n",
       "        text-align: right;\n",
       "    }\n",
       "</style>\n",
       "<table border=\"1\" class=\"dataframe\">\n",
       "  <thead>\n",
       "    <tr style=\"text-align: right;\">\n",
       "      <th></th>\n",
       "      <th>scr_id</th>\n",
       "      <th>groupIdx</th>\n",
       "      <th>variable</th>\n",
       "      <th>value</th>\n",
       "    </tr>\n",
       "  </thead>\n",
       "  <tbody>\n",
       "    <tr>\n",
       "      <th>0</th>\n",
       "      <td>KPE008</td>\n",
       "      <td>1</td>\n",
       "      <td>vmpfc1</td>\n",
       "      <td>-0.063031</td>\n",
       "    </tr>\n",
       "    <tr>\n",
       "      <th>1</th>\n",
       "      <td>KPE1223</td>\n",
       "      <td>1</td>\n",
       "      <td>vmpfc1</td>\n",
       "      <td>0.704947</td>\n",
       "    </tr>\n",
       "    <tr>\n",
       "      <th>2</th>\n",
       "      <td>KPE1253</td>\n",
       "      <td>0</td>\n",
       "      <td>vmpfc1</td>\n",
       "      <td>0.160294</td>\n",
       "    </tr>\n",
       "    <tr>\n",
       "      <th>3</th>\n",
       "      <td>KPE1263</td>\n",
       "      <td>0</td>\n",
       "      <td>vmpfc1</td>\n",
       "      <td>0.531784</td>\n",
       "    </tr>\n",
       "    <tr>\n",
       "      <th>4</th>\n",
       "      <td>KPE1293</td>\n",
       "      <td>1</td>\n",
       "      <td>vmpfc1</td>\n",
       "      <td>0.601268</td>\n",
       "    </tr>\n",
       "    <tr>\n",
       "      <th>...</th>\n",
       "      <td>...</td>\n",
       "      <td>...</td>\n",
       "      <td>...</td>\n",
       "      <td>...</td>\n",
       "    </tr>\n",
       "    <tr>\n",
       "      <th>73</th>\n",
       "      <td>KPE1561</td>\n",
       "      <td>0</td>\n",
       "      <td>vmpfc3</td>\n",
       "      <td>0.510941</td>\n",
       "    </tr>\n",
       "    <tr>\n",
       "      <th>74</th>\n",
       "      <td>KPE1573</td>\n",
       "      <td>1</td>\n",
       "      <td>vmpfc3</td>\n",
       "      <td>0.646336</td>\n",
       "    </tr>\n",
       "    <tr>\n",
       "      <th>75</th>\n",
       "      <td>KPE1578</td>\n",
       "      <td>0</td>\n",
       "      <td>vmpfc3</td>\n",
       "      <td>0.195809</td>\n",
       "    </tr>\n",
       "    <tr>\n",
       "      <th>76</th>\n",
       "      <td>KPE1587</td>\n",
       "      <td>1</td>\n",
       "      <td>vmpfc3</td>\n",
       "      <td>NaN</td>\n",
       "    </tr>\n",
       "    <tr>\n",
       "      <th>77</th>\n",
       "      <td>KPE1612</td>\n",
       "      <td>0</td>\n",
       "      <td>vmpfc3</td>\n",
       "      <td>0.040047</td>\n",
       "    </tr>\n",
       "  </tbody>\n",
       "</table>\n",
       "<p>78 rows × 4 columns</p>\n",
       "</div>"
      ],
      "text/plain": [
       "     scr_id  groupIdx variable     value\n",
       "0    KPE008         1   vmpfc1 -0.063031\n",
       "1   KPE1223         1   vmpfc1  0.704947\n",
       "2   KPE1253         0   vmpfc1  0.160294\n",
       "3   KPE1263         0   vmpfc1  0.531784\n",
       "4   KPE1293         1   vmpfc1  0.601268\n",
       "..      ...       ...      ...       ...\n",
       "73  KPE1561         0   vmpfc3  0.510941\n",
       "74  KPE1573         1   vmpfc3  0.646336\n",
       "75  KPE1578         0   vmpfc3  0.195809\n",
       "76  KPE1587         1   vmpfc3       NaN\n",
       "77  KPE1612         0   vmpfc3  0.040047\n",
       "\n",
       "[78 rows x 4 columns]"
      ]
     },
     "execution_count": 3,
     "metadata": {},
     "output_type": "execute_result"
    }
   ],
   "source": [
    "## Load amygdala database\n",
    "df = pd.read_csv('SadvsNeutral.csv')\n",
    "# create a long format for analysis\n",
    "df_long = pd.melt(df, id_vars=['scr_id','groupIdx'], value_vars=['vmpfc1','vmpfc2','vmpfc3'])\n",
    "df_long"
   ]
  },
  {
   "cell_type": "code",
   "execution_count": 4,
   "id": "b23e09b6",
   "metadata": {},
   "outputs": [
    {
     "name": "stdout",
     "output_type": "stream",
     "text": [
      "            Mixed Linear Model Regression Results\n",
      "=============================================================\n",
      "Model:               MixedLM   Dependent Variable:   value   \n",
      "No. Observations:    73        Method:               REML    \n",
      "No. Groups:          26        Scale:                0.1364  \n",
      "Min. group size:     2         Log-Likelihood:       -44.1351\n",
      "Max. group size:     3         Converged:            Yes     \n",
      "Mean group size:     2.8                                     \n",
      "-------------------------------------------------------------\n",
      "                   Coef.  Std.Err.   z    P>|z| [0.025 0.975]\n",
      "-------------------------------------------------------------\n",
      "Intercept           0.264    0.106  2.500 0.012  0.057  0.471\n",
      "variable[T.vmpfc2] -0.164    0.104 -1.578 0.114 -0.367  0.040\n",
      "variable[T.vmpfc3] -0.234    0.108 -2.160 0.031 -0.445 -0.022\n",
      "groupIdx           -0.034    0.125 -0.271 0.786 -0.279  0.211\n",
      "Group Var           0.052    0.096                           \n",
      "=============================================================\n",
      "\n"
     ]
    }
   ],
   "source": [
    "## Start with simple GLM models (using statsmodel)\n",
    "glm = smf.mixedlm('value ~ variable + groupIdx', data=df_long, groups = df_long.scr_id, \n",
    "                 missing='drop')\n",
    "model1 = glm.fit()\n",
    "print(model1.summary())"
   ]
  },
  {
   "cell_type": "code",
   "execution_count": 5,
   "id": "356b54cd",
   "metadata": {},
   "outputs": [
    {
     "name": "stdout",
     "output_type": "stream",
     "text": [
      "\n",
      "=============\n",
      "ANOVA SUMMARY\n",
      "=============\n",
      "\n",
      "Source          SS    DF1    DF2     MS      F    p-unc    np2      eps\n",
      "-----------  -----  -----  -----  -----  -----  -------  -----  -------\n",
      "groupIdx     0.020      1     19  0.020  0.064    0.802  0.003  nan\n",
      "variable     0.529      2     38  0.265  1.696    0.197  0.082    0.748\n",
      "Interaction  0.020      2     38  0.010  0.065    0.937  0.003  nan\n",
      "\n"
     ]
    }
   ],
   "source": [
    "# mixed anova\n",
    "aov = pg.mixed_anova(data=df_long, dv='value', between='groupIdx', within='variable',\n",
    "                     subject='scr_id', correction=False, effsize=\"np2\")\n",
    "pg.print_table(aov)"
   ]
  },
  {
   "cell_type": "markdown",
   "id": "74c29b6d",
   "metadata": {},
   "source": [
    "## Build a Bayesian model\n",
    "- Here we would model each subject under each group"
   ]
  },
  {
   "cell_type": "code",
   "execution_count": 6,
   "id": "d0dc7054",
   "metadata": {},
   "outputs": [
    {
     "data": {
      "text/plain": [
       "<seaborn.axisgrid.PairGrid at 0x2b8029fa3a50>"
      ]
     },
     "execution_count": 6,
     "metadata": {},
     "output_type": "execute_result"
    },
    {
     "data": {
      "image/png": "[encoded data removed]",
      "text/plain": [
       "<Figure size 592x540 with 12 Axes>"
      ]
     },
     "metadata": {
      "needs_background": "light"
     },
     "output_type": "display_data"
    }
   ],
   "source": [
    "# first lets look at the data\n",
    "sns.pairplot(df[['vmpfc1','vmpfc2','vmpfc3','groupIdx']], hue='groupIdx', kind='scatter')"
   ]
  },
  {
   "cell_type": "code",
   "execution_count": 7,
   "id": "3b1bc0db",
   "metadata": {},
   "outputs": [
    {
     "data": {
      "text/html": [
       "<div>\n",
       "<style scoped>\n",
       "    .dataframe tbody tr th:only-of-type {\n",
       "        vertical-align: middle;\n",
       "    }\n",
       "\n",
       "    .dataframe tbody tr th {\n",
       "        vertical-align: top;\n",
       "    }\n",
       "\n",
       "    .dataframe thead tr th {\n",
       "        text-align: left;\n",
       "    }\n",
       "\n",
       "    .dataframe thead tr:last-of-type th {\n",
       "        text-align: right;\n",
       "    }\n",
       "</style>\n",
       "<table border=\"1\" class=\"dataframe\">\n",
       "  <thead>\n",
       "    <tr>\n",
       "      <th></th>\n",
       "      <th></th>\n",
       "      <th colspan=\"8\" halign=\"left\">value</th>\n",
       "    </tr>\n",
       "    <tr>\n",
       "      <th></th>\n",
       "      <th></th>\n",
       "      <th>count</th>\n",
       "      <th>mean</th>\n",
       "      <th>std</th>\n",
       "      <th>min</th>\n",
       "      <th>25%</th>\n",
       "      <th>50%</th>\n",
       "      <th>75%</th>\n",
       "      <th>max</th>\n",
       "    </tr>\n",
       "    <tr>\n",
       "      <th>groupIdx</th>\n",
       "      <th>variable</th>\n",
       "      <th></th>\n",
       "      <th></th>\n",
       "      <th></th>\n",
       "      <th></th>\n",
       "      <th></th>\n",
       "      <th></th>\n",
       "      <th></th>\n",
       "      <th></th>\n",
       "    </tr>\n",
       "  </thead>\n",
       "  <tbody>\n",
       "    <tr>\n",
       "      <th rowspan=\"3\" valign=\"top\">0</th>\n",
       "      <th>vmpfc1</th>\n",
       "      <td>13.0</td>\n",
       "      <td>0.247569</td>\n",
       "      <td>0.274096</td>\n",
       "      <td>-0.318908</td>\n",
       "      <td>0.114160</td>\n",
       "      <td>0.240341</td>\n",
       "      <td>0.520635</td>\n",
       "      <td>0.576824</td>\n",
       "    </tr>\n",
       "    <tr>\n",
       "      <th>vmpfc2</th>\n",
       "      <td>12.0</td>\n",
       "      <td>0.092010</td>\n",
       "      <td>0.518918</td>\n",
       "      <td>-0.896479</td>\n",
       "      <td>-0.188134</td>\n",
       "      <td>0.209309</td>\n",
       "      <td>0.411079</td>\n",
       "      <td>0.839231</td>\n",
       "    </tr>\n",
       "    <tr>\n",
       "      <th>vmpfc3</th>\n",
       "      <td>10.0</td>\n",
       "      <td>0.046362</td>\n",
       "      <td>0.315672</td>\n",
       "      <td>-0.461565</td>\n",
       "      <td>-0.141606</td>\n",
       "      <td>0.045723</td>\n",
       "      <td>0.214643</td>\n",
       "      <td>0.510941</td>\n",
       "    </tr>\n",
       "    <tr>\n",
       "      <th rowspan=\"3\" valign=\"top\">1</th>\n",
       "      <th>vmpfc1</th>\n",
       "      <td>13.0</td>\n",
       "      <td>0.247054</td>\n",
       "      <td>0.463174</td>\n",
       "      <td>-0.360004</td>\n",
       "      <td>-0.063031</td>\n",
       "      <td>0.109410</td>\n",
       "      <td>0.601268</td>\n",
       "      <td>1.281488</td>\n",
       "    </tr>\n",
       "    <tr>\n",
       "      <th>vmpfc2</th>\n",
       "      <td>13.0</td>\n",
       "      <td>0.067371</td>\n",
       "      <td>0.531102</td>\n",
       "      <td>-1.037346</td>\n",
       "      <td>-0.141071</td>\n",
       "      <td>0.051336</td>\n",
       "      <td>0.388151</td>\n",
       "      <td>0.936885</td>\n",
       "    </tr>\n",
       "    <tr>\n",
       "      <th>vmpfc3</th>\n",
       "      <td>12.0</td>\n",
       "      <td>-0.041420</td>\n",
       "      <td>0.449943</td>\n",
       "      <td>-0.789959</td>\n",
       "      <td>-0.373746</td>\n",
       "      <td>0.035562</td>\n",
       "      <td>0.244183</td>\n",
       "      <td>0.646336</td>\n",
       "    </tr>\n",
       "  </tbody>\n",
       "</table>\n",
       "</div>"
      ],
      "text/plain": [
       "                  value                                                    \\\n",
       "                  count      mean       std       min       25%       50%   \n",
       "groupIdx variable                                                           \n",
       "0        vmpfc1    13.0  0.247569  0.274096 -0.318908  0.114160  0.240341   \n",
       "         vmpfc2    12.0  0.092010  0.518918 -0.896479 -0.188134  0.209309   \n",
       "         vmpfc3    10.0  0.046362  0.315672 -0.461565 -0.141606  0.045723   \n",
       "1        vmpfc1    13.0  0.247054  0.463174 -0.360004 -0.063031  0.109410   \n",
       "         vmpfc2    13.0  0.067371  0.531102 -1.037346 -0.141071  0.051336   \n",
       "         vmpfc3    12.0 -0.041420  0.449943 -0.789959 -0.373746  0.035562   \n",
       "\n",
       "                                       \n",
       "                        75%       max  \n",
       "groupIdx variable                      \n",
       "0        vmpfc1    0.520635  0.576824  \n",
       "         vmpfc2    0.411079  0.839231  \n",
       "         vmpfc3    0.214643  0.510941  \n",
       "1        vmpfc1    0.601268  1.281488  \n",
       "         vmpfc2    0.388151  0.936885  \n",
       "         vmpfc3    0.244183  0.646336  "
      ]
     },
     "execution_count": 7,
     "metadata": {},
     "output_type": "execute_result"
    }
   ],
   "source": [
    "df_long.groupby(['groupIdx', 'variable']).describe()"
   ]
  },
  {
   "cell_type": "code",
   "execution_count": 8,
   "id": "7bbbbdae",
   "metadata": {},
   "outputs": [
    {
     "data": {
      "text/plain": [
       "<seaborn.axisgrid.FacetGrid at 0x2b809ad35a10>"
      ]
     },
     "execution_count": 8,
     "metadata": {},
     "output_type": "execute_result"
    },
    {
     "data": {
      "image/png": "[encoded data removed]",
      "text/plain": [
       "<Figure size 412x360 with 1 Axes>"
      ]
     },
     "metadata": {
      "needs_background": "light"
     },
     "output_type": "display_data"
    }
   ],
   "source": [
    "sns.catplot(y='value',x='variable', hue='groupIdx', data=df_long, kind='point', ci=68)\n"
   ]
  },
  {
   "cell_type": "code",
   "execution_count": 9,
   "id": "fc931ec2",
   "metadata": {},
   "outputs": [
    {
     "name": "stdout",
     "output_type": "stream",
     "text": [
      "[ 0  1  2  3  4  5  6  7  8  9 10 11 12 13 14 15 16 17 18 19 20 21 22 23\n",
      " 24 25  0  1  2  3  4  5  6  7  8  9 10 11 12 13 14 15 16 17 18 19 20 21\n",
      " 22 23 24 25  0  1  2  3  4  5  6  7  8  9 10 11 12 13 14 15 16 17 18 19\n",
      " 20 21 22 23 24 25]\n",
      "26\n",
      "[0 0 0 0 0 0 0 0 0 0 0 0 0 0 0 0 0 0 0 0 0 0 0 0 0 0 1 1 1 1 1 1 1 1 1 1 1\n",
      " 1 1 1 1 1 1 1 1 1 1 1 1 1 1 1 2 2 2 2 2 2 2 2 2 2 2 2 2 2 2 2 2 2 2 2 2 2\n",
      " 2 2 2 2]\n"
     ]
    }
   ],
   "source": [
    "# take indexes for building the model\n",
    "df_long['scr_id'] = df_long.scr_id.astype('category')\n",
    "sub_idx = df_long.scr_id.cat.codes.values # get county category index values (613 x 1) vec with nums [0-7]\n",
    "print(sub_idx)\n",
    "n_subs = len(np.unique(df_long.scr_id))\n",
    "print(n_subs)\n",
    "# set time as index also\n",
    "#df_long.groupIdx = pd.Categorical(df_long.groupIdx)\n",
    "df_long.variable = pd.Categorical(df_long.variable, \n",
    "                    categories=['vmpfc1','vmpfc2','vmpfc3'])\n",
    "timeIDX = df_long.variable.cat.codes.values\n",
    "print(timeIDX)\n",
    "df_long['time'] = timeIDX\n"
   ]
  },
  {
   "cell_type": "code",
   "execution_count": 10,
   "id": "986dfe8d",
   "metadata": {},
   "outputs": [
    {
     "name": "stderr",
     "output_type": "stream",
     "text": [
      "Auto-assigning NUTS sampler...\n",
      "Initializing NUTS using jitter+adapt_diag...\n",
      "Multiprocess sampling (6 chains in 6 jobs)\n",
      "NUTS: [likelihood_missing, eps, b, a]\n"
     ]
    },
    {
     "data": {
      "text/html": [
       "\n",
       "    <div>\n",
       "        <style>\n",
       "            /* Turns off some styling */\n",
       "            progress {\n",
       "                /* gets rid of default border in Firefox and Opera. */\n",
       "                border: none;\n",
       "                /* Needs to be in here for Safari polyfill so background images work as expected. */\n",
       "                background-size: auto;\n",
       "            }\n",
       "            .progress-bar-interrupted, .progress-bar-interrupted::-webkit-progress-bar {\n",
       "                background: #F44336;\n",
       "            }\n",
       "        </style>\n",
       "      <progress value='30000' class='' max='30000' style='width:300px; height:20px; vertical-align: middle;'></progress>\n",
       "      100.00% [30000/30000 00:07<00:00 Sampling 6 chains, 0 divergences]\n",
       "    </div>\n",
       "    "
      ],
      "text/plain": [
       "<IPython.core.display.HTML object>"
      ]
     },
     "metadata": {},
     "output_type": "display_data"
    },
    {
     "name": "stderr",
     "output_type": "stream",
     "text": [
      "Sampling 6 chains for 1_000 tune and 4_000 draw iterations (6_000 + 24_000 draws total) took 8 seconds.\n"
     ]
    }
   ],
   "source": [
    "## Run similar model but without hyperpriors\n",
    "# now we build a model - modeling the score of each group on each time point\n",
    "with pm.Model() as hierarchical:\n",
    "      \n",
    "    a = pm.Normal('a', mu=0, sd=0.1, shape=n_subs)\n",
    "       \n",
    "    b = pm.Normal('b', mu=0, sd=0.1, shape=3)\n",
    "    \n",
    "  \n",
    "    # Model error\n",
    "    eps = pm.HalfCauchy('eps', 1)\n",
    "\n",
    "    y_hat = a[sub_idx] + b[timeIDX] \n",
    "\n",
    "    # Data likelihood\n",
    "    likelihood = pm.Normal('likelihood', mu=y_hat,\n",
    "                           sigma=eps, observed=df_long.value)\n",
    "    \n",
    "    trace = pm.sample(draws=4000, tune=1000, target_accept=0.9, return_inferencedata=True, cores=6)"
   ]
  },
  {
   "cell_type": "code",
   "execution_count": 11,
   "id": "03501ec5",
   "metadata": {},
   "outputs": [
    {
     "data": {
      "text/html": [
       "<div>\n",
       "<style scoped>\n",
       "    .dataframe tbody tr th:only-of-type {\n",
       "        vertical-align: middle;\n",
       "    }\n",
       "\n",
       "    .dataframe tbody tr th {\n",
       "        vertical-align: top;\n",
       "    }\n",
       "\n",
       "    .dataframe thead th {\n",
       "        text-align: right;\n",
       "    }\n",
       "</style>\n",
       "<table border=\"1\" class=\"dataframe\">\n",
       "  <thead>\n",
       "    <tr style=\"text-align: right;\">\n",
       "      <th></th>\n",
       "      <th>mean</th>\n",
       "      <th>sd</th>\n",
       "      <th>hdi_5%</th>\n",
       "      <th>hdi_95%</th>\n",
       "      <th>mcse_mean</th>\n",
       "      <th>mcse_sd</th>\n",
       "      <th>ess_bulk</th>\n",
       "      <th>ess_tail</th>\n",
       "      <th>r_hat</th>\n",
       "    </tr>\n",
       "  </thead>\n",
       "  <tbody>\n",
       "    <tr>\n",
       "      <th>a[0]</th>\n",
       "      <td>-0.019</td>\n",
       "      <td>0.092</td>\n",
       "      <td>-0.172</td>\n",
       "      <td>0.128</td>\n",
       "      <td>0.000</td>\n",
       "      <td>0.001</td>\n",
       "      <td>39726.0</td>\n",
       "      <td>19043.0</td>\n",
       "      <td>1.0</td>\n",
       "    </tr>\n",
       "    <tr>\n",
       "      <th>a[1]</th>\n",
       "      <td>0.052</td>\n",
       "      <td>0.094</td>\n",
       "      <td>-0.105</td>\n",
       "      <td>0.201</td>\n",
       "      <td>0.000</td>\n",
       "      <td>0.001</td>\n",
       "      <td>44066.0</td>\n",
       "      <td>18312.0</td>\n",
       "      <td>1.0</td>\n",
       "    </tr>\n",
       "    <tr>\n",
       "      <th>a[2]</th>\n",
       "      <td>0.010</td>\n",
       "      <td>0.095</td>\n",
       "      <td>-0.145</td>\n",
       "      <td>0.168</td>\n",
       "      <td>0.001</td>\n",
       "      <td>0.001</td>\n",
       "      <td>34968.0</td>\n",
       "      <td>18788.0</td>\n",
       "      <td>1.0</td>\n",
       "    </tr>\n",
       "    <tr>\n",
       "      <th>a[3]</th>\n",
       "      <td>0.044</td>\n",
       "      <td>0.092</td>\n",
       "      <td>-0.102</td>\n",
       "      <td>0.198</td>\n",
       "      <td>0.000</td>\n",
       "      <td>0.001</td>\n",
       "      <td>44106.0</td>\n",
       "      <td>17276.0</td>\n",
       "      <td>1.0</td>\n",
       "    </tr>\n",
       "    <tr>\n",
       "      <th>a[4]</th>\n",
       "      <td>0.036</td>\n",
       "      <td>0.093</td>\n",
       "      <td>-0.112</td>\n",
       "      <td>0.192</td>\n",
       "      <td>0.000</td>\n",
       "      <td>0.001</td>\n",
       "      <td>38828.0</td>\n",
       "      <td>18635.0</td>\n",
       "      <td>1.0</td>\n",
       "    </tr>\n",
       "    <tr>\n",
       "      <th>a[5]</th>\n",
       "      <td>0.027</td>\n",
       "      <td>0.092</td>\n",
       "      <td>-0.123</td>\n",
       "      <td>0.179</td>\n",
       "      <td>0.000</td>\n",
       "      <td>0.001</td>\n",
       "      <td>37051.0</td>\n",
       "      <td>19273.0</td>\n",
       "      <td>1.0</td>\n",
       "    </tr>\n",
       "    <tr>\n",
       "      <th>a[6]</th>\n",
       "      <td>0.107</td>\n",
       "      <td>0.094</td>\n",
       "      <td>-0.046</td>\n",
       "      <td>0.260</td>\n",
       "      <td>0.000</td>\n",
       "      <td>0.000</td>\n",
       "      <td>40479.0</td>\n",
       "      <td>19204.0</td>\n",
       "      <td>1.0</td>\n",
       "    </tr>\n",
       "    <tr>\n",
       "      <th>a[7]</th>\n",
       "      <td>-0.055</td>\n",
       "      <td>0.093</td>\n",
       "      <td>-0.207</td>\n",
       "      <td>0.095</td>\n",
       "      <td>0.000</td>\n",
       "      <td>0.001</td>\n",
       "      <td>37420.0</td>\n",
       "      <td>18947.0</td>\n",
       "      <td>1.0</td>\n",
       "    </tr>\n",
       "    <tr>\n",
       "      <th>a[8]</th>\n",
       "      <td>-0.010</td>\n",
       "      <td>0.094</td>\n",
       "      <td>-0.164</td>\n",
       "      <td>0.141</td>\n",
       "      <td>0.000</td>\n",
       "      <td>0.001</td>\n",
       "      <td>40220.0</td>\n",
       "      <td>17479.0</td>\n",
       "      <td>1.0</td>\n",
       "    </tr>\n",
       "    <tr>\n",
       "      <th>a[9]</th>\n",
       "      <td>0.002</td>\n",
       "      <td>0.092</td>\n",
       "      <td>-0.151</td>\n",
       "      <td>0.154</td>\n",
       "      <td>0.000</td>\n",
       "      <td>0.001</td>\n",
       "      <td>41487.0</td>\n",
       "      <td>17771.0</td>\n",
       "      <td>1.0</td>\n",
       "    </tr>\n",
       "    <tr>\n",
       "      <th>a[10]</th>\n",
       "      <td>0.013</td>\n",
       "      <td>0.094</td>\n",
       "      <td>-0.145</td>\n",
       "      <td>0.161</td>\n",
       "      <td>0.000</td>\n",
       "      <td>0.001</td>\n",
       "      <td>42319.0</td>\n",
       "      <td>18046.0</td>\n",
       "      <td>1.0</td>\n",
       "    </tr>\n",
       "    <tr>\n",
       "      <th>a[11]</th>\n",
       "      <td>-0.084</td>\n",
       "      <td>0.094</td>\n",
       "      <td>-0.241</td>\n",
       "      <td>0.069</td>\n",
       "      <td>0.000</td>\n",
       "      <td>0.000</td>\n",
       "      <td>40612.0</td>\n",
       "      <td>18718.0</td>\n",
       "      <td>1.0</td>\n",
       "    </tr>\n",
       "    <tr>\n",
       "      <th>a[12]</th>\n",
       "      <td>-0.025</td>\n",
       "      <td>0.094</td>\n",
       "      <td>-0.176</td>\n",
       "      <td>0.132</td>\n",
       "      <td>0.000</td>\n",
       "      <td>0.001</td>\n",
       "      <td>46074.0</td>\n",
       "      <td>18910.0</td>\n",
       "      <td>1.0</td>\n",
       "    </tr>\n",
       "    <tr>\n",
       "      <th>a[13]</th>\n",
       "      <td>-0.018</td>\n",
       "      <td>0.093</td>\n",
       "      <td>-0.171</td>\n",
       "      <td>0.134</td>\n",
       "      <td>0.000</td>\n",
       "      <td>0.001</td>\n",
       "      <td>39401.0</td>\n",
       "      <td>16960.0</td>\n",
       "      <td>1.0</td>\n",
       "    </tr>\n",
       "    <tr>\n",
       "      <th>a[14]</th>\n",
       "      <td>-0.026</td>\n",
       "      <td>0.092</td>\n",
       "      <td>-0.174</td>\n",
       "      <td>0.128</td>\n",
       "      <td>0.000</td>\n",
       "      <td>0.001</td>\n",
       "      <td>35581.0</td>\n",
       "      <td>17935.0</td>\n",
       "      <td>1.0</td>\n",
       "    </tr>\n",
       "    <tr>\n",
       "      <th>a[15]</th>\n",
       "      <td>0.018</td>\n",
       "      <td>0.093</td>\n",
       "      <td>-0.138</td>\n",
       "      <td>0.167</td>\n",
       "      <td>0.000</td>\n",
       "      <td>0.001</td>\n",
       "      <td>50260.0</td>\n",
       "      <td>17265.0</td>\n",
       "      <td>1.0</td>\n",
       "    </tr>\n",
       "    <tr>\n",
       "      <th>a[16]</th>\n",
       "      <td>-0.013</td>\n",
       "      <td>0.093</td>\n",
       "      <td>-0.162</td>\n",
       "      <td>0.144</td>\n",
       "      <td>0.000</td>\n",
       "      <td>0.001</td>\n",
       "      <td>39785.0</td>\n",
       "      <td>18689.0</td>\n",
       "      <td>1.0</td>\n",
       "    </tr>\n",
       "    <tr>\n",
       "      <th>a[17]</th>\n",
       "      <td>-0.078</td>\n",
       "      <td>0.094</td>\n",
       "      <td>-0.232</td>\n",
       "      <td>0.079</td>\n",
       "      <td>0.000</td>\n",
       "      <td>0.000</td>\n",
       "      <td>45150.0</td>\n",
       "      <td>18940.0</td>\n",
       "      <td>1.0</td>\n",
       "    </tr>\n",
       "    <tr>\n",
       "      <th>a[18]</th>\n",
       "      <td>0.025</td>\n",
       "      <td>0.095</td>\n",
       "      <td>-0.130</td>\n",
       "      <td>0.183</td>\n",
       "      <td>0.000</td>\n",
       "      <td>0.001</td>\n",
       "      <td>37289.0</td>\n",
       "      <td>19044.0</td>\n",
       "      <td>1.0</td>\n",
       "    </tr>\n",
       "    <tr>\n",
       "      <th>a[19]</th>\n",
       "      <td>0.010</td>\n",
       "      <td>0.094</td>\n",
       "      <td>-0.148</td>\n",
       "      <td>0.163</td>\n",
       "      <td>0.000</td>\n",
       "      <td>0.001</td>\n",
       "      <td>38135.0</td>\n",
       "      <td>18266.0</td>\n",
       "      <td>1.0</td>\n",
       "    </tr>\n",
       "    <tr>\n",
       "      <th>a[20]</th>\n",
       "      <td>-0.041</td>\n",
       "      <td>0.093</td>\n",
       "      <td>-0.200</td>\n",
       "      <td>0.105</td>\n",
       "      <td>0.000</td>\n",
       "      <td>0.001</td>\n",
       "      <td>39847.0</td>\n",
       "      <td>17727.0</td>\n",
       "      <td>1.0</td>\n",
       "    </tr>\n",
       "    <tr>\n",
       "      <th>a[21]</th>\n",
       "      <td>0.042</td>\n",
       "      <td>0.092</td>\n",
       "      <td>-0.106</td>\n",
       "      <td>0.197</td>\n",
       "      <td>0.000</td>\n",
       "      <td>0.001</td>\n",
       "      <td>43273.0</td>\n",
       "      <td>18135.0</td>\n",
       "      <td>1.0</td>\n",
       "    </tr>\n",
       "    <tr>\n",
       "      <th>a[22]</th>\n",
       "      <td>0.011</td>\n",
       "      <td>0.093</td>\n",
       "      <td>-0.143</td>\n",
       "      <td>0.164</td>\n",
       "      <td>0.000</td>\n",
       "      <td>0.001</td>\n",
       "      <td>39998.0</td>\n",
       "      <td>18565.0</td>\n",
       "      <td>1.0</td>\n",
       "    </tr>\n",
       "    <tr>\n",
       "      <th>a[23]</th>\n",
       "      <td>0.032</td>\n",
       "      <td>0.095</td>\n",
       "      <td>-0.130</td>\n",
       "      <td>0.184</td>\n",
       "      <td>0.001</td>\n",
       "      <td>0.001</td>\n",
       "      <td>34006.0</td>\n",
       "      <td>19478.0</td>\n",
       "      <td>1.0</td>\n",
       "    </tr>\n",
       "    <tr>\n",
       "      <th>a[24]</th>\n",
       "      <td>0.062</td>\n",
       "      <td>0.095</td>\n",
       "      <td>-0.100</td>\n",
       "      <td>0.213</td>\n",
       "      <td>0.001</td>\n",
       "      <td>0.001</td>\n",
       "      <td>35372.0</td>\n",
       "      <td>18667.0</td>\n",
       "      <td>1.0</td>\n",
       "    </tr>\n",
       "    <tr>\n",
       "      <th>a[25]</th>\n",
       "      <td>0.063</td>\n",
       "      <td>0.093</td>\n",
       "      <td>-0.087</td>\n",
       "      <td>0.218</td>\n",
       "      <td>0.000</td>\n",
       "      <td>0.001</td>\n",
       "      <td>45169.0</td>\n",
       "      <td>18002.0</td>\n",
       "      <td>1.0</td>\n",
       "    </tr>\n",
       "    <tr>\n",
       "      <th>b[0]</th>\n",
       "      <td>0.145</td>\n",
       "      <td>0.065</td>\n",
       "      <td>0.041</td>\n",
       "      <td>0.253</td>\n",
       "      <td>0.000</td>\n",
       "      <td>0.000</td>\n",
       "      <td>41817.0</td>\n",
       "      <td>19810.0</td>\n",
       "      <td>1.0</td>\n",
       "    </tr>\n",
       "    <tr>\n",
       "      <th>b[1]</th>\n",
       "      <td>0.043</td>\n",
       "      <td>0.066</td>\n",
       "      <td>-0.067</td>\n",
       "      <td>0.150</td>\n",
       "      <td>0.000</td>\n",
       "      <td>0.000</td>\n",
       "      <td>35862.0</td>\n",
       "      <td>18847.0</td>\n",
       "      <td>1.0</td>\n",
       "    </tr>\n",
       "    <tr>\n",
       "      <th>b[2]</th>\n",
       "      <td>-0.002</td>\n",
       "      <td>0.067</td>\n",
       "      <td>-0.114</td>\n",
       "      <td>0.106</td>\n",
       "      <td>0.000</td>\n",
       "      <td>0.000</td>\n",
       "      <td>33486.0</td>\n",
       "      <td>19077.0</td>\n",
       "      <td>1.0</td>\n",
       "    </tr>\n",
       "    <tr>\n",
       "      <th>likelihood_missing[0]</th>\n",
       "      <td>0.073</td>\n",
       "      <td>0.435</td>\n",
       "      <td>-0.647</td>\n",
       "      <td>0.775</td>\n",
       "      <td>0.002</td>\n",
       "      <td>0.003</td>\n",
       "      <td>35203.0</td>\n",
       "      <td>18824.0</td>\n",
       "      <td>1.0</td>\n",
       "    </tr>\n",
       "    <tr>\n",
       "      <th>likelihood_missing[1]</th>\n",
       "      <td>0.008</td>\n",
       "      <td>0.437</td>\n",
       "      <td>-0.703</td>\n",
       "      <td>0.731</td>\n",
       "      <td>0.002</td>\n",
       "      <td>0.003</td>\n",
       "      <td>36182.0</td>\n",
       "      <td>19043.0</td>\n",
       "      <td>1.0</td>\n",
       "    </tr>\n",
       "    <tr>\n",
       "      <th>likelihood_missing[2]</th>\n",
       "      <td>0.024</td>\n",
       "      <td>0.436</td>\n",
       "      <td>-0.688</td>\n",
       "      <td>0.733</td>\n",
       "      <td>0.002</td>\n",
       "      <td>0.003</td>\n",
       "      <td>35394.0</td>\n",
       "      <td>19340.0</td>\n",
       "      <td>1.0</td>\n",
       "    </tr>\n",
       "    <tr>\n",
       "      <th>likelihood_missing[3]</th>\n",
       "      <td>0.007</td>\n",
       "      <td>0.431</td>\n",
       "      <td>-0.720</td>\n",
       "      <td>0.696</td>\n",
       "      <td>0.002</td>\n",
       "      <td>0.003</td>\n",
       "      <td>34058.0</td>\n",
       "      <td>18758.0</td>\n",
       "      <td>1.0</td>\n",
       "    </tr>\n",
       "    <tr>\n",
       "      <th>likelihood_missing[4]</th>\n",
       "      <td>0.060</td>\n",
       "      <td>0.433</td>\n",
       "      <td>-0.650</td>\n",
       "      <td>0.772</td>\n",
       "      <td>0.002</td>\n",
       "      <td>0.003</td>\n",
       "      <td>36401.0</td>\n",
       "      <td>19383.0</td>\n",
       "      <td>1.0</td>\n",
       "    </tr>\n",
       "    <tr>\n",
       "      <th>eps</th>\n",
       "      <td>0.417</td>\n",
       "      <td>0.038</td>\n",
       "      <td>0.356</td>\n",
       "      <td>0.480</td>\n",
       "      <td>0.000</td>\n",
       "      <td>0.000</td>\n",
       "      <td>25379.0</td>\n",
       "      <td>19037.0</td>\n",
       "      <td>1.0</td>\n",
       "    </tr>\n",
       "  </tbody>\n",
       "</table>\n",
       "</div>"
      ],
      "text/plain": [
       "                        mean     sd  hdi_5%  hdi_95%  mcse_mean  mcse_sd  \\\n",
       "a[0]                  -0.019  0.092  -0.172    0.128      0.000    0.001   \n",
       "a[1]                   0.052  0.094  -0.105    0.201      0.000    0.001   \n",
       "a[2]                   0.010  0.095  -0.145    0.168      0.001    0.001   \n",
       "a[3]                   0.044  0.092  -0.102    0.198      0.000    0.001   \n",
       "a[4]                   0.036  0.093  -0.112    0.192      0.000    0.001   \n",
       "a[5]                   0.027  0.092  -0.123    0.179      0.000    0.001   \n",
       "a[6]                   0.107  0.094  -0.046    0.260      0.000    0.000   \n",
       "a[7]                  -0.055  0.093  -0.207    0.095      0.000    0.001   \n",
       "a[8]                  -0.010  0.094  -0.164    0.141      0.000    0.001   \n",
       "a[9]                   0.002  0.092  -0.151    0.154      0.000    0.001   \n",
       "a[10]                  0.013  0.094  -0.145    0.161      0.000    0.001   \n",
       "a[11]                 -0.084  0.094  -0.241    0.069      0.000    0.000   \n",
       "a[12]                 -0.025  0.094  -0.176    0.132      0.000    0.001   \n",
       "a[13]                 -0.018  0.093  -0.171    0.134      0.000    0.001   \n",
       "a[14]                 -0.026  0.092  -0.174    0.128      0.000    0.001   \n",
       "a[15]                  0.018  0.093  -0.138    0.167      0.000    0.001   \n",
       "a[16]                 -0.013  0.093  -0.162    0.144      0.000    0.001   \n",
       "a[17]                 -0.078  0.094  -0.232    0.079      0.000    0.000   \n",
       "a[18]                  0.025  0.095  -0.130    0.183      0.000    0.001   \n",
       "a[19]                  0.010  0.094  -0.148    0.163      0.000    0.001   \n",
       "a[20]                 -0.041  0.093  -0.200    0.105      0.000    0.001   \n",
       "a[21]                  0.042  0.092  -0.106    0.197      0.000    0.001   \n",
       "a[22]                  0.011  0.093  -0.143    0.164      0.000    0.001   \n",
       "a[23]                  0.032  0.095  -0.130    0.184      0.001    0.001   \n",
       "a[24]                  0.062  0.095  -0.100    0.213      0.001    0.001   \n",
       "a[25]                  0.063  0.093  -0.087    0.218      0.000    0.001   \n",
       "b[0]                   0.145  0.065   0.041    0.253      0.000    0.000   \n",
       "b[1]                   0.043  0.066  -0.067    0.150      0.000    0.000   \n",
       "b[2]                  -0.002  0.067  -0.114    0.106      0.000    0.000   \n",
       "likelihood_missing[0]  0.073  0.435  -0.647    0.775      0.002    0.003   \n",
       "likelihood_missing[1]  0.008  0.437  -0.703    0.731      0.002    0.003   \n",
       "likelihood_missing[2]  0.024  0.436  -0.688    0.733      0.002    0.003   \n",
       "likelihood_missing[3]  0.007  0.431  -0.720    0.696      0.002    0.003   \n",
       "likelihood_missing[4]  0.060  0.433  -0.650    0.772      0.002    0.003   \n",
       "eps                    0.417  0.038   0.356    0.480      0.000    0.000   \n",
       "\n",
       "                       ess_bulk  ess_tail  r_hat  \n",
       "a[0]                    39726.0   19043.0    1.0  \n",
       "a[1]                    44066.0   18312.0    1.0  \n",
       "a[2]                    34968.0   18788.0    1.0  \n",
       "a[3]                    44106.0   17276.0    1.0  \n",
       "a[4]                    38828.0   18635.0    1.0  \n",
       "a[5]                    37051.0   19273.0    1.0  \n",
       "a[6]                    40479.0   19204.0    1.0  \n",
       "a[7]                    37420.0   18947.0    1.0  \n",
       "a[8]                    40220.0   17479.0    1.0  \n",
       "a[9]                    41487.0   17771.0    1.0  \n",
       "a[10]                   42319.0   18046.0    1.0  \n",
       "a[11]                   40612.0   18718.0    1.0  \n",
       "a[12]                   46074.0   18910.0    1.0  \n",
       "a[13]                   39401.0   16960.0    1.0  \n",
       "a[14]                   35581.0   17935.0    1.0  \n",
       "a[15]                   50260.0   17265.0    1.0  \n",
       "a[16]                   39785.0   18689.0    1.0  \n",
       "a[17]                   45150.0   18940.0    1.0  \n",
       "a[18]                   37289.0   19044.0    1.0  \n",
       "a[19]                   38135.0   18266.0    1.0  \n",
       "a[20]                   39847.0   17727.0    1.0  \n",
       "a[21]                   43273.0   18135.0    1.0  \n",
       "a[22]                   39998.0   18565.0    1.0  \n",
       "a[23]                   34006.0   19478.0    1.0  \n",
       "a[24]                   35372.0   18667.0    1.0  \n",
       "a[25]                   45169.0   18002.0    1.0  \n",
       "b[0]                    41817.0   19810.0    1.0  \n",
       "b[1]                    35862.0   18847.0    1.0  \n",
       "b[2]                    33486.0   19077.0    1.0  \n",
       "likelihood_missing[0]   35203.0   18824.0    1.0  \n",
       "likelihood_missing[1]   36182.0   19043.0    1.0  \n",
       "likelihood_missing[2]   35394.0   19340.0    1.0  \n",
       "likelihood_missing[3]   34058.0   18758.0    1.0  \n",
       "likelihood_missing[4]   36401.0   19383.0    1.0  \n",
       "eps                     25379.0   19037.0    1.0  "
      ]
     },
     "execution_count": 11,
     "metadata": {},
     "output_type": "execute_result"
    }
   ],
   "source": [
    "az.summary(trace, hdi_prob=.9)"
   ]
  },
  {
   "cell_type": "code",
   "execution_count": 17,
   "id": "b9576e7a",
   "metadata": {},
   "outputs": [
    {
     "data": {
      "text/plain": [
       "<matplotlib.legend.Legend at 0x2b80b293e4d0>"
      ]
     },
     "execution_count": 17,
     "metadata": {},
     "output_type": "execute_result"
    },
    {
     "data": {
      "image/png": "[encoded data removed]",
      "text/plain": [
       "<Figure size 432x288 with 1 Axes>"
      ]
     },
     "metadata": {
      "needs_background": "light"
     },
     "output_type": "display_data"
    }
   ],
   "source": [
    "sns.distplot(trace.posterior['b'].data[:,:,0], label='before')\n",
    "sns.distplot(trace.posterior['b'].data[:,:,1], label='after')\n",
    "sns.distplot(trace.posterior['b'].data[:,:,2], label='30Day')\n",
    "plt.legend()"
   ]
  },
  {
   "cell_type": "code",
   "execution_count": 13,
   "id": "3652af36",
   "metadata": {},
   "outputs": [
    {
     "data": {
      "text/plain": [
       "0.05675"
      ]
     },
     "execution_count": 13,
     "metadata": {},
     "output_type": "execute_result"
    },
    {
     "data": {
      "image/png": "[encoded data removed]",
      "text/plain": [
       "<Figure size 432x288 with 1 Axes>"
      ]
     },
     "metadata": {
      "needs_background": "light"
     },
     "output_type": "display_data"
    }
   ],
   "source": [
    "diffTime = trace.posterior['b'].data[:,:,2] - trace.posterior['b'].data[:,:,0]\n",
    "sns.distplot(diffTime)\n",
    "sum(diffTime.ravel()>0)/len(diffTime.ravel())"
   ]
  },
  {
   "cell_type": "markdown",
   "id": "ccecd709",
   "metadata": {},
   "source": [
    "## Next we calculate the difference between the groups in each time\n",
    "- Althgough the interaction wasn't significant, we still look at this one - as there's a group difference"
   ]
  },
  {
   "cell_type": "code",
   "execution_count": 12,
   "id": "001a1a15",
   "metadata": {},
   "outputs": [
    {
     "name": "stderr",
     "output_type": "stream",
     "text": [
      "Auto-assigning NUTS sampler...\n",
      "Initializing NUTS using jitter+adapt_diag...\n",
      "Multiprocess sampling (4 chains in 4 jobs)\n",
      "NUTS: [sd, groupIdx, Intercept]\n"
     ]
    },
    {
     "data": {
      "text/html": [
       "\n",
       "    <div>\n",
       "        <style>\n",
       "            /* Turns off some styling */\n",
       "            progress {\n",
       "                /* gets rid of default border in Firefox and Opera. */\n",
       "                border: none;\n",
       "                /* Needs to be in here for Safari polyfill so background images work as expected. */\n",
       "                background-size: auto;\n",
       "            }\n",
       "            .progress-bar-interrupted, .progress-bar-interrupted::-webkit-progress-bar {\n",
       "                background: #F44336;\n",
       "            }\n",
       "        </style>\n",
       "      <progress value='8000' class='' max='8000' style='width:300px; height:20px; vertical-align: middle;'></progress>\n",
       "      100.00% [8000/8000 00:02<00:00 Sampling 4 chains, 0 divergences]\n",
       "    </div>\n",
       "    "
      ],
      "text/plain": [
       "<IPython.core.display.HTML object>"
      ]
     },
     "metadata": {},
     "output_type": "display_data"
    },
    {
     "name": "stderr",
     "output_type": "stream",
     "text": [
      "Sampling 4 chains for 1_000 tune and 1_000 draw iterations (4_000 + 4_000 draws total) took 2 seconds.\n"
     ]
    },
    {
     "data": {
      "text/html": [
       "<div>\n",
       "<style scoped>\n",
       "    .dataframe tbody tr th:only-of-type {\n",
       "        vertical-align: middle;\n",
       "    }\n",
       "\n",
       "    .dataframe tbody tr th {\n",
       "        vertical-align: top;\n",
       "    }\n",
       "\n",
       "    .dataframe thead th {\n",
       "        text-align: right;\n",
       "    }\n",
       "</style>\n",
       "<table border=\"1\" class=\"dataframe\">\n",
       "  <thead>\n",
       "    <tr style=\"text-align: right;\">\n",
       "      <th></th>\n",
       "      <th>mean</th>\n",
       "      <th>sd</th>\n",
       "      <th>hdi_5%</th>\n",
       "      <th>hdi_95%</th>\n",
       "      <th>mcse_mean</th>\n",
       "      <th>mcse_sd</th>\n",
       "      <th>ess_bulk</th>\n",
       "      <th>ess_tail</th>\n",
       "      <th>r_hat</th>\n",
       "    </tr>\n",
       "  </thead>\n",
       "  <tbody>\n",
       "    <tr>\n",
       "      <th>Intercept</th>\n",
       "      <td>0.249</td>\n",
       "      <td>0.113</td>\n",
       "      <td>0.074</td>\n",
       "      <td>0.442</td>\n",
       "      <td>0.003</td>\n",
       "      <td>0.002</td>\n",
       "      <td>1556.0</td>\n",
       "      <td>1740.0</td>\n",
       "      <td>1.0</td>\n",
       "    </tr>\n",
       "    <tr>\n",
       "      <th>groupIdx</th>\n",
       "      <td>-0.003</td>\n",
       "      <td>0.158</td>\n",
       "      <td>-0.244</td>\n",
       "      <td>0.264</td>\n",
       "      <td>0.004</td>\n",
       "      <td>0.003</td>\n",
       "      <td>1517.0</td>\n",
       "      <td>1878.0</td>\n",
       "      <td>1.0</td>\n",
       "    </tr>\n",
       "    <tr>\n",
       "      <th>sd</th>\n",
       "      <td>0.401</td>\n",
       "      <td>0.062</td>\n",
       "      <td>0.306</td>\n",
       "      <td>0.500</td>\n",
       "      <td>0.001</td>\n",
       "      <td>0.001</td>\n",
       "      <td>2366.0</td>\n",
       "      <td>1933.0</td>\n",
       "      <td>1.0</td>\n",
       "    </tr>\n",
       "  </tbody>\n",
       "</table>\n",
       "</div>"
      ],
      "text/plain": [
       "            mean     sd  hdi_5%  hdi_95%  mcse_mean  mcse_sd  ess_bulk  \\\n",
       "Intercept  0.249  0.113   0.074    0.442      0.003    0.002    1556.0   \n",
       "groupIdx  -0.003  0.158  -0.244    0.264      0.004    0.003    1517.0   \n",
       "sd         0.401  0.062   0.306    0.500      0.001    0.001    2366.0   \n",
       "\n",
       "           ess_tail  r_hat  \n",
       "Intercept    1740.0    1.0  \n",
       "groupIdx     1878.0    1.0  \n",
       "sd           1933.0    1.0  "
      ]
     },
     "execution_count": 12,
     "metadata": {},
     "output_type": "execute_result"
    }
   ],
   "source": [
    "with pm.Model() as model_glm:\n",
    "    pm.GLM.from_formula('vmpfc1 ~ groupIdx', df)\n",
    "    traceSes1 = pm.sample(return_inferencedata=True)\n",
    "az.summary(traceSes1, hdi_prob=.9)"
   ]
  },
  {
   "cell_type": "code",
   "execution_count": 13,
   "id": "46f2b9bf",
   "metadata": {},
   "outputs": [
    {
     "name": "stderr",
     "output_type": "stream",
     "text": [
      "Auto-assigning NUTS sampler...\n",
      "Initializing NUTS using jitter+adapt_diag...\n",
      "Multiprocess sampling (4 chains in 4 jobs)\n",
      "NUTS: [sd, groupIdx, Intercept]\n"
     ]
    },
    {
     "data": {
      "text/html": [
       "\n",
       "    <div>\n",
       "        <style>\n",
       "            /* Turns off some styling */\n",
       "            progress {\n",
       "                /* gets rid of default border in Firefox and Opera. */\n",
       "                border: none;\n",
       "                /* Needs to be in here for Safari polyfill so background images work as expected. */\n",
       "                background-size: auto;\n",
       "            }\n",
       "            .progress-bar-interrupted, .progress-bar-interrupted::-webkit-progress-bar {\n",
       "                background: #F44336;\n",
       "            }\n",
       "        </style>\n",
       "      <progress value='8000' class='' max='8000' style='width:300px; height:20px; vertical-align: middle;'></progress>\n",
       "      100.00% [8000/8000 00:02<00:00 Sampling 4 chains, 0 divergences]\n",
       "    </div>\n",
       "    "
      ],
      "text/plain": [
       "<IPython.core.display.HTML object>"
      ]
     },
     "metadata": {},
     "output_type": "display_data"
    },
    {
     "name": "stderr",
     "output_type": "stream",
     "text": [
      "Sampling 4 chains for 1_000 tune and 1_000 draw iterations (4_000 + 4_000 draws total) took 2 seconds.\n"
     ]
    }
   ],
   "source": [
    "with pm.Model() as model_glm:\n",
    "    pm.GLM.from_formula('vmpfc2 ~ groupIdx', df)\n",
    "    traceSes2 = pm.sample(return_inferencedata=True)"
   ]
  },
  {
   "cell_type": "code",
   "execution_count": 14,
   "id": "1dfc0fc9",
   "metadata": {},
   "outputs": [
    {
     "data": {
      "text/html": [
       "<div>\n",
       "<style scoped>\n",
       "    .dataframe tbody tr th:only-of-type {\n",
       "        vertical-align: middle;\n",
       "    }\n",
       "\n",
       "    .dataframe tbody tr th {\n",
       "        vertical-align: top;\n",
       "    }\n",
       "\n",
       "    .dataframe thead th {\n",
       "        text-align: right;\n",
       "    }\n",
       "</style>\n",
       "<table border=\"1\" class=\"dataframe\">\n",
       "  <thead>\n",
       "    <tr style=\"text-align: right;\">\n",
       "      <th></th>\n",
       "      <th>mean</th>\n",
       "      <th>sd</th>\n",
       "      <th>hdi_5%</th>\n",
       "      <th>hdi_95%</th>\n",
       "      <th>mcse_mean</th>\n",
       "      <th>mcse_sd</th>\n",
       "      <th>ess_bulk</th>\n",
       "      <th>ess_tail</th>\n",
       "      <th>r_hat</th>\n",
       "    </tr>\n",
       "  </thead>\n",
       "  <tbody>\n",
       "    <tr>\n",
       "      <th>Intercept</th>\n",
       "      <td>0.092</td>\n",
       "      <td>0.162</td>\n",
       "      <td>-0.172</td>\n",
       "      <td>0.364</td>\n",
       "      <td>0.004</td>\n",
       "      <td>0.003</td>\n",
       "      <td>1809.0</td>\n",
       "      <td>1780.0</td>\n",
       "      <td>1.0</td>\n",
       "    </tr>\n",
       "    <tr>\n",
       "      <th>groupIdx</th>\n",
       "      <td>-0.026</td>\n",
       "      <td>0.227</td>\n",
       "      <td>-0.410</td>\n",
       "      <td>0.330</td>\n",
       "      <td>0.005</td>\n",
       "      <td>0.004</td>\n",
       "      <td>1810.0</td>\n",
       "      <td>1894.0</td>\n",
       "      <td>1.0</td>\n",
       "    </tr>\n",
       "    <tr>\n",
       "      <th>sd</th>\n",
       "      <td>0.552</td>\n",
       "      <td>0.089</td>\n",
       "      <td>0.424</td>\n",
       "      <td>0.699</td>\n",
       "      <td>0.002</td>\n",
       "      <td>0.001</td>\n",
       "      <td>1813.0</td>\n",
       "      <td>1678.0</td>\n",
       "      <td>1.0</td>\n",
       "    </tr>\n",
       "  </tbody>\n",
       "</table>\n",
       "</div>"
      ],
      "text/plain": [
       "            mean     sd  hdi_5%  hdi_95%  mcse_mean  mcse_sd  ess_bulk  \\\n",
       "Intercept  0.092  0.162  -0.172    0.364      0.004    0.003    1809.0   \n",
       "groupIdx  -0.026  0.227  -0.410    0.330      0.005    0.004    1810.0   \n",
       "sd         0.552  0.089   0.424    0.699      0.002    0.001    1813.0   \n",
       "\n",
       "           ess_tail  r_hat  \n",
       "Intercept    1780.0    1.0  \n",
       "groupIdx     1894.0    1.0  \n",
       "sd           1678.0    1.0  "
      ]
     },
     "execution_count": 14,
     "metadata": {},
     "output_type": "execute_result"
    }
   ],
   "source": [
    "az.summary(traceSes2, hdi_prob=.9)"
   ]
  },
  {
   "cell_type": "code",
   "execution_count": 15,
   "id": "e4a25e7a",
   "metadata": {},
   "outputs": [
    {
     "name": "stderr",
     "output_type": "stream",
     "text": [
      "Auto-assigning NUTS sampler...\n",
      "Initializing NUTS using jitter+adapt_diag...\n",
      "Multiprocess sampling (4 chains in 4 jobs)\n",
      "NUTS: [sd, groupIdx, Intercept]\n"
     ]
    },
    {
     "data": {
      "text/html": [
       "\n",
       "    <div>\n",
       "        <style>\n",
       "            /* Turns off some styling */\n",
       "            progress {\n",
       "                /* gets rid of default border in Firefox and Opera. */\n",
       "                border: none;\n",
       "                /* Needs to be in here for Safari polyfill so background images work as expected. */\n",
       "                background-size: auto;\n",
       "            }\n",
       "            .progress-bar-interrupted, .progress-bar-interrupted::-webkit-progress-bar {\n",
       "                background: #F44336;\n",
       "            }\n",
       "        </style>\n",
       "      <progress value='8000' class='' max='8000' style='width:300px; height:20px; vertical-align: middle;'></progress>\n",
       "      100.00% [8000/8000 00:02<00:00 Sampling 4 chains, 0 divergences]\n",
       "    </div>\n",
       "    "
      ],
      "text/plain": [
       "<IPython.core.display.HTML object>"
      ]
     },
     "metadata": {},
     "output_type": "display_data"
    },
    {
     "name": "stderr",
     "output_type": "stream",
     "text": [
      "Sampling 4 chains for 1_000 tune and 1_000 draw iterations (4_000 + 4_000 draws total) took 2 seconds.\n",
      "The acceptance probability does not match the target. It is 0.889497413848696, but should be close to 0.8. Try to increase the number of tuning steps.\n"
     ]
    }
   ],
   "source": [
    "with pm.Model() as model_glm:\n",
    "    pm.GLM.from_formula('vmpfc3 ~ groupIdx', df)\n",
    "    traceSes3 = pm.sample(return_inferencedata=True)"
   ]
  },
  {
   "cell_type": "code",
   "execution_count": 16,
   "id": "8ccc8e73",
   "metadata": {},
   "outputs": [
    {
     "data": {
      "text/html": [
       "<div>\n",
       "<style scoped>\n",
       "    .dataframe tbody tr th:only-of-type {\n",
       "        vertical-align: middle;\n",
       "    }\n",
       "\n",
       "    .dataframe tbody tr th {\n",
       "        vertical-align: top;\n",
       "    }\n",
       "\n",
       "    .dataframe thead th {\n",
       "        text-align: right;\n",
       "    }\n",
       "</style>\n",
       "<table border=\"1\" class=\"dataframe\">\n",
       "  <thead>\n",
       "    <tr style=\"text-align: right;\">\n",
       "      <th></th>\n",
       "      <th>mean</th>\n",
       "      <th>sd</th>\n",
       "      <th>hdi_5%</th>\n",
       "      <th>hdi_95%</th>\n",
       "      <th>mcse_mean</th>\n",
       "      <th>mcse_sd</th>\n",
       "      <th>ess_bulk</th>\n",
       "      <th>ess_tail</th>\n",
       "      <th>r_hat</th>\n",
       "    </tr>\n",
       "  </thead>\n",
       "  <tbody>\n",
       "    <tr>\n",
       "      <th>Intercept</th>\n",
       "      <td>0.045</td>\n",
       "      <td>0.140</td>\n",
       "      <td>-0.174</td>\n",
       "      <td>0.279</td>\n",
       "      <td>0.003</td>\n",
       "      <td>0.002</td>\n",
       "      <td>1938.0</td>\n",
       "      <td>2144.0</td>\n",
       "      <td>1.0</td>\n",
       "    </tr>\n",
       "    <tr>\n",
       "      <th>groupIdx</th>\n",
       "      <td>-0.086</td>\n",
       "      <td>0.190</td>\n",
       "      <td>-0.377</td>\n",
       "      <td>0.237</td>\n",
       "      <td>0.004</td>\n",
       "      <td>0.003</td>\n",
       "      <td>1885.0</td>\n",
       "      <td>1997.0</td>\n",
       "      <td>1.0</td>\n",
       "    </tr>\n",
       "    <tr>\n",
       "      <th>sd</th>\n",
       "      <td>0.422</td>\n",
       "      <td>0.074</td>\n",
       "      <td>0.306</td>\n",
       "      <td>0.535</td>\n",
       "      <td>0.002</td>\n",
       "      <td>0.001</td>\n",
       "      <td>1988.0</td>\n",
       "      <td>1770.0</td>\n",
       "      <td>1.0</td>\n",
       "    </tr>\n",
       "  </tbody>\n",
       "</table>\n",
       "</div>"
      ],
      "text/plain": [
       "            mean     sd  hdi_5%  hdi_95%  mcse_mean  mcse_sd  ess_bulk  \\\n",
       "Intercept  0.045  0.140  -0.174    0.279      0.003    0.002    1938.0   \n",
       "groupIdx  -0.086  0.190  -0.377    0.237      0.004    0.003    1885.0   \n",
       "sd         0.422  0.074   0.306    0.535      0.002    0.001    1988.0   \n",
       "\n",
       "           ess_tail  r_hat  \n",
       "Intercept    2144.0    1.0  \n",
       "groupIdx     1997.0    1.0  \n",
       "sd           1770.0    1.0  "
      ]
     },
     "execution_count": 16,
     "metadata": {},
     "output_type": "execute_result"
    }
   ],
   "source": [
    "az.summary(traceSes3, hdi_prob=.9)"
   ]
  },
  {
   "cell_type": "markdown",
   "id": "91d59877",
   "metadata": {},
   "source": [
    "## Using a different method for assessing"
   ]
  },
  {
   "cell_type": "code",
   "execution_count": 19,
   "id": "11da7cab",
   "metadata": {},
   "outputs": [],
   "source": [
    "## create a function that will simply run the model for each session\n",
    "def runModel(variable):\n",
    "    with pm.Model() as hierarchical:\n",
    "      \n",
    "        a = pm.Normal('a', mu=0, sd=1) \n",
    "        bMed = pm.Normal('bMed', mu=0, sd=1, shape=2) #\n",
    "\n",
    "        # Model error\n",
    "        eps = pm.HalfCauchy('eps', 5)\n",
    "\n",
    "        y_hat = a + bMed[df.groupIdx]\n",
    "\n",
    "        # Data likelihood\n",
    "        likelihood = pm.Normal('likelihood', mu=y_hat,\n",
    "                               sigma=eps, observed=df[str(variable)])\n",
    "\n",
    "        trace = pm.sample(draws=4000, tune=2000,target_accept=0.9, return_inferencedata=False, cores = 6)\n",
    "        diff = trace['bMed'][:,1] - trace['bMed'][:,0]\n",
    "    return trace, diff"
   ]
  },
  {
   "cell_type": "code",
   "execution_count": 20,
   "id": "f3ee54be",
   "metadata": {},
   "outputs": [
    {
     "name": "stderr",
     "output_type": "stream",
     "text": [
      "Auto-assigning NUTS sampler...\n",
      "Initializing NUTS using jitter+adapt_diag...\n",
      "Multiprocess sampling (6 chains in 6 jobs)\n",
      "NUTS: [eps, bMed, a]\n"
     ]
    },
    {
     "data": {
      "text/html": [
       "\n",
       "    <div>\n",
       "        <style>\n",
       "            /* Turns off some styling */\n",
       "            progress {\n",
       "                /* gets rid of default border in Firefox and Opera. */\n",
       "                border: none;\n",
       "                /* Needs to be in here for Safari polyfill so background images work as expected. */\n",
       "                background-size: auto;\n",
       "            }\n",
       "            .progress-bar-interrupted, .progress-bar-interrupted::-webkit-progress-bar {\n",
       "                background: #F44336;\n",
       "            }\n",
       "        </style>\n",
       "      <progress value='36000' class='' max='36000' style='width:300px; height:20px; vertical-align: middle;'></progress>\n",
       "      100.00% [36000/36000 00:20<00:00 Sampling 6 chains, 0 divergences]\n",
       "    </div>\n",
       "    "
      ],
      "text/plain": [
       "<IPython.core.display.HTML object>"
      ]
     },
     "metadata": {},
     "output_type": "display_data"
    },
    {
     "name": "stderr",
     "output_type": "stream",
     "text": [
      "Sampling 6 chains for 2_000 tune and 4_000 draw iterations (12_000 + 24_000 draws total) took 21 seconds.\n"
     ]
    }
   ],
   "source": [
    "ses1trace, ses1Diff = runModel('vmpfc1')"
   ]
  },
  {
   "cell_type": "code",
   "execution_count": 21,
   "id": "8307756a",
   "metadata": {},
   "outputs": [
    {
     "name": "stdout",
     "output_type": "stream",
     "text": [
      "Group difference is 0.4980833333333333\n"
     ]
    },
    {
     "data": {
      "image/png": "[encoded data removed]",
      "text/plain": [
       "<Figure size 432x288 with 1 Axes>"
      ]
     },
     "metadata": {
      "needs_background": "light"
     },
     "output_type": "display_data"
    }
   ],
   "source": [
    "pm.summary(ses1trace)\n",
    "sns.distplot(ses1Diff)\n",
    "print(f'Group difference is {sum(ses1Diff>0)/len(ses1Diff)}')"
   ]
  },
  {
   "cell_type": "code",
   "execution_count": 22,
   "id": "30df6895",
   "metadata": {},
   "outputs": [
    {
     "name": "stderr",
     "output_type": "stream",
     "text": [
      "Auto-assigning NUTS sampler...\n",
      "Initializing NUTS using jitter+adapt_diag...\n",
      "Multiprocess sampling (6 chains in 6 jobs)\n",
      "NUTS: [likelihood_missing, eps, bMed, a]\n"
     ]
    },
    {
     "data": {
      "text/html": [
       "\n",
       "    <div>\n",
       "        <style>\n",
       "            /* Turns off some styling */\n",
       "            progress {\n",
       "                /* gets rid of default border in Firefox and Opera. */\n",
       "                border: none;\n",
       "                /* Needs to be in here for Safari polyfill so background images work as expected. */\n",
       "                background-size: auto;\n",
       "            }\n",
       "            .progress-bar-interrupted, .progress-bar-interrupted::-webkit-progress-bar {\n",
       "                background: #F44336;\n",
       "            }\n",
       "        </style>\n",
       "      <progress value='36000' class='' max='36000' style='width:300px; height:20px; vertical-align: middle;'></progress>\n",
       "      100.00% [36000/36000 00:20<00:00 Sampling 6 chains, 0 divergences]\n",
       "    </div>\n",
       "    "
      ],
      "text/plain": [
       "<IPython.core.display.HTML object>"
      ]
     },
     "metadata": {},
     "output_type": "display_data"
    },
    {
     "name": "stderr",
     "output_type": "stream",
     "text": [
      "Sampling 6 chains for 2_000 tune and 4_000 draw iterations (12_000 + 24_000 draws total) took 21 seconds.\n"
     ]
    },
    {
     "name": "stdout",
     "output_type": "stream",
     "text": [
      "Group difference is 0.45458333333333334\n"
     ]
    },
    {
     "data": {
      "image/png": "[encoded data removed]",
      "text/plain": [
       "<Figure size 432x288 with 1 Axes>"
      ]
     },
     "metadata": {
      "needs_background": "light"
     },
     "output_type": "display_data"
    }
   ],
   "source": [
    "ses2trace, ses2Diff = runModel('vmpfc2')\n",
    "pm.summary(ses2trace)\n",
    "sns.distplot(ses2Diff)\n",
    "print(f'Group difference is {sum(ses2Diff>0)/len(ses2Diff)}')"
   ]
  },
  {
   "cell_type": "code",
   "execution_count": 23,
   "id": "7a6271cc",
   "metadata": {},
   "outputs": [
    {
     "name": "stderr",
     "output_type": "stream",
     "text": [
      "Auto-assigning NUTS sampler...\n",
      "Initializing NUTS using jitter+adapt_diag...\n",
      "Multiprocess sampling (6 chains in 6 jobs)\n",
      "NUTS: [likelihood_missing, eps, bMed, a]\n"
     ]
    },
    {
     "data": {
      "text/html": [
       "\n",
       "    <div>\n",
       "        <style>\n",
       "            /* Turns off some styling */\n",
       "            progress {\n",
       "                /* gets rid of default border in Firefox and Opera. */\n",
       "                border: none;\n",
       "                /* Needs to be in here for Safari polyfill so background images work as expected. */\n",
       "                background-size: auto;\n",
       "            }\n",
       "            .progress-bar-interrupted, .progress-bar-interrupted::-webkit-progress-bar {\n",
       "                background: #F44336;\n",
       "            }\n",
       "        </style>\n",
       "      <progress value='36000' class='' max='36000' style='width:300px; height:20px; vertical-align: middle;'></progress>\n",
       "      100.00% [36000/36000 00:28<00:00 Sampling 6 chains, 5 divergences]\n",
       "    </div>\n",
       "    "
      ],
      "text/plain": [
       "<IPython.core.display.HTML object>"
      ]
     },
     "metadata": {},
     "output_type": "display_data"
    },
    {
     "name": "stderr",
     "output_type": "stream",
     "text": [
      "Sampling 6 chains for 2_000 tune and 4_000 draw iterations (12_000 + 24_000 draws total) took 29 seconds.\n",
      "There were 4 divergences after tuning. Increase `target_accept` or reparameterize.\n",
      "There was 1 divergence after tuning. Increase `target_accept` or reparameterize.\n"
     ]
    },
    {
     "name": "stdout",
     "output_type": "stream",
     "text": [
      "Group difference is 0.31104166666666666\n"
     ]
    },
    {
     "data": {
      "image/png": "[encoded data removed]",
      "text/plain": [
       "<Figure size 432x288 with 1 Axes>"
      ]
     },
     "metadata": {
      "needs_background": "light"
     },
     "output_type": "display_data"
    }
   ],
   "source": [
    "ses3trace, ses3Diff = runModel('vmpfc3')\n",
    "pm.summary(ses3trace)\n",
    "sns.distplot(ses3Diff)\n",
    "print(f'Group difference is {sum(ses3Diff>0)/len(ses3Diff)}')"
   ]
  },
  {
   "cell_type": "markdown",
   "id": "5158bf5d",
   "metadata": {},
   "source": [
    "## Plotting"
   ]
  },
  {
   "cell_type": "code",
   "execution_count": null,
   "id": "d31637f1",
   "metadata": {},
   "outputs": [],
   "source": [
    "# set variables\n",
    "def plotDiff(depVar,indepVar, trace):\n",
    "    sns.set_style(\"ticks\") # set style\n",
    "    y = str(depVar)\n",
    "    dfPlot = df\n",
    "    ci = np.quantile(trace.posterior[str(indepVar)], [.05,.95])\n",
    "    fig, (ax1, ax2) = plt.subplots(1,2, figsize=(3, 5),gridspec_kw={'width_ratios': [1, .2],\n",
    "                                                            'wspace':.1})\n",
    "    g1 = sns.stripplot(y= y, x='group', data=dfPlot, size = 8, ax=ax1)\n",
    "    sns.boxplot(y= y, x='group', data=dfPlot,  ax=ax1,\n",
    "                boxprops=dict(alpha=.3))\n",
    "    g2 = sns.distplot(trace.posterior[str(indepVar)], ax = ax2, vertical=True)\n",
    "    ax2.vlines(x=0.001,ymin=ci[0], ymax=ci[1], color='black', \n",
    "               linewidth = 3, linestyle = \"-\")\n",
    "\n",
    "    #g3.set_ylim(-.7, .7)\n",
    "    #ax1.set_ylim(-.7,.7)\n",
    "    ax2.set_ylim(g1.get_ylim()) # use first graph's limits to get the relevant for this one\n",
    "    ax2.yaxis.tick_right()\n",
    "    ax2.set_xticks([])\n",
    "    ax2.set_ylabel(\"Difference between groups\", fontsize=14) \n",
    "    ax2.yaxis.set_label_position(\"right\")\n",
    "    ax1.set_ylabel(\"vmPFC reactivity to sad script\", fontsize=12)\n",
    "    ax1.set_xlabel(\"Group\", fontsize=14)\n",
    "    fig.savefig( str(depVar) + 'Reactivity.png', dpi=300, bbox_inches='tight')\n",
    "    return fig"
   ]
  },
  {
   "cell_type": "code",
   "execution_count": null,
   "id": "c91620b0",
   "metadata": {},
   "outputs": [],
   "source": [
    "plt.figure(figsize=(30,30))\n",
    "ax1 = plotDiff('vmpfc1','groupIdx',traceSes1)\n",
    "ax2 = plotDiff('vmpfc2','groupIdx',traceSes2)\n",
    "ax3 = plotDiff('vmpfc3','groupIdx',traceSes3)"
   ]
  }
 ],
 "metadata": {
  "kernelspec": {
   "display_name": "Python 3",
   "language": "python",
   "name": "python3"
  },
  "language_info": {
   "codemirror_mode": {
    "name": "ipython",
    "version": 3
   },
   "file_extension": ".py",
   "mimetype": "text/x-python",
   "name": "python",
   "nbconvert_exporter": "python",
   "pygments_lexer": "ipython3",
   "version": "3.7.10"
  }
 },
 "nbformat": 4,
 "nbformat_minor": 5
}
