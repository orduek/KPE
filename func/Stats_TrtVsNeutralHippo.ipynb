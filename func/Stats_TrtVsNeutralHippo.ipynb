{
 "cells": [
  {
   "cell_type": "markdown",
   "id": "6be63692",
   "metadata": {},
   "source": [
    "## Calculate differences\n",
    "- Calculate differences using different models on the effect of Trauma vs. Sad on hippocampus"
   ]
  },
  {
   "cell_type": "code",
   "execution_count": 1,
   "id": "d3fdd094",
   "metadata": {},
   "outputs": [],
   "source": [
    "import warnings\n",
    "warnings.filterwarnings('ignore')"
   ]
  },
  {
   "cell_type": "code",
   "execution_count": 1,
   "id": "2044bf5e",
   "metadata": {},
   "outputs": [],
   "source": [
    "import pandas as pd\n",
    "import numpy as np\n",
    "import seaborn as sns\n",
    "import matplotlib.pyplot as plt\n",
    "import pymc as pm\n",
    "import arviz as az\n",
    "\n",
    "# regular GLMs\n",
    "#import pingouin as pg\n",
    "import statsmodels.api as sm\n",
    "import statsmodels.formula.api as smf"
   ]
  },
  {
   "cell_type": "code",
   "execution_count": 12,
   "id": "60284eb7",
   "metadata": {},
   "outputs": [
    {
     "data": {
      "text/html": [
       "<div>\n",
       "<style scoped>\n",
       "    .dataframe tbody tr th:only-of-type {\n",
       "        vertical-align: middle;\n",
       "    }\n",
       "\n",
       "    .dataframe tbody tr th {\n",
       "        vertical-align: top;\n",
       "    }\n",
       "\n",
       "    .dataframe thead th {\n",
       "        text-align: right;\n",
       "    }\n",
       "</style>\n",
       "<table border=\"1\" class=\"dataframe\">\n",
       "  <thead>\n",
       "    <tr style=\"text-align: right;\">\n",
       "      <th></th>\n",
       "      <th>scr_id</th>\n",
       "      <th>groupIdx</th>\n",
       "      <th>variable</th>\n",
       "      <th>value</th>\n",
       "    </tr>\n",
       "  </thead>\n",
       "  <tbody>\n",
       "    <tr>\n",
       "      <th>0</th>\n",
       "      <td>KPE008</td>\n",
       "      <td>1</td>\n",
       "      <td>hippo1</td>\n",
       "      <td>0.464944</td>\n",
       "    </tr>\n",
       "    <tr>\n",
       "      <th>1</th>\n",
       "      <td>KPE1223</td>\n",
       "      <td>1</td>\n",
       "      <td>hippo1</td>\n",
       "      <td>0.088564</td>\n",
       "    </tr>\n",
       "    <tr>\n",
       "      <th>2</th>\n",
       "      <td>KPE1253</td>\n",
       "      <td>0</td>\n",
       "      <td>hippo1</td>\n",
       "      <td>-0.182786</td>\n",
       "    </tr>\n",
       "    <tr>\n",
       "      <th>3</th>\n",
       "      <td>KPE1263</td>\n",
       "      <td>0</td>\n",
       "      <td>hippo1</td>\n",
       "      <td>-0.387857</td>\n",
       "    </tr>\n",
       "    <tr>\n",
       "      <th>4</th>\n",
       "      <td>KPE1293</td>\n",
       "      <td>1</td>\n",
       "      <td>hippo1</td>\n",
       "      <td>0.085905</td>\n",
       "    </tr>\n",
       "    <tr>\n",
       "      <th>...</th>\n",
       "      <td>...</td>\n",
       "      <td>...</td>\n",
       "      <td>...</td>\n",
       "      <td>...</td>\n",
       "    </tr>\n",
       "    <tr>\n",
       "      <th>76</th>\n",
       "      <td>KPE1561</td>\n",
       "      <td>0</td>\n",
       "      <td>hippo3</td>\n",
       "      <td>0.102486</td>\n",
       "    </tr>\n",
       "    <tr>\n",
       "      <th>77</th>\n",
       "      <td>KPE1573</td>\n",
       "      <td>1</td>\n",
       "      <td>hippo3</td>\n",
       "      <td>0.529858</td>\n",
       "    </tr>\n",
       "    <tr>\n",
       "      <th>78</th>\n",
       "      <td>KPE1578</td>\n",
       "      <td>0</td>\n",
       "      <td>hippo3</td>\n",
       "      <td>0.049309</td>\n",
       "    </tr>\n",
       "    <tr>\n",
       "      <th>79</th>\n",
       "      <td>KPE1587</td>\n",
       "      <td>1</td>\n",
       "      <td>hippo3</td>\n",
       "      <td>NaN</td>\n",
       "    </tr>\n",
       "    <tr>\n",
       "      <th>80</th>\n",
       "      <td>KPE1612</td>\n",
       "      <td>0</td>\n",
       "      <td>hippo3</td>\n",
       "      <td>0.205522</td>\n",
       "    </tr>\n",
       "  </tbody>\n",
       "</table>\n",
       "<p>81 rows × 4 columns</p>\n",
       "</div>"
      ],
      "text/plain": [
       "     scr_id  groupIdx variable     value\n",
       "0    KPE008         1   hippo1  0.464944\n",
       "1   KPE1223         1   hippo1  0.088564\n",
       "2   KPE1253         0   hippo1 -0.182786\n",
       "3   KPE1263         0   hippo1 -0.387857\n",
       "4   KPE1293         1   hippo1  0.085905\n",
       "..      ...       ...      ...       ...\n",
       "76  KPE1561         0   hippo3  0.102486\n",
       "77  KPE1573         1   hippo3  0.529858\n",
       "78  KPE1578         0   hippo3  0.049309\n",
       "79  KPE1587         1   hippo3       NaN\n",
       "80  KPE1612         0   hippo3  0.205522\n",
       "\n",
       "[81 rows x 4 columns]"
      ]
     },
     "execution_count": 12,
     "metadata": {},
     "output_type": "execute_result"
    }
   ],
   "source": [
    "## Load amygdala database\n",
    "df = pd.read_csv('amg_TraumavsNeutral.csv')#('TraumavsNeutral_threeSes.csv')\n",
    "# create a long format for analysis\n",
    "df_long = pd.melt(df, id_vars=['scr_id','groupIdx'], value_vars=['hippo1','hippo2','hippo3'])\n",
    "df_long#.to_csv('hippo_df_long1.csv', index=False)"
   ]
  },
  {
   "cell_type": "code",
   "execution_count": 13,
   "id": "b23e09b6",
   "metadata": {},
   "outputs": [
    {
     "name": "stdout",
     "output_type": "stream",
     "text": [
      "                Mixed Linear Model Regression Results\n",
      "======================================================================\n",
      "Model:                  MixedLM      Dependent Variable:      value   \n",
      "No. Observations:       75           Method:                  REML    \n",
      "No. Groups:             27           Scale:                   0.1367  \n",
      "Min. group size:        2            Log-Likelihood:          -39.1556\n",
      "Max. group size:        3            Converged:               Yes     \n",
      "Mean group size:        2.8                                           \n",
      "----------------------------------------------------------------------\n",
      "                            Coef.  Std.Err.   z    P>|z| [0.025 0.975]\n",
      "----------------------------------------------------------------------\n",
      "Intercept                   -0.031    0.106 -0.294 0.768 -0.240  0.177\n",
      "variable[T.hippo2]           0.217    0.148  1.463 0.143 -0.074  0.507\n",
      "variable[T.hippo3]           0.041    0.156  0.262 0.793 -0.265  0.347\n",
      "groupIdx                     0.059    0.148  0.398 0.691 -0.231  0.348\n",
      "variable[T.hippo2]:groupIdx -0.358    0.204 -1.757 0.079 -0.757  0.041\n",
      "variable[T.hippo3]:groupIdx -0.224    0.214 -1.048 0.295 -0.644  0.195\n",
      "Group Var                    0.010    0.054                           \n",
      "======================================================================\n",
      "\n"
     ]
    }
   ],
   "source": [
    "## Start with simple GLM models (using statsmodel)\n",
    "glm = smf.mixedlm('value ~ variable * groupIdx', data=df_long, groups = df_long.scr_id, \n",
    "                 missing='drop')\n",
    "model1 = glm.fit()\n",
    "print(model1.summary())"
   ]
  },
  {
   "cell_type": "code",
   "execution_count": 14,
   "id": "356b54cd",
   "metadata": {},
   "outputs": [
    {
     "name": "stdout",
     "output_type": "stream",
     "text": [
      "\n",
      "=============\n",
      "ANOVA SUMMARY\n",
      "=============\n",
      "\n",
      "Source          SS    DF1    DF2     MS      F    p-unc    np2      eps\n",
      "-----------  -----  -----  -----  -----  -----  -------  -----  -------\n",
      "groupIdx     0.447      1     19  0.447  2.311    0.145  0.108  nan\n",
      "variable     0.121      2     38  0.061  0.419    0.661  0.022    0.988\n",
      "Interaction  0.532      2     38  0.266  1.836    0.173  0.088  nan\n",
      "\n"
     ]
    }
   ],
   "source": [
    "# mixed anova\n",
    "aov = pg.mixed_anova(data=df_long, dv='value', between='groupIdx', within='variable',\n",
    "                     subject='scr_id', correction=False, effsize=\"np2\")\n",
    "pg.print_table(aov)"
   ]
  },
  {
   "cell_type": "code",
   "execution_count": 15,
   "id": "d8752164",
   "metadata": {},
   "outputs": [
    {
     "data": {
      "text/html": [
       "<div>\n",
       "<style scoped>\n",
       "    .dataframe tbody tr th:only-of-type {\n",
       "        vertical-align: middle;\n",
       "    }\n",
       "\n",
       "    .dataframe tbody tr th {\n",
       "        vertical-align: top;\n",
       "    }\n",
       "\n",
       "    .dataframe thead th {\n",
       "        text-align: right;\n",
       "    }\n",
       "</style>\n",
       "<table border=\"1\" class=\"dataframe\">\n",
       "  <thead>\n",
       "    <tr style=\"text-align: right;\">\n",
       "      <th></th>\n",
       "      <th>T</th>\n",
       "      <th>dof</th>\n",
       "      <th>alternative</th>\n",
       "      <th>p-val</th>\n",
       "      <th>CI95%</th>\n",
       "      <th>cohen-d</th>\n",
       "      <th>BF10</th>\n",
       "      <th>power</th>\n",
       "    </tr>\n",
       "  </thead>\n",
       "  <tbody>\n",
       "    <tr>\n",
       "      <th>T-test</th>\n",
       "      <td>-1.655635</td>\n",
       "      <td>24</td>\n",
       "      <td>two-sided</td>\n",
       "      <td>0.110815</td>\n",
       "      <td>[-0.67, 0.07]</td>\n",
       "      <td>0.651323</td>\n",
       "      <td>0.974</td>\n",
       "      <td>0.355714</td>\n",
       "    </tr>\n",
       "  </tbody>\n",
       "</table>\n",
       "</div>"
      ],
      "text/plain": [
       "               T  dof alternative     p-val          CI95%   cohen-d   BF10  \\\n",
       "T-test -1.655635   24   two-sided  0.110815  [-0.67, 0.07]  0.651323  0.974   \n",
       "\n",
       "           power  \n",
       "T-test  0.355714  "
      ]
     },
     "execution_count": 15,
     "metadata": {},
     "output_type": "execute_result"
    }
   ],
   "source": [
    "pg.ttest(df.hippo2[df.groupIdx==1], df.hippo2[df.groupIdx==0], paired=False,\n",
    "         correction=False)"
   ]
  },
  {
   "cell_type": "markdown",
   "id": "74c29b6d",
   "metadata": {},
   "source": [
    "## Build a Bayesian model\n",
    "- Here we would model each subject under each group"
   ]
  },
  {
   "cell_type": "code",
   "execution_count": 16,
   "id": "7bbbbdae",
   "metadata": {},
   "outputs": [
    {
     "data": {
      "image/png": "[encoded data removed]",
      "text/plain": [
       "<Figure size 431.12x360 with 1 Axes>"
      ]
     },
     "metadata": {
      "needs_background": "light"
     },
     "output_type": "display_data"
    }
   ],
   "source": [
    "sns.set(font_scale = 1.15)\n",
    "sns.set_style(\"white\")\n",
    "g = sns.catplot(y='value',x='variable', hue='groupIdx', data=df_long, kind='point', ci=68,\n",
    "               hue_order=[1,0])\n",
    "g.set_xlabels(\"\")\n",
    "g.set_xticklabels(\n",
    "    labels=[\"Before Treatment\", \"End of Treatment\", \"30-days\"], rotation=30)\n",
    "\n",
    "g.set_ylabels(\"Hippocampus (Trauma > Neutral)\")\n",
    "g._legend.set_title(\"Group\")\n",
    "new_labels = ['Ketamine', 'Midazolam']\n",
    "for t, l in zip(g._legend.texts, new_labels): t.set_text(l)\n",
    "g.savefig('hippo_pointGraph.png', dpi=300, bbox_inches='tight')"
   ]
  },
  {
   "cell_type": "code",
   "execution_count": 17,
   "id": "15f8bcbf",
   "metadata": {},
   "outputs": [
    {
     "data": {
      "text/html": [
       "<div>\n",
       "<style scoped>\n",
       "    .dataframe tbody tr th:only-of-type {\n",
       "        vertical-align: middle;\n",
       "    }\n",
       "\n",
       "    .dataframe tbody tr th {\n",
       "        vertical-align: top;\n",
       "    }\n",
       "\n",
       "    .dataframe thead tr th {\n",
       "        text-align: left;\n",
       "    }\n",
       "\n",
       "    .dataframe thead tr:last-of-type th {\n",
       "        text-align: right;\n",
       "    }\n",
       "</style>\n",
       "<table border=\"1\" class=\"dataframe\">\n",
       "  <thead>\n",
       "    <tr>\n",
       "      <th></th>\n",
       "      <th></th>\n",
       "      <th colspan=\"8\" halign=\"left\">value</th>\n",
       "    </tr>\n",
       "    <tr>\n",
       "      <th></th>\n",
       "      <th></th>\n",
       "      <th>count</th>\n",
       "      <th>mean</th>\n",
       "      <th>std</th>\n",
       "      <th>min</th>\n",
       "      <th>25%</th>\n",
       "      <th>50%</th>\n",
       "      <th>75%</th>\n",
       "      <th>max</th>\n",
       "    </tr>\n",
       "    <tr>\n",
       "      <th>groupIdx</th>\n",
       "      <th>variable</th>\n",
       "      <th></th>\n",
       "      <th></th>\n",
       "      <th></th>\n",
       "      <th></th>\n",
       "      <th></th>\n",
       "      <th></th>\n",
       "      <th></th>\n",
       "      <th></th>\n",
       "    </tr>\n",
       "  </thead>\n",
       "  <tbody>\n",
       "    <tr>\n",
       "      <th rowspan=\"3\" valign=\"top\">0</th>\n",
       "      <th>hippo1</th>\n",
       "      <td>13.0</td>\n",
       "      <td>-0.031305</td>\n",
       "      <td>0.264194</td>\n",
       "      <td>-0.387857</td>\n",
       "      <td>-0.202330</td>\n",
       "      <td>0.006992</td>\n",
       "      <td>0.227546</td>\n",
       "      <td>0.338373</td>\n",
       "    </tr>\n",
       "    <tr>\n",
       "      <th>hippo2</th>\n",
       "      <td>12.0</td>\n",
       "      <td>0.184824</td>\n",
       "      <td>0.531310</td>\n",
       "      <td>-0.961320</td>\n",
       "      <td>-0.058206</td>\n",
       "      <td>0.131446</td>\n",
       "      <td>0.439066</td>\n",
       "      <td>1.051994</td>\n",
       "    </tr>\n",
       "    <tr>\n",
       "      <th>hippo3</th>\n",
       "      <td>10.0</td>\n",
       "      <td>0.013557</td>\n",
       "      <td>0.421124</td>\n",
       "      <td>-0.686757</td>\n",
       "      <td>-0.216576</td>\n",
       "      <td>0.119983</td>\n",
       "      <td>0.306844</td>\n",
       "      <td>0.474120</td>\n",
       "    </tr>\n",
       "    <tr>\n",
       "      <th rowspan=\"3\" valign=\"top\">1</th>\n",
       "      <th>hippo1</th>\n",
       "      <td>14.0</td>\n",
       "      <td>0.027460</td>\n",
       "      <td>0.283949</td>\n",
       "      <td>-0.564142</td>\n",
       "      <td>-0.055858</td>\n",
       "      <td>0.070363</td>\n",
       "      <td>0.222359</td>\n",
       "      <td>0.464944</td>\n",
       "    </tr>\n",
       "    <tr>\n",
       "      <th>hippo2</th>\n",
       "      <td>14.0</td>\n",
       "      <td>-0.113570</td>\n",
       "      <td>0.385519</td>\n",
       "      <td>-0.981734</td>\n",
       "      <td>-0.275992</td>\n",
       "      <td>-0.111625</td>\n",
       "      <td>0.096493</td>\n",
       "      <td>0.500000</td>\n",
       "    </tr>\n",
       "    <tr>\n",
       "      <th>hippo3</th>\n",
       "      <td>12.0</td>\n",
       "      <td>-0.158917</td>\n",
       "      <td>0.384423</td>\n",
       "      <td>-1.113694</td>\n",
       "      <td>-0.293271</td>\n",
       "      <td>-0.103110</td>\n",
       "      <td>0.027721</td>\n",
       "      <td>0.529858</td>\n",
       "    </tr>\n",
       "  </tbody>\n",
       "</table>\n",
       "</div>"
      ],
      "text/plain": [
       "                  value                                                    \\\n",
       "                  count      mean       std       min       25%       50%   \n",
       "groupIdx variable                                                           \n",
       "0        hippo1    13.0 -0.031305  0.264194 -0.387857 -0.202330  0.006992   \n",
       "         hippo2    12.0  0.184824  0.531310 -0.961320 -0.058206  0.131446   \n",
       "         hippo3    10.0  0.013557  0.421124 -0.686757 -0.216576  0.119983   \n",
       "1        hippo1    14.0  0.027460  0.283949 -0.564142 -0.055858  0.070363   \n",
       "         hippo2    14.0 -0.113570  0.385519 -0.981734 -0.275992 -0.111625   \n",
       "         hippo3    12.0 -0.158917  0.384423 -1.113694 -0.293271 -0.103110   \n",
       "\n",
       "                                       \n",
       "                        75%       max  \n",
       "groupIdx variable                      \n",
       "0        hippo1    0.227546  0.338373  \n",
       "         hippo2    0.439066  1.051994  \n",
       "         hippo3    0.306844  0.474120  \n",
       "1        hippo1    0.222359  0.464944  \n",
       "         hippo2    0.096493  0.500000  \n",
       "         hippo3    0.027721  0.529858  "
      ]
     },
     "execution_count": 17,
     "metadata": {},
     "output_type": "execute_result"
    }
   ],
   "source": [
    "#df[['hippo1','hippo2','hippo3', 'hippo4','groupIdx']].groupby('groupIdx').describe()\n",
    "df_long.groupby(['groupIdx','variable']).describe()"
   ]
  },
  {
   "cell_type": "markdown",
   "id": "e1d96df3-6195-4470-9543-25ddd6ef5976",
   "metadata": {},
   "source": [
    "Use time 1 as covariate to remove differences in baseline"
   ]
  },
  {
   "cell_type": "code",
   "execution_count": 3,
   "id": "ca191c67-15d3-44cb-ac63-d1f100373b35",
   "metadata": {
    "tags": []
   },
   "outputs": [],
   "source": [
    "## Load amygdala database\n",
    "df = pd.read_csv('amg_TraumavsNeutral.csv')#('TraumavsNeutral_threeSes.csv')\n",
    "# create a long format for analysis\n",
    "df_long2 = pd.melt(df, id_vars=['scr_id','groupIdx', 'hippo1'], value_vars=['hippo2','hippo3'])\n",
    "#df_long2"
   ]
  },
  {
   "cell_type": "code",
   "execution_count": 4,
   "id": "0e57191a-3c9c-47b7-af25-4ed99ba874eb",
   "metadata": {},
   "outputs": [],
   "source": [
    "df_long2.to_csv('hippocampus_long2.csv', index=False)"
   ]
  },
  {
   "cell_type": "code",
   "execution_count": 4,
   "id": "fc931ec2",
   "metadata": {},
   "outputs": [
    {
     "name": "stdout",
     "output_type": "stream",
     "text": [
      "[ 0  1  2  3  4  5  6  7  8  9 10 11 12 13 14 15 16 17 18 19 20 21 22 23\n",
      " 24 25 26  0  1  2  3  4  5  6  7  8  9 10 11 12 13 14 15 16 17 18 19 20\n",
      " 21 22 23 24 25 26]\n",
      "27\n",
      "[0 0 0 0 0 0 0 0 0 0 0 0 0 0 0 0 0 0 0 0 0 0 0 0 0 0 0 1 1 1 1 1 1 1 1 1 1\n",
      " 1 1 1 1 1 1 1 1 1 1 1 1 1 1 1 1 1]\n"
     ]
    }
   ],
   "source": [
    "# take indexes for building the model\n",
    "df_long2['scr_id'] = df_long2.scr_id.astype('category')\n",
    "sub_idx = df_long2.scr_id.cat.codes.values # get county category index values (613 x 1) vec with nums [0-7]\n",
    "print(sub_idx)\n",
    "n_subs = len(np.unique(df_long2.scr_id))\n",
    "print(n_subs)\n",
    "# set time as index also\n",
    "#df_long.groupIdx = pd.Categorical(df_long.groupIdx)\n",
    "df_long2.variable = pd.Categorical(df_long2.variable, \n",
    "                    categories=['hippo2','hippo3'])\n",
    "timeIDX = df_long2.variable.cat.codes.values\n",
    "print(timeIDX)\n",
    "df_long2['time'] = timeIDX\n"
   ]
  },
  {
   "cell_type": "code",
   "execution_count": 5,
   "id": "7a8ff027-c90a-4446-b896-ec109540ef8b",
   "metadata": {},
   "outputs": [
    {
     "name": "stderr",
     "output_type": "stream",
     "text": [
      "/gpfs/ysm/project/joormann/oad4/conda_envs/pymc4/lib/python3.9/site-packages/pymc/model.py:1438: ImputationWarning: Data in likelihood contains missing values and will be automatically imputed from the sampling distribution.\n",
      "  warnings.warn(impute_message, ImputationWarning)\n",
      "Auto-assigning NUTS sampler...\n",
      "Initializing NUTS using jitter+adapt_diag...\n",
      "Multiprocess sampling (4 chains in 4 jobs)\n",
      "NUTS: [a, cov, b, interaction, eps, likelihood_missing]\n"
     ]
    },
    {
     "data": {
      "text/html": [
       "\n",
       "<style>\n",
       "    /* Turns off some styling */\n",
       "    progress {\n",
       "        /* gets rid of default border in Firefox and Opera. */\n",
       "        border: none;\n",
       "        /* Needs to be in here for Safari polyfill so background images work as expected. */\n",
       "        background-size: auto;\n",
       "    }\n",
       "    .progress-bar-interrupted, .progress-bar-interrupted::-webkit-progress-bar {\n",
       "        background: #F44336;\n",
       "    }\n",
       "</style>\n"
      ],
      "text/plain": [
       "<IPython.core.display.HTML object>"
      ]
     },
     "metadata": {},
     "output_type": "display_data"
    },
    {
     "data": {
      "text/html": [
       "\n",
       "    <div>\n",
       "      <progress value='44000' class='' max='44000' style='width:300px; height:20px; vertical-align: middle;'></progress>\n",
       "      100.00% [44000/44000 01:27<00:00 Sampling 4 chains, 0 divergences]\n",
       "    </div>\n",
       "    "
      ],
      "text/plain": [
       "<IPython.core.display.HTML object>"
      ]
     },
     "metadata": {},
     "output_type": "display_data"
    },
    {
     "name": "stderr",
     "output_type": "stream",
     "text": [
      "Sampling 4 chains for 1_000 tune and 10_000 draw iterations (4_000 + 40_000 draws total) took 88 seconds.\n"
     ]
    }
   ],
   "source": [
    "with pm.Model() as hierarchical:\n",
    "      \n",
    "    a = pm.Normal('a', mu=0, sigma=0.1, shape=n_subs)\n",
    "    cov = pm.Normal('cov', mu=0.05, sigma=0.1)\n",
    "    b = pm.Normal('b', mu=0, sigma=0.1, shape=2)\n",
    "    \n",
    "    \n",
    "   # bMed = pm.Normal('bMed', mu=0, sd=0.1, shape=2) #\n",
    "   # sigma = pm.HalfCauchy('sigma', 1)\n",
    "    interact = pm.Normal('interaction', mu=0, sigma=1, shape=(2,2))\n",
    "  \n",
    "    # Model error\n",
    "    eps = pm.HalfCauchy('eps', 1)\n",
    "\n",
    "    y_hat = a[sub_idx] + b[timeIDX] + interact[timeIDX,df_long2.groupIdx] + cov*df_long2.hippo1\n",
    "\n",
    "    # Data likelihood\n",
    "    likelihood = pm.Normal('likelihood', mu=y_hat,\n",
    "                           sigma=eps, observed=df_long2.value)\n",
    "    \n",
    "    \n",
    "    # calculate differences and effect size\n",
    "    diff_of_means1 = pm.Deterministic('differenceGroups end of treatment', interact[0,1] - interact[0,0])\n",
    "    diff_of_means2 = pm.Deterministic('differenceGroups 30 days', interact[1,1] - interact[1,0])\n",
    "   \n",
    "    # effect size\n",
    "    effect_size1 = pm.Deterministic('effect size2_1', \n",
    "                        diff_of_means1 / eps)\n",
    "    \n",
    "    effect_size2 = pm.Deterministic('effect size3_1', \n",
    "                        diff_of_means2 / eps)\n",
    "    \n",
    "#     effect_size3 = pm.Deterministic('effect size4_1', \n",
    "#                         abs(diff_of_means3) / eps)\n",
    "    \n",
    "    ppChecks = pm.sample_prior_predictive(samples = 8000)\n",
    "    trace = pm.sample(draws=10000, tune=1000, target_accept=0.9, return_inferencedata=True, cores=4)"
   ]
  },
  {
   "cell_type": "code",
   "execution_count": 12,
   "id": "03501ec5",
   "metadata": {
    "tags": []
   },
   "outputs": [
    {
     "data": {
      "text/html": [
       "<div>\n",
       "<style scoped>\n",
       "    .dataframe tbody tr th:only-of-type {\n",
       "        vertical-align: middle;\n",
       "    }\n",
       "\n",
       "    .dataframe tbody tr th {\n",
       "        vertical-align: top;\n",
       "    }\n",
       "\n",
       "    .dataframe thead th {\n",
       "        text-align: right;\n",
       "    }\n",
       "</style>\n",
       "<table border=\"1\" class=\"dataframe\">\n",
       "  <thead>\n",
       "    <tr style=\"text-align: right;\">\n",
       "      <th></th>\n",
       "      <th>mean</th>\n",
       "      <th>sd</th>\n",
       "      <th>hdi_5%</th>\n",
       "      <th>hdi_95%</th>\n",
       "      <th>mcse_mean</th>\n",
       "      <th>mcse_sd</th>\n",
       "      <th>ess_bulk</th>\n",
       "      <th>ess_tail</th>\n",
       "      <th>r_hat</th>\n",
       "    </tr>\n",
       "  </thead>\n",
       "  <tbody>\n",
       "    <tr>\n",
       "      <th>a[0]</th>\n",
       "      <td>0.007</td>\n",
       "      <td>0.095</td>\n",
       "      <td>-0.153</td>\n",
       "      <td>0.162</td>\n",
       "      <td>0.000</td>\n",
       "      <td>0.001</td>\n",
       "      <td>75317.0</td>\n",
       "      <td>28600.0</td>\n",
       "      <td>1.0</td>\n",
       "    </tr>\n",
       "    <tr>\n",
       "      <th>a[1]</th>\n",
       "      <td>0.025</td>\n",
       "      <td>0.095</td>\n",
       "      <td>-0.129</td>\n",
       "      <td>0.184</td>\n",
       "      <td>0.000</td>\n",
       "      <td>0.001</td>\n",
       "      <td>80534.0</td>\n",
       "      <td>28879.0</td>\n",
       "      <td>1.0</td>\n",
       "    </tr>\n",
       "    <tr>\n",
       "      <th>a[2]</th>\n",
       "      <td>-0.011</td>\n",
       "      <td>0.096</td>\n",
       "      <td>-0.171</td>\n",
       "      <td>0.146</td>\n",
       "      <td>0.000</td>\n",
       "      <td>0.001</td>\n",
       "      <td>67971.0</td>\n",
       "      <td>29852.0</td>\n",
       "      <td>1.0</td>\n",
       "    </tr>\n",
       "    <tr>\n",
       "      <th>a[3]</th>\n",
       "      <td>0.031</td>\n",
       "      <td>0.095</td>\n",
       "      <td>-0.131</td>\n",
       "      <td>0.183</td>\n",
       "      <td>0.000</td>\n",
       "      <td>0.001</td>\n",
       "      <td>75420.0</td>\n",
       "      <td>29596.0</td>\n",
       "      <td>1.0</td>\n",
       "    </tr>\n",
       "    <tr>\n",
       "      <th>a[4]</th>\n",
       "      <td>-0.013</td>\n",
       "      <td>0.096</td>\n",
       "      <td>-0.165</td>\n",
       "      <td>0.149</td>\n",
       "      <td>0.000</td>\n",
       "      <td>0.001</td>\n",
       "      <td>74350.0</td>\n",
       "      <td>29937.0</td>\n",
       "      <td>1.0</td>\n",
       "    </tr>\n",
       "    <tr>\n",
       "      <th>a[5]</th>\n",
       "      <td>0.002</td>\n",
       "      <td>0.095</td>\n",
       "      <td>-0.147</td>\n",
       "      <td>0.166</td>\n",
       "      <td>0.000</td>\n",
       "      <td>0.001</td>\n",
       "      <td>69955.0</td>\n",
       "      <td>28444.0</td>\n",
       "      <td>1.0</td>\n",
       "    </tr>\n",
       "    <tr>\n",
       "      <th>a[6]</th>\n",
       "      <td>-0.001</td>\n",
       "      <td>0.098</td>\n",
       "      <td>-0.160</td>\n",
       "      <td>0.162</td>\n",
       "      <td>0.000</td>\n",
       "      <td>0.001</td>\n",
       "      <td>73437.0</td>\n",
       "      <td>31327.0</td>\n",
       "      <td>1.0</td>\n",
       "    </tr>\n",
       "    <tr>\n",
       "      <th>a[7]</th>\n",
       "      <td>0.000</td>\n",
       "      <td>0.096</td>\n",
       "      <td>-0.154</td>\n",
       "      <td>0.162</td>\n",
       "      <td>0.000</td>\n",
       "      <td>0.001</td>\n",
       "      <td>77858.0</td>\n",
       "      <td>29465.0</td>\n",
       "      <td>1.0</td>\n",
       "    </tr>\n",
       "    <tr>\n",
       "      <th>a[8]</th>\n",
       "      <td>0.008</td>\n",
       "      <td>0.095</td>\n",
       "      <td>-0.143</td>\n",
       "      <td>0.168</td>\n",
       "      <td>0.000</td>\n",
       "      <td>0.001</td>\n",
       "      <td>78214.0</td>\n",
       "      <td>27694.0</td>\n",
       "      <td>1.0</td>\n",
       "    </tr>\n",
       "    <tr>\n",
       "      <th>a[9]</th>\n",
       "      <td>-0.035</td>\n",
       "      <td>0.096</td>\n",
       "      <td>-0.190</td>\n",
       "      <td>0.125</td>\n",
       "      <td>0.000</td>\n",
       "      <td>0.001</td>\n",
       "      <td>78420.0</td>\n",
       "      <td>29659.0</td>\n",
       "      <td>1.0</td>\n",
       "    </tr>\n",
       "    <tr>\n",
       "      <th>a[10]</th>\n",
       "      <td>-0.049</td>\n",
       "      <td>0.096</td>\n",
       "      <td>-0.204</td>\n",
       "      <td>0.112</td>\n",
       "      <td>0.000</td>\n",
       "      <td>0.000</td>\n",
       "      <td>73125.0</td>\n",
       "      <td>29092.0</td>\n",
       "      <td>1.0</td>\n",
       "    </tr>\n",
       "    <tr>\n",
       "      <th>a[11]</th>\n",
       "      <td>-0.032</td>\n",
       "      <td>0.096</td>\n",
       "      <td>-0.185</td>\n",
       "      <td>0.130</td>\n",
       "      <td>0.000</td>\n",
       "      <td>0.000</td>\n",
       "      <td>78158.0</td>\n",
       "      <td>29994.0</td>\n",
       "      <td>1.0</td>\n",
       "    </tr>\n",
       "    <tr>\n",
       "      <th>a[12]</th>\n",
       "      <td>0.066</td>\n",
       "      <td>0.097</td>\n",
       "      <td>-0.093</td>\n",
       "      <td>0.225</td>\n",
       "      <td>0.000</td>\n",
       "      <td>0.000</td>\n",
       "      <td>73115.0</td>\n",
       "      <td>29146.0</td>\n",
       "      <td>1.0</td>\n",
       "    </tr>\n",
       "    <tr>\n",
       "      <th>a[13]</th>\n",
       "      <td>0.017</td>\n",
       "      <td>0.096</td>\n",
       "      <td>-0.142</td>\n",
       "      <td>0.175</td>\n",
       "      <td>0.000</td>\n",
       "      <td>0.001</td>\n",
       "      <td>75612.0</td>\n",
       "      <td>27562.0</td>\n",
       "      <td>1.0</td>\n",
       "    </tr>\n",
       "    <tr>\n",
       "      <th>a[14]</th>\n",
       "      <td>0.009</td>\n",
       "      <td>0.096</td>\n",
       "      <td>-0.148</td>\n",
       "      <td>0.167</td>\n",
       "      <td>0.000</td>\n",
       "      <td>0.001</td>\n",
       "      <td>78316.0</td>\n",
       "      <td>29537.0</td>\n",
       "      <td>1.0</td>\n",
       "    </tr>\n",
       "    <tr>\n",
       "      <th>a[15]</th>\n",
       "      <td>-0.050</td>\n",
       "      <td>0.096</td>\n",
       "      <td>-0.206</td>\n",
       "      <td>0.110</td>\n",
       "      <td>0.000</td>\n",
       "      <td>0.000</td>\n",
       "      <td>75763.0</td>\n",
       "      <td>31108.0</td>\n",
       "      <td>1.0</td>\n",
       "    </tr>\n",
       "    <tr>\n",
       "      <th>a[16]</th>\n",
       "      <td>-0.002</td>\n",
       "      <td>0.096</td>\n",
       "      <td>-0.159</td>\n",
       "      <td>0.157</td>\n",
       "      <td>0.000</td>\n",
       "      <td>0.001</td>\n",
       "      <td>77622.0</td>\n",
       "      <td>28810.0</td>\n",
       "      <td>1.0</td>\n",
       "    </tr>\n",
       "    <tr>\n",
       "      <th>a[17]</th>\n",
       "      <td>0.016</td>\n",
       "      <td>0.096</td>\n",
       "      <td>-0.143</td>\n",
       "      <td>0.172</td>\n",
       "      <td>0.000</td>\n",
       "      <td>0.001</td>\n",
       "      <td>74375.0</td>\n",
       "      <td>28839.0</td>\n",
       "      <td>1.0</td>\n",
       "    </tr>\n",
       "    <tr>\n",
       "      <th>a[18]</th>\n",
       "      <td>-0.044</td>\n",
       "      <td>0.094</td>\n",
       "      <td>-0.200</td>\n",
       "      <td>0.110</td>\n",
       "      <td>0.000</td>\n",
       "      <td>0.000</td>\n",
       "      <td>76209.0</td>\n",
       "      <td>29069.0</td>\n",
       "      <td>1.0</td>\n",
       "    </tr>\n",
       "    <tr>\n",
       "      <th>a[19]</th>\n",
       "      <td>0.012</td>\n",
       "      <td>0.096</td>\n",
       "      <td>-0.149</td>\n",
       "      <td>0.167</td>\n",
       "      <td>0.000</td>\n",
       "      <td>0.001</td>\n",
       "      <td>67233.0</td>\n",
       "      <td>31464.0</td>\n",
       "      <td>1.0</td>\n",
       "    </tr>\n",
       "    <tr>\n",
       "      <th>a[20]</th>\n",
       "      <td>-0.024</td>\n",
       "      <td>0.098</td>\n",
       "      <td>-0.189</td>\n",
       "      <td>0.134</td>\n",
       "      <td>0.000</td>\n",
       "      <td>0.001</td>\n",
       "      <td>71205.0</td>\n",
       "      <td>29884.0</td>\n",
       "      <td>1.0</td>\n",
       "    </tr>\n",
       "    <tr>\n",
       "      <th>a[21]</th>\n",
       "      <td>-0.051</td>\n",
       "      <td>0.095</td>\n",
       "      <td>-0.206</td>\n",
       "      <td>0.108</td>\n",
       "      <td>0.000</td>\n",
       "      <td>0.000</td>\n",
       "      <td>78120.0</td>\n",
       "      <td>28926.0</td>\n",
       "      <td>1.0</td>\n",
       "    </tr>\n",
       "    <tr>\n",
       "      <th>a[22]</th>\n",
       "      <td>0.001</td>\n",
       "      <td>0.095</td>\n",
       "      <td>-0.158</td>\n",
       "      <td>0.155</td>\n",
       "      <td>0.000</td>\n",
       "      <td>0.001</td>\n",
       "      <td>76910.0</td>\n",
       "      <td>28988.0</td>\n",
       "      <td>1.0</td>\n",
       "    </tr>\n",
       "    <tr>\n",
       "      <th>a[23]</th>\n",
       "      <td>0.041</td>\n",
       "      <td>0.096</td>\n",
       "      <td>-0.112</td>\n",
       "      <td>0.201</td>\n",
       "      <td>0.000</td>\n",
       "      <td>0.000</td>\n",
       "      <td>75553.0</td>\n",
       "      <td>29558.0</td>\n",
       "      <td>1.0</td>\n",
       "    </tr>\n",
       "    <tr>\n",
       "      <th>a[24]</th>\n",
       "      <td>0.002</td>\n",
       "      <td>0.097</td>\n",
       "      <td>-0.158</td>\n",
       "      <td>0.161</td>\n",
       "      <td>0.000</td>\n",
       "      <td>0.001</td>\n",
       "      <td>74180.0</td>\n",
       "      <td>30719.0</td>\n",
       "      <td>1.0</td>\n",
       "    </tr>\n",
       "    <tr>\n",
       "      <th>a[25]</th>\n",
       "      <td>0.031</td>\n",
       "      <td>0.099</td>\n",
       "      <td>-0.129</td>\n",
       "      <td>0.196</td>\n",
       "      <td>0.000</td>\n",
       "      <td>0.001</td>\n",
       "      <td>75207.0</td>\n",
       "      <td>31022.0</td>\n",
       "      <td>1.0</td>\n",
       "    </tr>\n",
       "    <tr>\n",
       "      <th>a[26]</th>\n",
       "      <td>0.043</td>\n",
       "      <td>0.095</td>\n",
       "      <td>-0.114</td>\n",
       "      <td>0.197</td>\n",
       "      <td>0.000</td>\n",
       "      <td>0.000</td>\n",
       "      <td>75455.0</td>\n",
       "      <td>29807.0</td>\n",
       "      <td>1.0</td>\n",
       "    </tr>\n",
       "    <tr>\n",
       "      <th>cov</th>\n",
       "      <td>0.048</td>\n",
       "      <td>0.092</td>\n",
       "      <td>-0.106</td>\n",
       "      <td>0.197</td>\n",
       "      <td>0.000</td>\n",
       "      <td>0.000</td>\n",
       "      <td>73064.0</td>\n",
       "      <td>31365.0</td>\n",
       "      <td>1.0</td>\n",
       "    </tr>\n",
       "    <tr>\n",
       "      <th>b[0]</th>\n",
       "      <td>0.000</td>\n",
       "      <td>0.099</td>\n",
       "      <td>-0.159</td>\n",
       "      <td>0.166</td>\n",
       "      <td>0.000</td>\n",
       "      <td>0.001</td>\n",
       "      <td>50694.0</td>\n",
       "      <td>29648.0</td>\n",
       "      <td>1.0</td>\n",
       "    </tr>\n",
       "    <tr>\n",
       "      <th>b[1]</th>\n",
       "      <td>-0.001</td>\n",
       "      <td>0.100</td>\n",
       "      <td>-0.167</td>\n",
       "      <td>0.162</td>\n",
       "      <td>0.000</td>\n",
       "      <td>0.000</td>\n",
       "      <td>56138.0</td>\n",
       "      <td>32895.0</td>\n",
       "      <td>1.0</td>\n",
       "    </tr>\n",
       "    <tr>\n",
       "      <th>interaction[0, 0]</th>\n",
       "      <td>0.183</td>\n",
       "      <td>0.161</td>\n",
       "      <td>-0.081</td>\n",
       "      <td>0.448</td>\n",
       "      <td>0.001</td>\n",
       "      <td>0.001</td>\n",
       "      <td>50930.0</td>\n",
       "      <td>32655.0</td>\n",
       "      <td>1.0</td>\n",
       "    </tr>\n",
       "    <tr>\n",
       "      <th>interaction[0, 1]</th>\n",
       "      <td>-0.114</td>\n",
       "      <td>0.154</td>\n",
       "      <td>-0.369</td>\n",
       "      <td>0.135</td>\n",
       "      <td>0.001</td>\n",
       "      <td>0.001</td>\n",
       "      <td>52068.0</td>\n",
       "      <td>33639.0</td>\n",
       "      <td>1.0</td>\n",
       "    </tr>\n",
       "    <tr>\n",
       "      <th>interaction[1, 0]</th>\n",
       "      <td>0.012</td>\n",
       "      <td>0.170</td>\n",
       "      <td>-0.273</td>\n",
       "      <td>0.284</td>\n",
       "      <td>0.001</td>\n",
       "      <td>0.001</td>\n",
       "      <td>50558.0</td>\n",
       "      <td>31683.0</td>\n",
       "      <td>1.0</td>\n",
       "    </tr>\n",
       "    <tr>\n",
       "      <th>interaction[1, 1]</th>\n",
       "      <td>-0.154</td>\n",
       "      <td>0.161</td>\n",
       "      <td>-0.422</td>\n",
       "      <td>0.108</td>\n",
       "      <td>0.001</td>\n",
       "      <td>0.001</td>\n",
       "      <td>54465.0</td>\n",
       "      <td>34144.0</td>\n",
       "      <td>1.0</td>\n",
       "    </tr>\n",
       "    <tr>\n",
       "      <th>likelihood_missing[0]</th>\n",
       "      <td>0.187</td>\n",
       "      <td>0.462</td>\n",
       "      <td>-0.592</td>\n",
       "      <td>0.939</td>\n",
       "      <td>0.002</td>\n",
       "      <td>0.002</td>\n",
       "      <td>68556.0</td>\n",
       "      <td>31050.0</td>\n",
       "      <td>1.0</td>\n",
       "    </tr>\n",
       "    <tr>\n",
       "      <th>likelihood_missing[1]</th>\n",
       "      <td>-0.006</td>\n",
       "      <td>0.464</td>\n",
       "      <td>-0.770</td>\n",
       "      <td>0.757</td>\n",
       "      <td>0.002</td>\n",
       "      <td>0.002</td>\n",
       "      <td>65526.0</td>\n",
       "      <td>31628.0</td>\n",
       "      <td>1.0</td>\n",
       "    </tr>\n",
       "    <tr>\n",
       "      <th>likelihood_missing[2]</th>\n",
       "      <td>-0.155</td>\n",
       "      <td>0.463</td>\n",
       "      <td>-0.937</td>\n",
       "      <td>0.581</td>\n",
       "      <td>0.002</td>\n",
       "      <td>0.002</td>\n",
       "      <td>69024.0</td>\n",
       "      <td>31859.0</td>\n",
       "      <td>1.0</td>\n",
       "    </tr>\n",
       "    <tr>\n",
       "      <th>likelihood_missing[3]</th>\n",
       "      <td>0.009</td>\n",
       "      <td>0.465</td>\n",
       "      <td>-0.784</td>\n",
       "      <td>0.746</td>\n",
       "      <td>0.002</td>\n",
       "      <td>0.002</td>\n",
       "      <td>67485.0</td>\n",
       "      <td>31289.0</td>\n",
       "      <td>1.0</td>\n",
       "    </tr>\n",
       "    <tr>\n",
       "      <th>likelihood_missing[4]</th>\n",
       "      <td>0.002</td>\n",
       "      <td>0.470</td>\n",
       "      <td>-0.730</td>\n",
       "      <td>0.812</td>\n",
       "      <td>0.002</td>\n",
       "      <td>0.002</td>\n",
       "      <td>67671.0</td>\n",
       "      <td>32391.0</td>\n",
       "      <td>1.0</td>\n",
       "    </tr>\n",
       "    <tr>\n",
       "      <th>likelihood_missing[5]</th>\n",
       "      <td>-0.122</td>\n",
       "      <td>0.462</td>\n",
       "      <td>-0.900</td>\n",
       "      <td>0.617</td>\n",
       "      <td>0.002</td>\n",
       "      <td>0.002</td>\n",
       "      <td>68685.0</td>\n",
       "      <td>32298.0</td>\n",
       "      <td>1.0</td>\n",
       "    </tr>\n",
       "    <tr>\n",
       "      <th>eps</th>\n",
       "      <td>0.431</td>\n",
       "      <td>0.050</td>\n",
       "      <td>0.350</td>\n",
       "      <td>0.509</td>\n",
       "      <td>0.000</td>\n",
       "      <td>0.000</td>\n",
       "      <td>41544.0</td>\n",
       "      <td>31660.0</td>\n",
       "      <td>1.0</td>\n",
       "    </tr>\n",
       "    <tr>\n",
       "      <th>differenceGroups end of treatment</th>\n",
       "      <td>-0.297</td>\n",
       "      <td>0.174</td>\n",
       "      <td>-0.591</td>\n",
       "      <td>-0.019</td>\n",
       "      <td>0.001</td>\n",
       "      <td>0.001</td>\n",
       "      <td>58803.0</td>\n",
       "      <td>31325.0</td>\n",
       "      <td>1.0</td>\n",
       "    </tr>\n",
       "    <tr>\n",
       "      <th>differenceGroups 30 days</th>\n",
       "      <td>-0.166</td>\n",
       "      <td>0.188</td>\n",
       "      <td>-0.468</td>\n",
       "      <td>0.150</td>\n",
       "      <td>0.001</td>\n",
       "      <td>0.001</td>\n",
       "      <td>57410.0</td>\n",
       "      <td>31703.0</td>\n",
       "      <td>1.0</td>\n",
       "    </tr>\n",
       "    <tr>\n",
       "      <th>effect size2_1</th>\n",
       "      <td>-0.699</td>\n",
       "      <td>0.411</td>\n",
       "      <td>-1.400</td>\n",
       "      <td>-0.047</td>\n",
       "      <td>0.002</td>\n",
       "      <td>0.001</td>\n",
       "      <td>59416.0</td>\n",
       "      <td>33310.0</td>\n",
       "      <td>1.0</td>\n",
       "    </tr>\n",
       "    <tr>\n",
       "      <th>effect size3_1</th>\n",
       "      <td>-0.391</td>\n",
       "      <td>0.438</td>\n",
       "      <td>-1.092</td>\n",
       "      <td>0.347</td>\n",
       "      <td>0.002</td>\n",
       "      <td>0.002</td>\n",
       "      <td>58940.0</td>\n",
       "      <td>32684.0</td>\n",
       "      <td>1.0</td>\n",
       "    </tr>\n",
       "  </tbody>\n",
       "</table>\n",
       "</div>"
      ],
      "text/plain": [
       "                                    mean     sd  hdi_5%  hdi_95%  mcse_mean  \\\n",
       "a[0]                               0.007  0.095  -0.153    0.162      0.000   \n",
       "a[1]                               0.025  0.095  -0.129    0.184      0.000   \n",
       "a[2]                              -0.011  0.096  -0.171    0.146      0.000   \n",
       "a[3]                               0.031  0.095  -0.131    0.183      0.000   \n",
       "a[4]                              -0.013  0.096  -0.165    0.149      0.000   \n",
       "a[5]                               0.002  0.095  -0.147    0.166      0.000   \n",
       "a[6]                              -0.001  0.098  -0.160    0.162      0.000   \n",
       "a[7]                               0.000  0.096  -0.154    0.162      0.000   \n",
       "a[8]                               0.008  0.095  -0.143    0.168      0.000   \n",
       "a[9]                              -0.035  0.096  -0.190    0.125      0.000   \n",
       "a[10]                             -0.049  0.096  -0.204    0.112      0.000   \n",
       "a[11]                             -0.032  0.096  -0.185    0.130      0.000   \n",
       "a[12]                              0.066  0.097  -0.093    0.225      0.000   \n",
       "a[13]                              0.017  0.096  -0.142    0.175      0.000   \n",
       "a[14]                              0.009  0.096  -0.148    0.167      0.000   \n",
       "a[15]                             -0.050  0.096  -0.206    0.110      0.000   \n",
       "a[16]                             -0.002  0.096  -0.159    0.157      0.000   \n",
       "a[17]                              0.016  0.096  -0.143    0.172      0.000   \n",
       "a[18]                             -0.044  0.094  -0.200    0.110      0.000   \n",
       "a[19]                              0.012  0.096  -0.149    0.167      0.000   \n",
       "a[20]                             -0.024  0.098  -0.189    0.134      0.000   \n",
       "a[21]                             -0.051  0.095  -0.206    0.108      0.000   \n",
       "a[22]                              0.001  0.095  -0.158    0.155      0.000   \n",
       "a[23]                              0.041  0.096  -0.112    0.201      0.000   \n",
       "a[24]                              0.002  0.097  -0.158    0.161      0.000   \n",
       "a[25]                              0.031  0.099  -0.129    0.196      0.000   \n",
       "a[26]                              0.043  0.095  -0.114    0.197      0.000   \n",
       "cov                                0.048  0.092  -0.106    0.197      0.000   \n",
       "b[0]                               0.000  0.099  -0.159    0.166      0.000   \n",
       "b[1]                              -0.001  0.100  -0.167    0.162      0.000   \n",
       "interaction[0, 0]                  0.183  0.161  -0.081    0.448      0.001   \n",
       "interaction[0, 1]                 -0.114  0.154  -0.369    0.135      0.001   \n",
       "interaction[1, 0]                  0.012  0.170  -0.273    0.284      0.001   \n",
       "interaction[1, 1]                 -0.154  0.161  -0.422    0.108      0.001   \n",
       "likelihood_missing[0]              0.187  0.462  -0.592    0.939      0.002   \n",
       "likelihood_missing[1]             -0.006  0.464  -0.770    0.757      0.002   \n",
       "likelihood_missing[2]             -0.155  0.463  -0.937    0.581      0.002   \n",
       "likelihood_missing[3]              0.009  0.465  -0.784    0.746      0.002   \n",
       "likelihood_missing[4]              0.002  0.470  -0.730    0.812      0.002   \n",
       "likelihood_missing[5]             -0.122  0.462  -0.900    0.617      0.002   \n",
       "eps                                0.431  0.050   0.350    0.509      0.000   \n",
       "differenceGroups end of treatment -0.297  0.174  -0.591   -0.019      0.001   \n",
       "differenceGroups 30 days          -0.166  0.188  -0.468    0.150      0.001   \n",
       "effect size2_1                    -0.699  0.411  -1.400   -0.047      0.002   \n",
       "effect size3_1                    -0.391  0.438  -1.092    0.347      0.002   \n",
       "\n",
       "                                   mcse_sd  ess_bulk  ess_tail  r_hat  \n",
       "a[0]                                 0.001   75317.0   28600.0    1.0  \n",
       "a[1]                                 0.001   80534.0   28879.0    1.0  \n",
       "a[2]                                 0.001   67971.0   29852.0    1.0  \n",
       "a[3]                                 0.001   75420.0   29596.0    1.0  \n",
       "a[4]                                 0.001   74350.0   29937.0    1.0  \n",
       "a[5]                                 0.001   69955.0   28444.0    1.0  \n",
       "a[6]                                 0.001   73437.0   31327.0    1.0  \n",
       "a[7]                                 0.001   77858.0   29465.0    1.0  \n",
       "a[8]                                 0.001   78214.0   27694.0    1.0  \n",
       "a[9]                                 0.001   78420.0   29659.0    1.0  \n",
       "a[10]                                0.000   73125.0   29092.0    1.0  \n",
       "a[11]                                0.000   78158.0   29994.0    1.0  \n",
       "a[12]                                0.000   73115.0   29146.0    1.0  \n",
       "a[13]                                0.001   75612.0   27562.0    1.0  \n",
       "a[14]                                0.001   78316.0   29537.0    1.0  \n",
       "a[15]                                0.000   75763.0   31108.0    1.0  \n",
       "a[16]                                0.001   77622.0   28810.0    1.0  \n",
       "a[17]                                0.001   74375.0   28839.0    1.0  \n",
       "a[18]                                0.000   76209.0   29069.0    1.0  \n",
       "a[19]                                0.001   67233.0   31464.0    1.0  \n",
       "a[20]                                0.001   71205.0   29884.0    1.0  \n",
       "a[21]                                0.000   78120.0   28926.0    1.0  \n",
       "a[22]                                0.001   76910.0   28988.0    1.0  \n",
       "a[23]                                0.000   75553.0   29558.0    1.0  \n",
       "a[24]                                0.001   74180.0   30719.0    1.0  \n",
       "a[25]                                0.001   75207.0   31022.0    1.0  \n",
       "a[26]                                0.000   75455.0   29807.0    1.0  \n",
       "cov                                  0.000   73064.0   31365.0    1.0  \n",
       "b[0]                                 0.001   50694.0   29648.0    1.0  \n",
       "b[1]                                 0.000   56138.0   32895.0    1.0  \n",
       "interaction[0, 0]                    0.001   50930.0   32655.0    1.0  \n",
       "interaction[0, 1]                    0.001   52068.0   33639.0    1.0  \n",
       "interaction[1, 0]                    0.001   50558.0   31683.0    1.0  \n",
       "interaction[1, 1]                    0.001   54465.0   34144.0    1.0  \n",
       "likelihood_missing[0]                0.002   68556.0   31050.0    1.0  \n",
       "likelihood_missing[1]                0.002   65526.0   31628.0    1.0  \n",
       "likelihood_missing[2]                0.002   69024.0   31859.0    1.0  \n",
       "likelihood_missing[3]                0.002   67485.0   31289.0    1.0  \n",
       "likelihood_missing[4]                0.002   67671.0   32391.0    1.0  \n",
       "likelihood_missing[5]                0.002   68685.0   32298.0    1.0  \n",
       "eps                                  0.000   41544.0   31660.0    1.0  \n",
       "differenceGroups end of treatment    0.001   58803.0   31325.0    1.0  \n",
       "differenceGroups 30 days             0.001   57410.0   31703.0    1.0  \n",
       "effect size2_1                       0.001   59416.0   33310.0    1.0  \n",
       "effect size3_1                       0.002   58940.0   32684.0    1.0  "
      ]
     },
     "execution_count": 12,
     "metadata": {},
     "output_type": "execute_result"
    }
   ],
   "source": [
    "az.summary(trace, hdi_prob=.9)"
   ]
  },
  {
   "cell_type": "code",
   "execution_count": 23,
   "id": "3652af36",
   "metadata": {},
   "outputs": [
    {
     "data": {
      "text/plain": [
       "<seaborn.axisgrid.FacetGrid at 0x2af2030c6f70>"
      ]
     },
     "execution_count": 23,
     "metadata": {},
     "output_type": "execute_result"
    },
    {
     "data": {
      "image/png": "[encoded data removed]",
      "text/plain": [
       "<Figure size 500x500 with 1 Axes>"
      ]
     },
     "metadata": {},
     "output_type": "display_data"
    }
   ],
   "source": [
    "priorC = ppChecks['interaction'][:,0,0] - ppChecks['interaction'][:,0,1] \n",
    "sns.displot(priorC)"
   ]
  },
  {
   "cell_type": "code",
   "execution_count": 13,
   "id": "619b4001-d91f-4f4e-b1fc-3e2fd8a6619c",
   "metadata": {},
   "outputs": [
    {
     "data": {
      "text/plain": [
       "<matplotlib.legend.Legend at 0x2adabe836f10>"
      ]
     },
     "execution_count": 13,
     "metadata": {},
     "output_type": "execute_result"
    },
    {
     "data": {
      "image/png": "[encoded data removed]",
      "text/plain": [
       "<Figure size 432x288 with 1 Axes>"
      ]
     },
     "metadata": {
      "needs_background": "light"
     },
     "output_type": "display_data"
    }
   ],
   "source": [
    "tr = trace.posterior.stack(draws=(\"chain\", \"draw\"))\n",
    "sns.histplot(tr.interaction.values[0,0,:,], label='midazolam', color='blue')\n",
    "sns.histplot(tr.interaction.values[0,1,:], label = 'ketamine', color='red')\n",
    "plt.legend()"
   ]
  },
  {
   "cell_type": "code",
   "execution_count": 20,
   "id": "b05d3518-4bfe-4911-aeab-8cad069ce553",
   "metadata": {},
   "outputs": [
    {
     "data": {
      "text/plain": [
       "<Axes: title={'center': 'effect size2_1'}>"
      ]
     },
     "execution_count": 20,
     "metadata": {},
     "output_type": "execute_result"
    },
    {
     "data": {
      "image/png": "[encoded data removed]",
      "text/plain": [
       "<Figure size 432x288 with 1 Axes>"
      ]
     },
     "metadata": {
      "needs_background": "light"
     },
     "output_type": "display_data"
    }
   ],
   "source": [
    "az.plot_posterior(trace, var_names='effect size2_1', ref_val=0,\n",
    "                  rope=(-0.1,0.1), kind='hist', hdi_prob=.82)"
   ]
  },
  {
   "cell_type": "code",
   "execution_count": 28,
   "id": "11e389fc-e53a-467b-ad91-17e076b72fda",
   "metadata": {},
   "outputs": [
    {
     "name": "stdout",
     "output_type": "stream",
     "text": [
      "0.0438\n"
     ]
    },
    {
     "data": {
      "image/png": "[encoded data removed]",
      "text/plain": [
       "<Figure size 640x480 with 1 Axes>"
      ]
     },
     "metadata": {},
     "output_type": "display_data"
    }
   ],
   "source": [
    "#tr.interaction.values[0,0,:,]\n",
    "after = (tr.interaction.values[0,1,:,] - tr.interaction.values[0,0,:,])# / np.sqrt(\n",
    "az.plot_posterior(after, kind='hist', ref_val=0, hdi_prob=.95)\n",
    "print(np.sum(after>=0) / len(after))"
   ]
  },
  {
   "cell_type": "code",
   "execution_count": 27,
   "id": "8e84b8ab-7c41-4931-982d-ac508925ae7d",
   "metadata": {},
   "outputs": [
    {
     "data": {
      "text/plain": [
       "5.2493438320209975"
      ]
     },
     "execution_count": 27,
     "metadata": {},
     "output_type": "execute_result"
    }
   ],
   "source": [
    "from utils import calcBF\n",
    "calcBF(y2=priorC, y1=after)"
   ]
  },
  {
   "cell_type": "markdown",
   "id": "e5883ec7-d85d-4f65-9550-4abdc25aa7d2",
   "metadata": {},
   "source": [
    "## Bayes Factor"
   ]
  },
  {
   "cell_type": "code",
   "execution_count": 6,
   "id": "84b1bedd-f8cd-40a1-8758-4c943e4f767c",
   "metadata": {},
   "outputs": [
    {
     "data": {
      "text/plain": [
       "({'BF10': array([1.76687067]), 'BF01': array([0.56597238])},\n",
       " <Axes: title={'center': 'The BF_10 is 1.77\\nThe BF_01 is 0.57'}, xlabel='effect size2_1', ylabel='Density'>)"
      ]
     },
     "execution_count": 6,
     "metadata": {},
     "output_type": "execute_result"
    },
    {
     "data": {
      "image/png": "[encoded data removed]",
      "text/plain": [
       "<Figure size 460.8x345.6 with 1 Axes>"
      ]
     },
     "metadata": {
      "needs_background": "light"
     },
     "output_type": "display_data"
    }
   ],
   "source": [
    "az.plot_bf(trace, var_name = 'effect size2_1', prior = np.random.normal(0, 1, 5000))"
   ]
  },
  {
   "cell_type": "code",
   "execution_count": 7,
   "id": "67fd05c8-58f9-4197-aaee-1aaac085a5d3",
   "metadata": {},
   "outputs": [
    {
     "data": {
      "text/plain": [
       "({'BF10': array([0.64940278]), 'BF01': array([1.53987637])},\n",
       " <Axes: title={'center': 'The BF_10 is 0.65\\nThe BF_01 is 1.54'}, xlabel='effect size3_1', ylabel='Density'>)"
      ]
     },
     "execution_count": 7,
     "metadata": {},
     "output_type": "execute_result"
    },
    {
     "data": {
      "image/png": "[encoded data removed]",
      "text/plain": [
       "<Figure size 432x288 with 1 Axes>"
      ]
     },
     "metadata": {
      "needs_background": "light"
     },
     "output_type": "display_data"
    }
   ],
   "source": [
    "az.plot_bf(trace, var_name = 'effect size3_1', prior = np.random.normal(0, 1, 5000))"
   ]
  },
  {
   "cell_type": "code",
   "execution_count": 29,
   "id": "8f9b2d59-0698-4e94-b905-894a379a29b9",
   "metadata": {},
   "outputs": [
    {
     "data": {
      "text/plain": [
       "20.833333333333332"
      ]
     },
     "execution_count": 29,
     "metadata": {},
     "output_type": "execute_result"
    }
   ],
   "source": [
    "after2 = (tr.interaction.values[1,1,:,] - tr.interaction.values[1,0,:,])\n",
    "calcBF(y1=priorC, y2=after2)"
   ]
  },
  {
   "cell_type": "markdown",
   "id": "ccecd709",
   "metadata": {},
   "source": [
    "## Next we calculate the difference between the groups in each time\n",
    "- Althgough the interaction wasn't significant, we still look at this one - as there's a group difference"
   ]
  },
  {
   "cell_type": "code",
   "execution_count": 30,
   "id": "09d58bf8",
   "metadata": {},
   "outputs": [
    {
     "name": "stderr",
     "output_type": "stream",
     "text": [
      "Auto-assigning NUTS sampler...\n",
      "Initializing NUTS using jitter+adapt_diag...\n",
      "Multiprocess sampling (4 chains in 4 jobs)\n",
      "NUTS: [sd, groupIdx, Intercept]\n"
     ]
    },
    {
     "data": {
      "text/html": [
       "\n",
       "<style>\n",
       "    /* Turns off some styling */\n",
       "    progress {\n",
       "        /* gets rid of default border in Firefox and Opera. */\n",
       "        border: none;\n",
       "        /* Needs to be in here for Safari polyfill so background images work as expected. */\n",
       "        background-size: auto;\n",
       "    }\n",
       "    .progress-bar-interrupted, .progress-bar-interrupted::-webkit-progress-bar {\n",
       "        background: #F44336;\n",
       "    }\n",
       "</style>\n"
      ],
      "text/plain": [
       "<IPython.core.display.HTML object>"
      ]
     },
     "metadata": {},
     "output_type": "display_data"
    },
    {
     "data": {
      "text/html": [
       "\n",
       "    <div>\n",
       "      <progress value='8000' class='' max='8000' style='width:300px; height:20px; vertical-align: middle;'></progress>\n",
       "      100.00% [8000/8000 00:02<00:00 Sampling 4 chains, 0 divergences]\n",
       "    </div>\n",
       "    "
      ],
      "text/plain": [
       "<IPython.core.display.HTML object>"
      ]
     },
     "metadata": {},
     "output_type": "display_data"
    },
    {
     "name": "stderr",
     "output_type": "stream",
     "text": [
      "Sampling 4 chains for 1_000 tune and 1_000 draw iterations (4_000 + 4_000 draws total) took 2 seconds.\n"
     ]
    },
    {
     "data": {
      "text/html": [
       "<div>\n",
       "<style scoped>\n",
       "    .dataframe tbody tr th:only-of-type {\n",
       "        vertical-align: middle;\n",
       "    }\n",
       "\n",
       "    .dataframe tbody tr th {\n",
       "        vertical-align: top;\n",
       "    }\n",
       "\n",
       "    .dataframe thead th {\n",
       "        text-align: right;\n",
       "    }\n",
       "</style>\n",
       "<table border=\"1\" class=\"dataframe\">\n",
       "  <thead>\n",
       "    <tr style=\"text-align: right;\">\n",
       "      <th></th>\n",
       "      <th>mean</th>\n",
       "      <th>sd</th>\n",
       "      <th>hdi_2.5%</th>\n",
       "      <th>hdi_97.5%</th>\n",
       "      <th>mcse_mean</th>\n",
       "      <th>mcse_sd</th>\n",
       "      <th>ess_bulk</th>\n",
       "      <th>ess_tail</th>\n",
       "      <th>r_hat</th>\n",
       "    </tr>\n",
       "  </thead>\n",
       "  <tbody>\n",
       "    <tr>\n",
       "      <th>Intercept</th>\n",
       "      <td>-0.032</td>\n",
       "      <td>0.084</td>\n",
       "      <td>-0.204</td>\n",
       "      <td>0.125</td>\n",
       "      <td>0.002</td>\n",
       "      <td>0.001</td>\n",
       "      <td>1759.0</td>\n",
       "      <td>1876.0</td>\n",
       "      <td>1.0</td>\n",
       "    </tr>\n",
       "    <tr>\n",
       "      <th>groupIdx</th>\n",
       "      <td>0.060</td>\n",
       "      <td>0.117</td>\n",
       "      <td>-0.175</td>\n",
       "      <td>0.278</td>\n",
       "      <td>0.003</td>\n",
       "      <td>0.002</td>\n",
       "      <td>1780.0</td>\n",
       "      <td>1841.0</td>\n",
       "      <td>1.0</td>\n",
       "    </tr>\n",
       "    <tr>\n",
       "      <th>sd</th>\n",
       "      <td>0.290</td>\n",
       "      <td>0.045</td>\n",
       "      <td>0.207</td>\n",
       "      <td>0.375</td>\n",
       "      <td>0.001</td>\n",
       "      <td>0.001</td>\n",
       "      <td>2119.0</td>\n",
       "      <td>1749.0</td>\n",
       "      <td>1.0</td>\n",
       "    </tr>\n",
       "  </tbody>\n",
       "</table>\n",
       "</div>"
      ],
      "text/plain": [
       "            mean     sd  hdi_2.5%  hdi_97.5%  mcse_mean  mcse_sd  ess_bulk  \\\n",
       "Intercept -0.032  0.084    -0.204      0.125      0.002    0.001    1759.0   \n",
       "groupIdx   0.060  0.117    -0.175      0.278      0.003    0.002    1780.0   \n",
       "sd         0.290  0.045     0.207      0.375      0.001    0.001    2119.0   \n",
       "\n",
       "           ess_tail  r_hat  \n",
       "Intercept    1876.0    1.0  \n",
       "groupIdx     1841.0    1.0  \n",
       "sd           1749.0    1.0  "
      ]
     },
     "execution_count": 30,
     "metadata": {},
     "output_type": "execute_result"
    }
   ],
   "source": [
    "with pm.Model() as model_glm:\n",
    "    pm.GLM.from_formula('hippo1 ~ groupIdx', df)\n",
    "    traceSes1 = pm.sample(return_inferencedata=True)\n",
    "az.summary(traceSes1, hdi_prob=.95)"
   ]
  },
  {
   "cell_type": "code",
   "execution_count": 33,
   "id": "2485f550",
   "metadata": {},
   "outputs": [
    {
     "name": "stderr",
     "output_type": "stream",
     "text": [
      "Auto-assigning NUTS sampler...\n",
      "Initializing NUTS using jitter+adapt_diag...\n",
      "Multiprocess sampling (4 chains in 4 jobs)\n",
      "NUTS: [sd, groupIdx, Intercept]\n"
     ]
    },
    {
     "data": {
      "text/html": [
       "\n",
       "<style>\n",
       "    /* Turns off some styling */\n",
       "    progress {\n",
       "        /* gets rid of default border in Firefox and Opera. */\n",
       "        border: none;\n",
       "        /* Needs to be in here for Safari polyfill so background images work as expected. */\n",
       "        background-size: auto;\n",
       "    }\n",
       "    .progress-bar-interrupted, .progress-bar-interrupted::-webkit-progress-bar {\n",
       "        background: #F44336;\n",
       "    }\n",
       "</style>\n"
      ],
      "text/plain": [
       "<IPython.core.display.HTML object>"
      ]
     },
     "metadata": {},
     "output_type": "display_data"
    },
    {
     "data": {
      "text/html": [
       "\n",
       "    <div>\n",
       "      <progress value='8000' class='' max='8000' style='width:300px; height:20px; vertical-align: middle;'></progress>\n",
       "      100.00% [8000/8000 00:02<00:00 Sampling 4 chains, 0 divergences]\n",
       "    </div>\n",
       "    "
      ],
      "text/plain": [
       "<IPython.core.display.HTML object>"
      ]
     },
     "metadata": {},
     "output_type": "display_data"
    },
    {
     "name": "stderr",
     "output_type": "stream",
     "text": [
      "Sampling 4 chains for 1_000 tune and 1_000 draw iterations (4_000 + 4_000 draws total) took 2 seconds.\n"
     ]
    },
    {
     "data": {
      "text/html": [
       "<div>\n",
       "<style scoped>\n",
       "    .dataframe tbody tr th:only-of-type {\n",
       "        vertical-align: middle;\n",
       "    }\n",
       "\n",
       "    .dataframe tbody tr th {\n",
       "        vertical-align: top;\n",
       "    }\n",
       "\n",
       "    .dataframe thead th {\n",
       "        text-align: right;\n",
       "    }\n",
       "</style>\n",
       "<table border=\"1\" class=\"dataframe\">\n",
       "  <thead>\n",
       "    <tr style=\"text-align: right;\">\n",
       "      <th></th>\n",
       "      <th>mean</th>\n",
       "      <th>sd</th>\n",
       "      <th>hdi_2.5%</th>\n",
       "      <th>hdi_97.5%</th>\n",
       "      <th>mcse_mean</th>\n",
       "      <th>mcse_sd</th>\n",
       "      <th>ess_bulk</th>\n",
       "      <th>ess_tail</th>\n",
       "      <th>r_hat</th>\n",
       "    </tr>\n",
       "  </thead>\n",
       "  <tbody>\n",
       "    <tr>\n",
       "      <th>Intercept</th>\n",
       "      <td>0.181</td>\n",
       "      <td>0.143</td>\n",
       "      <td>-0.093</td>\n",
       "      <td>0.464</td>\n",
       "      <td>0.003</td>\n",
       "      <td>0.002</td>\n",
       "      <td>1828.0</td>\n",
       "      <td>1901.0</td>\n",
       "      <td>1.0</td>\n",
       "    </tr>\n",
       "    <tr>\n",
       "      <th>groupIdx</th>\n",
       "      <td>-0.290</td>\n",
       "      <td>0.192</td>\n",
       "      <td>-0.644</td>\n",
       "      <td>0.088</td>\n",
       "      <td>0.005</td>\n",
       "      <td>0.003</td>\n",
       "      <td>1764.0</td>\n",
       "      <td>1890.0</td>\n",
       "      <td>1.0</td>\n",
       "    </tr>\n",
       "    <tr>\n",
       "      <th>sd</th>\n",
       "      <td>0.483</td>\n",
       "      <td>0.075</td>\n",
       "      <td>0.344</td>\n",
       "      <td>0.631</td>\n",
       "      <td>0.002</td>\n",
       "      <td>0.001</td>\n",
       "      <td>1820.0</td>\n",
       "      <td>1555.0</td>\n",
       "      <td>1.0</td>\n",
       "    </tr>\n",
       "  </tbody>\n",
       "</table>\n",
       "</div>"
      ],
      "text/plain": [
       "            mean     sd  hdi_2.5%  hdi_97.5%  mcse_mean  mcse_sd  ess_bulk  \\\n",
       "Intercept  0.181  0.143    -0.093      0.464      0.003    0.002    1828.0   \n",
       "groupIdx  -0.290  0.192    -0.644      0.088      0.005    0.003    1764.0   \n",
       "sd         0.483  0.075     0.344      0.631      0.002    0.001    1820.0   \n",
       "\n",
       "           ess_tail  r_hat  \n",
       "Intercept    1901.0    1.0  \n",
       "groupIdx     1890.0    1.0  \n",
       "sd           1555.0    1.0  "
      ]
     },
     "execution_count": 33,
     "metadata": {},
     "output_type": "execute_result"
    }
   ],
   "source": [
    "with pm.Model() as model_glm:\n",
    "    pm.GLM.from_formula('hippo2 ~ groupIdx', df)\n",
    "    traceSes2 = pm.sample(return_inferencedata=True)\n",
    "az.summary(traceSes2, hdi_prob=.95)"
   ]
  },
  {
   "cell_type": "code",
   "execution_count": 34,
   "id": "95474bef",
   "metadata": {},
   "outputs": [
    {
     "name": "stderr",
     "output_type": "stream",
     "text": [
      "Auto-assigning NUTS sampler...\n",
      "Initializing NUTS using jitter+adapt_diag...\n",
      "Multiprocess sampling (4 chains in 4 jobs)\n",
      "NUTS: [sd, groupIdx, Intercept]\n"
     ]
    },
    {
     "data": {
      "text/html": [
       "\n",
       "<style>\n",
       "    /* Turns off some styling */\n",
       "    progress {\n",
       "        /* gets rid of default border in Firefox and Opera. */\n",
       "        border: none;\n",
       "        /* Needs to be in here for Safari polyfill so background images work as expected. */\n",
       "        background-size: auto;\n",
       "    }\n",
       "    .progress-bar-interrupted, .progress-bar-interrupted::-webkit-progress-bar {\n",
       "        background: #F44336;\n",
       "    }\n",
       "</style>\n"
      ],
      "text/plain": [
       "<IPython.core.display.HTML object>"
      ]
     },
     "metadata": {},
     "output_type": "display_data"
    },
    {
     "data": {
      "text/html": [
       "\n",
       "    <div>\n",
       "      <progress value='8000' class='' max='8000' style='width:300px; height:20px; vertical-align: middle;'></progress>\n",
       "      100.00% [8000/8000 00:02<00:00 Sampling 4 chains, 0 divergences]\n",
       "    </div>\n",
       "    "
      ],
      "text/plain": [
       "<IPython.core.display.HTML object>"
      ]
     },
     "metadata": {},
     "output_type": "display_data"
    },
    {
     "name": "stderr",
     "output_type": "stream",
     "text": [
      "Sampling 4 chains for 1_000 tune and 1_000 draw iterations (4_000 + 4_000 draws total) took 2 seconds.\n"
     ]
    },
    {
     "data": {
      "text/html": [
       "<div>\n",
       "<style scoped>\n",
       "    .dataframe tbody tr th:only-of-type {\n",
       "        vertical-align: middle;\n",
       "    }\n",
       "\n",
       "    .dataframe tbody tr th {\n",
       "        vertical-align: top;\n",
       "    }\n",
       "\n",
       "    .dataframe thead th {\n",
       "        text-align: right;\n",
       "    }\n",
       "</style>\n",
       "<table border=\"1\" class=\"dataframe\">\n",
       "  <thead>\n",
       "    <tr style=\"text-align: right;\">\n",
       "      <th></th>\n",
       "      <th>mean</th>\n",
       "      <th>sd</th>\n",
       "      <th>hdi_5%</th>\n",
       "      <th>hdi_95%</th>\n",
       "      <th>mcse_mean</th>\n",
       "      <th>mcse_sd</th>\n",
       "      <th>ess_bulk</th>\n",
       "      <th>ess_tail</th>\n",
       "      <th>r_hat</th>\n",
       "    </tr>\n",
       "  </thead>\n",
       "  <tbody>\n",
       "    <tr>\n",
       "      <th>Intercept</th>\n",
       "      <td>0.018</td>\n",
       "      <td>0.136</td>\n",
       "      <td>-0.204</td>\n",
       "      <td>0.248</td>\n",
       "      <td>0.003</td>\n",
       "      <td>0.002</td>\n",
       "      <td>1884.0</td>\n",
       "      <td>1814.0</td>\n",
       "      <td>1.0</td>\n",
       "    </tr>\n",
       "    <tr>\n",
       "      <th>groupIdx</th>\n",
       "      <td>-0.176</td>\n",
       "      <td>0.180</td>\n",
       "      <td>-0.465</td>\n",
       "      <td>0.127</td>\n",
       "      <td>0.004</td>\n",
       "      <td>0.003</td>\n",
       "      <td>1902.0</td>\n",
       "      <td>2435.0</td>\n",
       "      <td>1.0</td>\n",
       "    </tr>\n",
       "    <tr>\n",
       "      <th>sd</th>\n",
       "      <td>0.427</td>\n",
       "      <td>0.071</td>\n",
       "      <td>0.317</td>\n",
       "      <td>0.536</td>\n",
       "      <td>0.002</td>\n",
       "      <td>0.001</td>\n",
       "      <td>2017.0</td>\n",
       "      <td>1973.0</td>\n",
       "      <td>1.0</td>\n",
       "    </tr>\n",
       "  </tbody>\n",
       "</table>\n",
       "</div>"
      ],
      "text/plain": [
       "            mean     sd  hdi_5%  hdi_95%  mcse_mean  mcse_sd  ess_bulk  \\\n",
       "Intercept  0.018  0.136  -0.204    0.248      0.003    0.002    1884.0   \n",
       "groupIdx  -0.176  0.180  -0.465    0.127      0.004    0.003    1902.0   \n",
       "sd         0.427  0.071   0.317    0.536      0.002    0.001    2017.0   \n",
       "\n",
       "           ess_tail  r_hat  \n",
       "Intercept    1814.0    1.0  \n",
       "groupIdx     2435.0    1.0  \n",
       "sd           1973.0    1.0  "
      ]
     },
     "execution_count": 34,
     "metadata": {},
     "output_type": "execute_result"
    }
   ],
   "source": [
    "with pm.Model() as model_glm:\n",
    "    pm.GLM.from_formula('hippo3 ~ groupIdx', df)\n",
    "    traceSes3 = pm.sample(return_inferencedata=True)\n",
    "az.summary(traceSes3, hdi_prob=.9)"
   ]
  },
  {
   "cell_type": "markdown",
   "id": "11a491c1",
   "metadata": {},
   "source": [
    "## Use a different way"
   ]
  },
  {
   "cell_type": "code",
   "execution_count": 35,
   "id": "45513510",
   "metadata": {},
   "outputs": [],
   "source": [
    "## create a function that will simply run the model for each session\n",
    "def runModel(variable):\n",
    "    with pm.Model() as hierarchical:\n",
    "        nu = pm.Gamma('nu',2,0.1)\n",
    "        a = pm.Normal('a', mu=0, sd=1) \n",
    "        bMed = pm.StudentT('bMed', mu=0,nu=nu , shape=2) #\n",
    "\n",
    "        # Model error\n",
    "        eps = pm.HalfCauchy('eps', 5)\n",
    "\n",
    "        y_hat = a + bMed[df.groupIdx]\n",
    "\n",
    "        # Data likelihood\n",
    "        likelihood = pm.Normal('likelihood', mu=y_hat,\n",
    "                               sigma=eps, observed=df[str(variable)])\n",
    "\n",
    "        trace = pm.sample(draws=2000, tune=1000,target_accept=0.9, return_inferencedata=False, cores=4)\n",
    "        diff = trace['bMed'][:,1] - trace['bMed'][:,0]\n",
    "    return trace, diff"
   ]
  },
  {
   "cell_type": "code",
   "execution_count": 36,
   "id": "f3ee54be",
   "metadata": {},
   "outputs": [
    {
     "name": "stderr",
     "output_type": "stream",
     "text": [
      "Auto-assigning NUTS sampler...\n",
      "Initializing NUTS using jitter+adapt_diag...\n",
      "Multiprocess sampling (4 chains in 4 jobs)\n",
      "NUTS: [eps, bMed, a, nu]\n"
     ]
    },
    {
     "data": {
      "text/html": [
       "\n",
       "<style>\n",
       "    /* Turns off some styling */\n",
       "    progress {\n",
       "        /* gets rid of default border in Firefox and Opera. */\n",
       "        border: none;\n",
       "        /* Needs to be in here for Safari polyfill so background images work as expected. */\n",
       "        background-size: auto;\n",
       "    }\n",
       "    .progress-bar-interrupted, .progress-bar-interrupted::-webkit-progress-bar {\n",
       "        background: #F44336;\n",
       "    }\n",
       "</style>\n"
      ],
      "text/plain": [
       "<IPython.core.display.HTML object>"
      ]
     },
     "metadata": {},
     "output_type": "display_data"
    },
    {
     "data": {
      "text/html": [
       "\n",
       "    <div>\n",
       "      <progress value='12000' class='' max='12000' style='width:300px; height:20px; vertical-align: middle;'></progress>\n",
       "      100.00% [12000/12000 00:18<00:00 Sampling 4 chains, 0 divergences]\n",
       "    </div>\n",
       "    "
      ],
      "text/plain": [
       "<IPython.core.display.HTML object>"
      ]
     },
     "metadata": {},
     "output_type": "display_data"
    },
    {
     "name": "stderr",
     "output_type": "stream",
     "text": [
      "Sampling 4 chains for 1_000 tune and 2_000 draw iterations (4_000 + 8_000 draws total) took 18 seconds.\n"
     ]
    }
   ],
   "source": [
    "ses1trace, ses1Diff = runModel('hippo1')"
   ]
  },
  {
   "cell_type": "code",
   "execution_count": 37,
   "id": "8307756a",
   "metadata": {},
   "outputs": [
    {
     "name": "stdout",
     "output_type": "stream",
     "text": [
      "Group difference is 0.70075\n"
     ]
    },
    {
     "data": {
      "image/png": "[encoded data removed]",
      "text/plain": [
       "<Figure size 640x480 with 1 Axes>"
      ]
     },
     "metadata": {},
     "output_type": "display_data"
    }
   ],
   "source": [
    "pm.summary(ses1trace)\n",
    "sns.distplot(ses1Diff)\n",
    "print(f'Group difference is {sum(ses1Diff>0)/len(ses1Diff)}')"
   ]
  },
  {
   "cell_type": "code",
   "execution_count": 38,
   "id": "30df6895",
   "metadata": {},
   "outputs": [
    {
     "name": "stderr",
     "output_type": "stream",
     "text": [
      "Auto-assigning NUTS sampler...\n",
      "Initializing NUTS using jitter+adapt_diag...\n",
      "Multiprocess sampling (4 chains in 4 jobs)\n",
      "NUTS: [likelihood_missing, eps, bMed, a, nu]\n"
     ]
    },
    {
     "data": {
      "text/html": [
       "\n",
       "<style>\n",
       "    /* Turns off some styling */\n",
       "    progress {\n",
       "        /* gets rid of default border in Firefox and Opera. */\n",
       "        border: none;\n",
       "        /* Needs to be in here for Safari polyfill so background images work as expected. */\n",
       "        background-size: auto;\n",
       "    }\n",
       "    .progress-bar-interrupted, .progress-bar-interrupted::-webkit-progress-bar {\n",
       "        background: #F44336;\n",
       "    }\n",
       "</style>\n"
      ],
      "text/plain": [
       "<IPython.core.display.HTML object>"
      ]
     },
     "metadata": {},
     "output_type": "display_data"
    },
    {
     "data": {
      "text/html": [
       "\n",
       "    <div>\n",
       "      <progress value='12000' class='' max='12000' style='width:300px; height:20px; vertical-align: middle;'></progress>\n",
       "      100.00% [12000/12000 00:14<00:00 Sampling 4 chains, 0 divergences]\n",
       "    </div>\n",
       "    "
      ],
      "text/plain": [
       "<IPython.core.display.HTML object>"
      ]
     },
     "metadata": {},
     "output_type": "display_data"
    },
    {
     "name": "stderr",
     "output_type": "stream",
     "text": [
      "Sampling 4 chains for 1_000 tune and 2_000 draw iterations (4_000 + 8_000 draws total) took 14 seconds.\n"
     ]
    },
    {
     "name": "stdout",
     "output_type": "stream",
     "text": [
      "Group difference is 0.058375\n"
     ]
    },
    {
     "data": {
      "image/png": "[encoded data removed]",
      "text/plain": [
       "<Figure size 640x480 with 1 Axes>"
      ]
     },
     "metadata": {},
     "output_type": "display_data"
    }
   ],
   "source": [
    "ses2trace, ses2Diff = runModel('hippo2')\n",
    "pm.summary(ses2trace)\n",
    "sns.distplot(ses2Diff)\n",
    "print(f'Group difference is {sum(ses2Diff>0)/len(ses2Diff)}')"
   ]
  },
  {
   "cell_type": "code",
   "execution_count": 39,
   "id": "7a6271cc",
   "metadata": {},
   "outputs": [
    {
     "name": "stderr",
     "output_type": "stream",
     "text": [
      "Auto-assigning NUTS sampler...\n",
      "Initializing NUTS using jitter+adapt_diag...\n",
      "Multiprocess sampling (4 chains in 4 jobs)\n",
      "NUTS: [likelihood_missing, eps, bMed, a, nu]\n"
     ]
    },
    {
     "data": {
      "text/html": [
       "\n",
       "<style>\n",
       "    /* Turns off some styling */\n",
       "    progress {\n",
       "        /* gets rid of default border in Firefox and Opera. */\n",
       "        border: none;\n",
       "        /* Needs to be in here for Safari polyfill so background images work as expected. */\n",
       "        background-size: auto;\n",
       "    }\n",
       "    .progress-bar-interrupted, .progress-bar-interrupted::-webkit-progress-bar {\n",
       "        background: #F44336;\n",
       "    }\n",
       "</style>\n"
      ],
      "text/plain": [
       "<IPython.core.display.HTML object>"
      ]
     },
     "metadata": {},
     "output_type": "display_data"
    },
    {
     "data": {
      "text/html": [
       "\n",
       "    <div>\n",
       "      <progress value='12000' class='' max='12000' style='width:300px; height:20px; vertical-align: middle;'></progress>\n",
       "      100.00% [12000/12000 00:15<00:00 Sampling 4 chains, 6 divergences]\n",
       "    </div>\n",
       "    "
      ],
      "text/plain": [
       "<IPython.core.display.HTML object>"
      ]
     },
     "metadata": {},
     "output_type": "display_data"
    },
    {
     "name": "stderr",
     "output_type": "stream",
     "text": [
      "Sampling 4 chains for 1_000 tune and 2_000 draw iterations (4_000 + 8_000 draws total) took 16 seconds.\n",
      "There was 1 divergence after tuning. Increase `target_accept` or reparameterize.\n",
      "There were 5 divergences after tuning. Increase `target_accept` or reparameterize.\n"
     ]
    },
    {
     "name": "stdout",
     "output_type": "stream",
     "text": [
      "Group difference is 0.17825\n"
     ]
    },
    {
     "data": {
      "image/png": "[encoded data removed]",
      "text/plain": [
       "<Figure size 640x480 with 1 Axes>"
      ]
     },
     "metadata": {},
     "output_type": "display_data"
    }
   ],
   "source": [
    "ses3trace, ses3Diff = runModel('hippo3')\n",
    "pm.summary(ses3trace)\n",
    "sns.distplot(ses3Diff)\n",
    "print(f'Group difference is {sum(ses3Diff>0)/len(ses3Diff)}')"
   ]
  },
  {
   "cell_type": "markdown",
   "id": "41e8961f",
   "metadata": {},
   "source": [
    "## Plotting"
   ]
  },
  {
   "cell_type": "code",
   "execution_count": 9,
   "id": "9a126af2",
   "metadata": {},
   "outputs": [],
   "source": [
    "# set variables\n",
    "def plotDiff(depVar,indepVar, trace):\n",
    "    sns.set_style(\"ticks\") # set style\n",
    "    y = str(depVar)\n",
    "    dfPlot = df\n",
    "    ci = np.quantile(trace.posterior[str(indepVar)], [.025,.975])\n",
    "    fig, (ax1, ax2) = plt.subplots(1,2, figsize=(3, 5),gridspec_kw={'width_ratios': [1, .2],\n",
    "                                                            'wspace':.1})\n",
    "    g1 = sns.stripplot(y= y, x='group', data=dfPlot, size = 8, ax=ax1)\n",
    "    sns.boxplot(y= y, x='group', data=dfPlot,  ax=ax1,\n",
    "                boxprops=dict(alpha=.3))\n",
    "    g2 = sns.distplot(trace.posterior[str(indepVar)], ax = ax2, vertical=True)\n",
    "    ax2.vlines(x=0.001,ymin=ci[0], ymax=ci[1], color='black', \n",
    "               linewidth = 3, linestyle = \"-\")\n",
    "\n",
    "    #g3.set_ylim(-.7, .7)\n",
    "    #ax1.set_ylim(-.7,.7)\n",
    "    ax2.set_ylim(g1.get_ylim()) # use first graph's limits to get the relevant for this one\n",
    "    ax2.yaxis.tick_right()\n",
    "    ax2.set_xticks([])\n",
    "    ax2.set_ylabel(\"Difference between groups\", fontsize=14) \n",
    "    ax2.yaxis.set_label_position(\"right\")\n",
    "    ax1.set_ylabel(\"Hippocampus reactivity to traumatic script\", fontsize=12)\n",
    "    ax1.set_xlabel(\"Group\", fontsize=14)\n",
    "    fig.savefig( str(depVar) + 'Reactivity.png', dpi=300, bbox_inches='tight')\n",
    "    return fig"
   ]
  },
  {
   "cell_type": "code",
   "execution_count": 10,
   "id": "e507a727-f107-43ef-a452-82df7959ed28",
   "metadata": {},
   "outputs": [],
   "source": [
    "def plotSubfigs(subfigs,subNum, depVar,indepVar, trace, title):\n",
    "    # gets subfig and the index number of it to plot the same as above\n",
    "    sns.set_style(\"ticks\") # set style\n",
    "    y = str(depVar)\n",
    "    dfPlot = df\n",
    "    ci = np.quantile(trace.posterior[str(indepVar)], [.025,.975])\n",
    "    axsLeft = subfigs[subNum].subplots(1,2, gridspec_kw={'width_ratios': [1, .2],'wspace':.01})\n",
    "    ax1 = axsLeft[0]\n",
    "    ax2 = axsLeft[1]\n",
    "    g1 = sns.stripplot(y= y, x='group', data=dfPlot, size = 8, ax=ax1)\n",
    "    sns.boxplot(y= y, x='group', data=dfPlot,  ax=ax1,\n",
    "                 boxprops=dict(alpha=.3))\n",
    "    g2 = sns.distplot(trace.posterior[str(indepVar)], ax = ax2, vertical=True)\n",
    "    ax2.vlines(x=0.001,ymin=ci[0], ymax=ci[1], color='black', \n",
    "                linewidth = 3, linestyle = \"-\")\n",
    "\n",
    "    ax2.set_ylim(-1,1)#(g1.get_ylim()) # use first graph's limits to get the relevant for this one\n",
    "    ax1.set_ylim(-1, 1)\n",
    "    ax2.yaxis.tick_right()\n",
    "    ax2.set_xticks([])\n",
    "    ax2.set_ylabel(\"Difference between groups\", fontsize=14) \n",
    "    ax2.yaxis.set_label_position(\"right\")\n",
    "    ax1.set_ylabel(\"Hippocampus reactivity to traumatic script\", fontsize=12)\n",
    "    ax1.set_xlabel('')#(\"Group\", fontsize=14)\n",
    "    ax1.set_title(title, fontsize=15)\n",
    "    #ax1.title.set_style(font=\"large\")"
   ]
  },
  {
   "cell_type": "code",
   "execution_count": 11,
   "id": "d1780db1-2d32-4edb-8eb2-0755b2fe3d87",
   "metadata": {},
   "outputs": [
    {
     "data": {
      "image/png": "[encoded data removed]",
      "text/plain": [
       "<Figure size 1500x600 with 6 Axes>"
      ]
     },
     "metadata": {},
     "output_type": "display_data"
    }
   ],
   "source": [
    "fig = plt.figure(constrained_layout=True, figsize=(15, 6))\n",
    "subfigs = fig.subfigures(1, 3, wspace=0.1)\n",
    "plotSubfigs(subfigs, 0, 'hippo1','groupIdx',traceSes1, \"Before Treatment\")\n",
    "\n",
    "plotSubfigs(subfigs, 1, 'hippo2','groupIdx',traceSes2, 'After Treatment')\n",
    "\n",
    "plotSubfigs(subfigs, 2,'hippo3','groupIdx',traceSes3, '30-Days')\n",
    "\n",
    "fig.savefig(\"Hipp_reactivity.png\",  dpi=300, bbox_inches='tight')"
   ]
  }
 ],
 "metadata": {
  "kernelspec": {
   "display_name": "pymc4",
   "language": "python",
   "name": "pymc4"
  },
  "language_info": {
   "codemirror_mode": {
    "name": "ipython",
    "version": 3
   },
   "file_extension": ".py",
   "mimetype": "text/x-python",
   "name": "python",
   "nbconvert_exporter": "python",
   "pygments_lexer": "ipython3",
   "version": "3.9.12"
  }
 },
 "nbformat": 4,
 "nbformat_minor": 5
}
