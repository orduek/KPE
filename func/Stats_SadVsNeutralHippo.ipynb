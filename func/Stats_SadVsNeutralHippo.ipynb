{
 "cells": [
  {
   "cell_type": "markdown",
   "id": "6be63692",
   "metadata": {},
   "source": [
    "## Calculate differences\n",
    "- Calculate differences using different models on the effect of Sad vs. Neutral on hippocampus"
   ]
  },
  {
   "cell_type": "code",
   "execution_count": 1,
   "id": "d3fdd094",
   "metadata": {},
   "outputs": [],
   "source": [
    "import warnings\n",
    "warnings.filterwarnings('ignore')"
   ]
  },
  {
   "cell_type": "code",
   "execution_count": 2,
   "id": "2044bf5e",
   "metadata": {},
   "outputs": [],
   "source": [
    "import pandas as pd\n",
    "import numpy as np\n",
    "import seaborn as sns\n",
    "import matplotlib.pyplot as plt\n",
    "import pymc3 as pm\n",
    "import arviz as az\n",
    "\n",
    "# regular GLMs\n",
    "import pingouin as pg\n",
    "import statsmodels.api as sm\n",
    "import statsmodels.formula.api as smf"
   ]
  },
  {
   "cell_type": "code",
   "execution_count": 3,
   "id": "60284eb7",
   "metadata": {},
   "outputs": [
    {
     "data": {
      "text/html": [
       "<div>\n",
       "<style scoped>\n",
       "    .dataframe tbody tr th:only-of-type {\n",
       "        vertical-align: middle;\n",
       "    }\n",
       "\n",
       "    .dataframe tbody tr th {\n",
       "        vertical-align: top;\n",
       "    }\n",
       "\n",
       "    .dataframe thead th {\n",
       "        text-align: right;\n",
       "    }\n",
       "</style>\n",
       "<table border=\"1\" class=\"dataframe\">\n",
       "  <thead>\n",
       "    <tr style=\"text-align: right;\">\n",
       "      <th></th>\n",
       "      <th>scr_id</th>\n",
       "      <th>groupIdx</th>\n",
       "      <th>variable</th>\n",
       "      <th>value</th>\n",
       "    </tr>\n",
       "  </thead>\n",
       "  <tbody>\n",
       "    <tr>\n",
       "      <th>0</th>\n",
       "      <td>KPE008</td>\n",
       "      <td>1</td>\n",
       "      <td>hippo1</td>\n",
       "      <td>0.234608</td>\n",
       "    </tr>\n",
       "    <tr>\n",
       "      <th>1</th>\n",
       "      <td>KPE1223</td>\n",
       "      <td>1</td>\n",
       "      <td>hippo1</td>\n",
       "      <td>0.531416</td>\n",
       "    </tr>\n",
       "    <tr>\n",
       "      <th>2</th>\n",
       "      <td>KPE1253</td>\n",
       "      <td>0</td>\n",
       "      <td>hippo1</td>\n",
       "      <td>0.197590</td>\n",
       "    </tr>\n",
       "    <tr>\n",
       "      <th>3</th>\n",
       "      <td>KPE1263</td>\n",
       "      <td>0</td>\n",
       "      <td>hippo1</td>\n",
       "      <td>0.274846</td>\n",
       "    </tr>\n",
       "    <tr>\n",
       "      <th>4</th>\n",
       "      <td>KPE1293</td>\n",
       "      <td>1</td>\n",
       "      <td>hippo1</td>\n",
       "      <td>0.453574</td>\n",
       "    </tr>\n",
       "    <tr>\n",
       "      <th>...</th>\n",
       "      <td>...</td>\n",
       "      <td>...</td>\n",
       "      <td>...</td>\n",
       "      <td>...</td>\n",
       "    </tr>\n",
       "    <tr>\n",
       "      <th>73</th>\n",
       "      <td>KPE1561</td>\n",
       "      <td>0</td>\n",
       "      <td>hippo3</td>\n",
       "      <td>0.180578</td>\n",
       "    </tr>\n",
       "    <tr>\n",
       "      <th>74</th>\n",
       "      <td>KPE1573</td>\n",
       "      <td>1</td>\n",
       "      <td>hippo3</td>\n",
       "      <td>0.531689</td>\n",
       "    </tr>\n",
       "    <tr>\n",
       "      <th>75</th>\n",
       "      <td>KPE1578</td>\n",
       "      <td>0</td>\n",
       "      <td>hippo3</td>\n",
       "      <td>0.293152</td>\n",
       "    </tr>\n",
       "    <tr>\n",
       "      <th>76</th>\n",
       "      <td>KPE1587</td>\n",
       "      <td>1</td>\n",
       "      <td>hippo3</td>\n",
       "      <td>NaN</td>\n",
       "    </tr>\n",
       "    <tr>\n",
       "      <th>77</th>\n",
       "      <td>KPE1612</td>\n",
       "      <td>0</td>\n",
       "      <td>hippo3</td>\n",
       "      <td>0.208636</td>\n",
       "    </tr>\n",
       "  </tbody>\n",
       "</table>\n",
       "<p>78 rows × 4 columns</p>\n",
       "</div>"
      ],
      "text/plain": [
       "     scr_id  groupIdx variable     value\n",
       "0    KPE008         1   hippo1  0.234608\n",
       "1   KPE1223         1   hippo1  0.531416\n",
       "2   KPE1253         0   hippo1  0.197590\n",
       "3   KPE1263         0   hippo1  0.274846\n",
       "4   KPE1293         1   hippo1  0.453574\n",
       "..      ...       ...      ...       ...\n",
       "73  KPE1561         0   hippo3  0.180578\n",
       "74  KPE1573         1   hippo3  0.531689\n",
       "75  KPE1578         0   hippo3  0.293152\n",
       "76  KPE1587         1   hippo3       NaN\n",
       "77  KPE1612         0   hippo3  0.208636\n",
       "\n",
       "[78 rows x 4 columns]"
      ]
     },
     "execution_count": 3,
     "metadata": {},
     "output_type": "execute_result"
    }
   ],
   "source": [
    "## Load amygdala database\n",
    "df = pd.read_csv('SadvsNeutral.csv')\n",
    "# create a long format for analysis\n",
    "df_long = pd.melt(df, id_vars=['scr_id','groupIdx'], value_vars=['hippo1','hippo2','hippo3'])\n",
    "df_long"
   ]
  },
  {
   "cell_type": "code",
   "execution_count": 4,
   "id": "b23e09b6",
   "metadata": {},
   "outputs": [
    {
     "name": "stdout",
     "output_type": "stream",
     "text": [
      "            Mixed Linear Model Regression Results\n",
      "=============================================================\n",
      "Model:               MixedLM   Dependent Variable:   value   \n",
      "No. Observations:    73        Method:               REML    \n",
      "No. Groups:          26        Scale:                0.0965  \n",
      "Min. group size:     2         Log-Likelihood:       -27.7719\n",
      "Max. group size:     3         Converged:            Yes     \n",
      "Mean group size:     2.8                                     \n",
      "-------------------------------------------------------------\n",
      "                   Coef.  Std.Err.   z    P>|z| [0.025 0.975]\n",
      "-------------------------------------------------------------\n",
      "Intercept           0.183    0.079  2.325 0.020  0.029  0.337\n",
      "variable[T.hippo2] -0.113    0.087 -1.302 0.193 -0.284  0.057\n",
      "variable[T.hippo3] -0.246    0.091 -2.718 0.007 -0.424 -0.069\n",
      "groupIdx            0.006    0.087  0.069 0.945 -0.165  0.177\n",
      "Group Var           0.015    0.055                           \n",
      "=============================================================\n",
      "\n"
     ]
    }
   ],
   "source": [
    "## Start with simple GLM models (using statsmodel)\n",
    "glm = smf.mixedlm('value ~ variable + groupIdx', data=df_long, groups = df_long.scr_id, \n",
    "                 missing='drop')\n",
    "model1 = glm.fit()\n",
    "print(model1.summary())"
   ]
  },
  {
   "cell_type": "code",
   "execution_count": 5,
   "id": "356b54cd",
   "metadata": {},
   "outputs": [
    {
     "name": "stdout",
     "output_type": "stream",
     "text": [
      "\n",
      "=============\n",
      "ANOVA SUMMARY\n",
      "=============\n",
      "\n",
      "Source          SS    DF1    DF2     MS      F    p-unc    np2      eps\n",
      "-----------  -----  -----  -----  -----  -----  -------  -----  -------\n",
      "groupIdx     0.036      1     19  0.036  0.231    0.636  0.012  nan\n",
      "variable     0.629      2     38  0.314  3.083    0.057  0.140    0.862\n",
      "Interaction  0.013      2     38  0.007  0.066    0.937  0.003  nan\n",
      "\n"
     ]
    }
   ],
   "source": [
    "# mixed anova\n",
    "aov = pg.mixed_anova(data=df_long, dv='value', between='groupIdx', within='variable',\n",
    "                     subject='scr_id', correction=False, effsize=\"np2\")\n",
    "pg.print_table(aov)"
   ]
  },
  {
   "cell_type": "markdown",
   "id": "74c29b6d",
   "metadata": {},
   "source": [
    "## Build a Bayesian model\n",
    "- Here we would model each subject under each group"
   ]
  },
  {
   "cell_type": "code",
   "execution_count": 6,
   "id": "d0dc7054",
   "metadata": {},
   "outputs": [
    {
     "data": {
      "text/plain": [
       "<seaborn.axisgrid.PairGrid at 0x2b70fdcf1e90>"
      ]
     },
     "execution_count": 6,
     "metadata": {},
     "output_type": "execute_result"
    },
    {
     "data": {
      "image/png": "[encoded data removed]",
      "text/plain": [
       "<Figure size 592x540 with 12 Axes>"
      ]
     },
     "metadata": {
      "needs_background": "light"
     },
     "output_type": "display_data"
    }
   ],
   "source": [
    "# first lets look at the data\n",
    "sns.pairplot(df[['hippo1','hippo2','hippo3','groupIdx']], hue='groupIdx', kind='scatter')"
   ]
  },
  {
   "cell_type": "code",
   "execution_count": 7,
   "id": "3b1bc0db",
   "metadata": {},
   "outputs": [
    {
     "data": {
      "text/html": [
       "<div>\n",
       "<style scoped>\n",
       "    .dataframe tbody tr th:only-of-type {\n",
       "        vertical-align: middle;\n",
       "    }\n",
       "\n",
       "    .dataframe tbody tr th {\n",
       "        vertical-align: top;\n",
       "    }\n",
       "\n",
       "    .dataframe thead tr th {\n",
       "        text-align: left;\n",
       "    }\n",
       "\n",
       "    .dataframe thead tr:last-of-type th {\n",
       "        text-align: right;\n",
       "    }\n",
       "</style>\n",
       "<table border=\"1\" class=\"dataframe\">\n",
       "  <thead>\n",
       "    <tr>\n",
       "      <th></th>\n",
       "      <th></th>\n",
       "      <th colspan=\"8\" halign=\"left\">value</th>\n",
       "    </tr>\n",
       "    <tr>\n",
       "      <th></th>\n",
       "      <th></th>\n",
       "      <th>count</th>\n",
       "      <th>mean</th>\n",
       "      <th>std</th>\n",
       "      <th>min</th>\n",
       "      <th>25%</th>\n",
       "      <th>50%</th>\n",
       "      <th>75%</th>\n",
       "      <th>max</th>\n",
       "    </tr>\n",
       "    <tr>\n",
       "      <th>groupIdx</th>\n",
       "      <th>variable</th>\n",
       "      <th></th>\n",
       "      <th></th>\n",
       "      <th></th>\n",
       "      <th></th>\n",
       "      <th></th>\n",
       "      <th></th>\n",
       "      <th></th>\n",
       "      <th></th>\n",
       "    </tr>\n",
       "  </thead>\n",
       "  <tbody>\n",
       "    <tr>\n",
       "      <th rowspan=\"3\" valign=\"top\">0</th>\n",
       "      <th>hippo1</th>\n",
       "      <td>13.0</td>\n",
       "      <td>0.215714</td>\n",
       "      <td>0.404668</td>\n",
       "      <td>-0.403742</td>\n",
       "      <td>-0.027478</td>\n",
       "      <td>0.197590</td>\n",
       "      <td>0.586536</td>\n",
       "      <td>0.871599</td>\n",
       "    </tr>\n",
       "    <tr>\n",
       "      <th>hippo2</th>\n",
       "      <td>12.0</td>\n",
       "      <td>0.016875</td>\n",
       "      <td>0.372220</td>\n",
       "      <td>-0.843681</td>\n",
       "      <td>-0.095227</td>\n",
       "      <td>0.015740</td>\n",
       "      <td>0.135997</td>\n",
       "      <td>0.714679</td>\n",
       "    </tr>\n",
       "    <tr>\n",
       "      <th>hippo3</th>\n",
       "      <td>10.0</td>\n",
       "      <td>-0.054563</td>\n",
       "      <td>0.240540</td>\n",
       "      <td>-0.475626</td>\n",
       "      <td>-0.191548</td>\n",
       "      <td>-0.100027</td>\n",
       "      <td>0.153527</td>\n",
       "      <td>0.293152</td>\n",
       "    </tr>\n",
       "    <tr>\n",
       "      <th rowspan=\"3\" valign=\"top\">1</th>\n",
       "      <th>hippo1</th>\n",
       "      <td>13.0</td>\n",
       "      <td>0.156420</td>\n",
       "      <td>0.348754</td>\n",
       "      <td>-0.689111</td>\n",
       "      <td>0.080509</td>\n",
       "      <td>0.130657</td>\n",
       "      <td>0.453574</td>\n",
       "      <td>0.668318</td>\n",
       "    </tr>\n",
       "    <tr>\n",
       "      <th>hippo2</th>\n",
       "      <td>13.0</td>\n",
       "      <td>0.121901</td>\n",
       "      <td>0.277857</td>\n",
       "      <td>-0.341339</td>\n",
       "      <td>-0.064275</td>\n",
       "      <td>0.077379</td>\n",
       "      <td>0.393284</td>\n",
       "      <td>0.596412</td>\n",
       "    </tr>\n",
       "    <tr>\n",
       "      <th>hippo3</th>\n",
       "      <td>12.0</td>\n",
       "      <td>-0.071995</td>\n",
       "      <td>0.327780</td>\n",
       "      <td>-0.562707</td>\n",
       "      <td>-0.316966</td>\n",
       "      <td>-0.024463</td>\n",
       "      <td>0.093448</td>\n",
       "      <td>0.531689</td>\n",
       "    </tr>\n",
       "  </tbody>\n",
       "</table>\n",
       "</div>"
      ],
      "text/plain": [
       "                  value                                                    \\\n",
       "                  count      mean       std       min       25%       50%   \n",
       "groupIdx variable                                                           \n",
       "0        hippo1    13.0  0.215714  0.404668 -0.403742 -0.027478  0.197590   \n",
       "         hippo2    12.0  0.016875  0.372220 -0.843681 -0.095227  0.015740   \n",
       "         hippo3    10.0 -0.054563  0.240540 -0.475626 -0.191548 -0.100027   \n",
       "1        hippo1    13.0  0.156420  0.348754 -0.689111  0.080509  0.130657   \n",
       "         hippo2    13.0  0.121901  0.277857 -0.341339 -0.064275  0.077379   \n",
       "         hippo3    12.0 -0.071995  0.327780 -0.562707 -0.316966 -0.024463   \n",
       "\n",
       "                                       \n",
       "                        75%       max  \n",
       "groupIdx variable                      \n",
       "0        hippo1    0.586536  0.871599  \n",
       "         hippo2    0.135997  0.714679  \n",
       "         hippo3    0.153527  0.293152  \n",
       "1        hippo1    0.453574  0.668318  \n",
       "         hippo2    0.393284  0.596412  \n",
       "         hippo3    0.093448  0.531689  "
      ]
     },
     "execution_count": 7,
     "metadata": {},
     "output_type": "execute_result"
    }
   ],
   "source": [
    "df_long.groupby(['groupIdx', 'variable']).describe()"
   ]
  },
  {
   "cell_type": "code",
   "execution_count": 8,
   "id": "7bbbbdae",
   "metadata": {},
   "outputs": [
    {
     "data": {
      "image/png": "[encoded data removed]",
      "text/plain": [
       "<Figure size 412x360 with 1 Axes>"
      ]
     },
     "metadata": {
      "needs_background": "light"
     },
     "output_type": "display_data"
    }
   ],
   "source": [
    "g = sns.catplot(y='value',x='variable', hue='groupIdx', data=df_long, kind='point', ci=68,\n",
    "               hue_order=[1,0])\n",
    "g.set_xlabels(\"Time\")\n",
    "g.set_xticklabels(['BeforeTrt','AfterTrt','30-Day'])\n",
    "g.set_ylabels(\"SCR\")\n",
    "g._legend.set_title(\"Group\")\n",
    "new_labels = ['Ketamine', 'Midazolam']\n",
    "for t, l in zip(g._legend.texts, new_labels): t.set_text(l)\n",
    "g.savefig('hippoSad_pointGraph.png', dpi=300)"
   ]
  },
  {
   "cell_type": "code",
   "execution_count": 9,
   "id": "fc931ec2",
   "metadata": {},
   "outputs": [
    {
     "name": "stdout",
     "output_type": "stream",
     "text": [
      "[ 0  1  2  3  4  5  6  7  8  9 10 11 12 13 14 15 16 17 18 19 20 21 22 23\n",
      " 24 25  0  1  2  3  4  5  6  7  8  9 10 11 12 13 14 15 16 17 18 19 20 21\n",
      " 22 23 24 25  0  1  2  3  4  5  6  7  8  9 10 11 12 13 14 15 16 17 18 19\n",
      " 20 21 22 23 24 25]\n",
      "26\n",
      "[0 0 0 0 0 0 0 0 0 0 0 0 0 0 0 0 0 0 0 0 0 0 0 0 0 0 1 1 1 1 1 1 1 1 1 1 1\n",
      " 1 1 1 1 1 1 1 1 1 1 1 1 1 1 1 2 2 2 2 2 2 2 2 2 2 2 2 2 2 2 2 2 2 2 2 2 2\n",
      " 2 2 2 2]\n"
     ]
    }
   ],
   "source": [
    "# take indexes for building the model\n",
    "df_long['scr_id'] = df_long.scr_id.astype('category')\n",
    "sub_idx = df_long.scr_id.cat.codes.values # get county category index values (613 x 1) vec with nums [0-7]\n",
    "print(sub_idx)\n",
    "n_subs = len(np.unique(df_long.scr_id))\n",
    "print(n_subs)\n",
    "# set time as index also\n",
    "#df_long.groupIdx = pd.Categorical(df_long.groupIdx)\n",
    "df_long.variable = pd.Categorical(df_long.variable, \n",
    "                    categories=['hippo1','hippo2','hippo3'])\n",
    "timeIDX = df_long.variable.cat.codes.values\n",
    "print(timeIDX)\n",
    "df_long['time'] = timeIDX\n"
   ]
  },
  {
   "cell_type": "code",
   "execution_count": 10,
   "id": "986dfe8d",
   "metadata": {},
   "outputs": [
    {
     "name": "stderr",
     "output_type": "stream",
     "text": [
      "Auto-assigning NUTS sampler...\n",
      "Initializing NUTS using jitter+adapt_diag...\n",
      "Multiprocess sampling (4 chains in 4 jobs)\n",
      "NUTS: [likelihood_missing, eps, b, a]\n"
     ]
    },
    {
     "data": {
      "text/html": [
       "\n",
       "    <div>\n",
       "        <style>\n",
       "            /* Turns off some styling */\n",
       "            progress {\n",
       "                /* gets rid of default border in Firefox and Opera. */\n",
       "                border: none;\n",
       "                /* Needs to be in here for Safari polyfill so background images work as expected. */\n",
       "                background-size: auto;\n",
       "            }\n",
       "            .progress-bar-interrupted, .progress-bar-interrupted::-webkit-progress-bar {\n",
       "                background: #F44336;\n",
       "            }\n",
       "        </style>\n",
       "      <progress value='20000' class='' max='20000' style='width:300px; height:20px; vertical-align: middle;'></progress>\n",
       "      100.00% [20000/20000 00:08<00:00 Sampling 4 chains, 0 divergences]\n",
       "    </div>\n",
       "    "
      ],
      "text/plain": [
       "<IPython.core.display.HTML object>"
      ]
     },
     "metadata": {},
     "output_type": "display_data"
    },
    {
     "name": "stderr",
     "output_type": "stream",
     "text": [
      "Sampling 4 chains for 1_000 tune and 4_000 draw iterations (4_000 + 16_000 draws total) took 8 seconds.\n"
     ]
    }
   ],
   "source": [
    "## Run similar model but without hyperpriors\n",
    "# now we build a model - modeling the score of each group on each time point\n",
    "with pm.Model() as hierarchical:\n",
    "      \n",
    "    a = pm.Normal('a', mu=0, sd=0.1, shape=n_subs)\n",
    "       \n",
    "    b = pm.Normal('b', mu=0, sd=0.1, shape=3)\n",
    "   \n",
    "    # Model error\n",
    "    eps = pm.HalfCauchy('eps', 1)\n",
    "\n",
    "    y_hat = a[sub_idx] + b[timeIDX]\n",
    "\n",
    "    # Data likelihood\n",
    "    likelihood = pm.Normal('likelihood', mu=y_hat,\n",
    "                           sigma=eps, observed=df_long.value)\n",
    "    \n",
    "    trace = pm.sample(draws=4000, tune=1000, target_accept=0.9, return_inferencedata=True, cores=4)"
   ]
  },
  {
   "cell_type": "code",
   "execution_count": 11,
   "id": "03501ec5",
   "metadata": {},
   "outputs": [
    {
     "data": {
      "text/html": [
       "<div>\n",
       "<style scoped>\n",
       "    .dataframe tbody tr th:only-of-type {\n",
       "        vertical-align: middle;\n",
       "    }\n",
       "\n",
       "    .dataframe tbody tr th {\n",
       "        vertical-align: top;\n",
       "    }\n",
       "\n",
       "    .dataframe thead th {\n",
       "        text-align: right;\n",
       "    }\n",
       "</style>\n",
       "<table border=\"1\" class=\"dataframe\">\n",
       "  <thead>\n",
       "    <tr style=\"text-align: right;\">\n",
       "      <th></th>\n",
       "      <th>mean</th>\n",
       "      <th>sd</th>\n",
       "      <th>hdi_5%</th>\n",
       "      <th>hdi_95%</th>\n",
       "      <th>mcse_mean</th>\n",
       "      <th>mcse_sd</th>\n",
       "      <th>ess_bulk</th>\n",
       "      <th>ess_tail</th>\n",
       "      <th>r_hat</th>\n",
       "    </tr>\n",
       "  </thead>\n",
       "  <tbody>\n",
       "    <tr>\n",
       "      <th>a[0]</th>\n",
       "      <td>0.018</td>\n",
       "      <td>0.088</td>\n",
       "      <td>-0.120</td>\n",
       "      <td>0.169</td>\n",
       "      <td>0.001</td>\n",
       "      <td>0.001</td>\n",
       "      <td>29261.0</td>\n",
       "      <td>11410.0</td>\n",
       "      <td>1.0</td>\n",
       "    </tr>\n",
       "    <tr>\n",
       "      <th>a[1]</th>\n",
       "      <td>0.052</td>\n",
       "      <td>0.089</td>\n",
       "      <td>-0.093</td>\n",
       "      <td>0.200</td>\n",
       "      <td>0.001</td>\n",
       "      <td>0.001</td>\n",
       "      <td>25318.0</td>\n",
       "      <td>12514.0</td>\n",
       "      <td>1.0</td>\n",
       "    </tr>\n",
       "    <tr>\n",
       "      <th>a[2]</th>\n",
       "      <td>-0.001</td>\n",
       "      <td>0.091</td>\n",
       "      <td>-0.141</td>\n",
       "      <td>0.158</td>\n",
       "      <td>0.001</td>\n",
       "      <td>0.001</td>\n",
       "      <td>21795.0</td>\n",
       "      <td>11719.0</td>\n",
       "      <td>1.0</td>\n",
       "    </tr>\n",
       "    <tr>\n",
       "      <th>a[3]</th>\n",
       "      <td>0.028</td>\n",
       "      <td>0.087</td>\n",
       "      <td>-0.118</td>\n",
       "      <td>0.169</td>\n",
       "      <td>0.001</td>\n",
       "      <td>0.001</td>\n",
       "      <td>20536.0</td>\n",
       "      <td>12009.0</td>\n",
       "      <td>1.0</td>\n",
       "    </tr>\n",
       "    <tr>\n",
       "      <th>a[4]</th>\n",
       "      <td>0.085</td>\n",
       "      <td>0.088</td>\n",
       "      <td>-0.065</td>\n",
       "      <td>0.223</td>\n",
       "      <td>0.001</td>\n",
       "      <td>0.001</td>\n",
       "      <td>24920.0</td>\n",
       "      <td>13038.0</td>\n",
       "      <td>1.0</td>\n",
       "    </tr>\n",
       "    <tr>\n",
       "      <th>a[5]</th>\n",
       "      <td>-0.024</td>\n",
       "      <td>0.089</td>\n",
       "      <td>-0.175</td>\n",
       "      <td>0.119</td>\n",
       "      <td>0.001</td>\n",
       "      <td>0.001</td>\n",
       "      <td>24684.0</td>\n",
       "      <td>11974.0</td>\n",
       "      <td>1.0</td>\n",
       "    </tr>\n",
       "    <tr>\n",
       "      <th>a[6]</th>\n",
       "      <td>0.037</td>\n",
       "      <td>0.088</td>\n",
       "      <td>-0.108</td>\n",
       "      <td>0.181</td>\n",
       "      <td>0.001</td>\n",
       "      <td>0.001</td>\n",
       "      <td>24593.0</td>\n",
       "      <td>13076.0</td>\n",
       "      <td>1.0</td>\n",
       "    </tr>\n",
       "    <tr>\n",
       "      <th>a[7]</th>\n",
       "      <td>0.022</td>\n",
       "      <td>0.088</td>\n",
       "      <td>-0.124</td>\n",
       "      <td>0.164</td>\n",
       "      <td>0.001</td>\n",
       "      <td>0.001</td>\n",
       "      <td>25872.0</td>\n",
       "      <td>12375.0</td>\n",
       "      <td>1.0</td>\n",
       "    </tr>\n",
       "    <tr>\n",
       "      <th>a[8]</th>\n",
       "      <td>-0.014</td>\n",
       "      <td>0.088</td>\n",
       "      <td>-0.155</td>\n",
       "      <td>0.133</td>\n",
       "      <td>0.001</td>\n",
       "      <td>0.001</td>\n",
       "      <td>26102.0</td>\n",
       "      <td>12196.0</td>\n",
       "      <td>1.0</td>\n",
       "    </tr>\n",
       "    <tr>\n",
       "      <th>a[9]</th>\n",
       "      <td>-0.087</td>\n",
       "      <td>0.088</td>\n",
       "      <td>-0.238</td>\n",
       "      <td>0.050</td>\n",
       "      <td>0.001</td>\n",
       "      <td>0.001</td>\n",
       "      <td>23431.0</td>\n",
       "      <td>11928.0</td>\n",
       "      <td>1.0</td>\n",
       "    </tr>\n",
       "    <tr>\n",
       "      <th>a[10]</th>\n",
       "      <td>0.021</td>\n",
       "      <td>0.088</td>\n",
       "      <td>-0.121</td>\n",
       "      <td>0.166</td>\n",
       "      <td>0.001</td>\n",
       "      <td>0.001</td>\n",
       "      <td>23341.0</td>\n",
       "      <td>11193.0</td>\n",
       "      <td>1.0</td>\n",
       "    </tr>\n",
       "    <tr>\n",
       "      <th>a[11]</th>\n",
       "      <td>-0.063</td>\n",
       "      <td>0.088</td>\n",
       "      <td>-0.203</td>\n",
       "      <td>0.086</td>\n",
       "      <td>0.001</td>\n",
       "      <td>0.001</td>\n",
       "      <td>20541.0</td>\n",
       "      <td>12249.0</td>\n",
       "      <td>1.0</td>\n",
       "    </tr>\n",
       "    <tr>\n",
       "      <th>a[12]</th>\n",
       "      <td>-0.066</td>\n",
       "      <td>0.089</td>\n",
       "      <td>-0.213</td>\n",
       "      <td>0.078</td>\n",
       "      <td>0.001</td>\n",
       "      <td>0.001</td>\n",
       "      <td>23437.0</td>\n",
       "      <td>11827.0</td>\n",
       "      <td>1.0</td>\n",
       "    </tr>\n",
       "    <tr>\n",
       "      <th>a[13]</th>\n",
       "      <td>-0.025</td>\n",
       "      <td>0.088</td>\n",
       "      <td>-0.170</td>\n",
       "      <td>0.123</td>\n",
       "      <td>0.001</td>\n",
       "      <td>0.001</td>\n",
       "      <td>23682.0</td>\n",
       "      <td>11302.0</td>\n",
       "      <td>1.0</td>\n",
       "    </tr>\n",
       "    <tr>\n",
       "      <th>a[14]</th>\n",
       "      <td>-0.045</td>\n",
       "      <td>0.088</td>\n",
       "      <td>-0.189</td>\n",
       "      <td>0.099</td>\n",
       "      <td>0.001</td>\n",
       "      <td>0.001</td>\n",
       "      <td>20370.0</td>\n",
       "      <td>12957.0</td>\n",
       "      <td>1.0</td>\n",
       "    </tr>\n",
       "    <tr>\n",
       "      <th>a[15]</th>\n",
       "      <td>0.030</td>\n",
       "      <td>0.089</td>\n",
       "      <td>-0.114</td>\n",
       "      <td>0.175</td>\n",
       "      <td>0.001</td>\n",
       "      <td>0.001</td>\n",
       "      <td>25117.0</td>\n",
       "      <td>12249.0</td>\n",
       "      <td>1.0</td>\n",
       "    </tr>\n",
       "    <tr>\n",
       "      <th>a[16]</th>\n",
       "      <td>0.010</td>\n",
       "      <td>0.088</td>\n",
       "      <td>-0.142</td>\n",
       "      <td>0.149</td>\n",
       "      <td>0.001</td>\n",
       "      <td>0.001</td>\n",
       "      <td>22546.0</td>\n",
       "      <td>12503.0</td>\n",
       "      <td>1.0</td>\n",
       "    </tr>\n",
       "    <tr>\n",
       "      <th>a[17]</th>\n",
       "      <td>-0.029</td>\n",
       "      <td>0.089</td>\n",
       "      <td>-0.178</td>\n",
       "      <td>0.114</td>\n",
       "      <td>0.001</td>\n",
       "      <td>0.001</td>\n",
       "      <td>18867.0</td>\n",
       "      <td>12400.0</td>\n",
       "      <td>1.0</td>\n",
       "    </tr>\n",
       "    <tr>\n",
       "      <th>a[18]</th>\n",
       "      <td>0.057</td>\n",
       "      <td>0.092</td>\n",
       "      <td>-0.095</td>\n",
       "      <td>0.208</td>\n",
       "      <td>0.001</td>\n",
       "      <td>0.001</td>\n",
       "      <td>23986.0</td>\n",
       "      <td>12282.0</td>\n",
       "      <td>1.0</td>\n",
       "    </tr>\n",
       "    <tr>\n",
       "      <th>a[19]</th>\n",
       "      <td>0.026</td>\n",
       "      <td>0.091</td>\n",
       "      <td>-0.124</td>\n",
       "      <td>0.174</td>\n",
       "      <td>0.001</td>\n",
       "      <td>0.001</td>\n",
       "      <td>21290.0</td>\n",
       "      <td>12686.0</td>\n",
       "      <td>1.0</td>\n",
       "    </tr>\n",
       "    <tr>\n",
       "      <th>a[20]</th>\n",
       "      <td>-0.030</td>\n",
       "      <td>0.089</td>\n",
       "      <td>-0.180</td>\n",
       "      <td>0.111</td>\n",
       "      <td>0.001</td>\n",
       "      <td>0.001</td>\n",
       "      <td>23147.0</td>\n",
       "      <td>12427.0</td>\n",
       "      <td>1.0</td>\n",
       "    </tr>\n",
       "    <tr>\n",
       "      <th>a[21]</th>\n",
       "      <td>0.008</td>\n",
       "      <td>0.088</td>\n",
       "      <td>-0.134</td>\n",
       "      <td>0.155</td>\n",
       "      <td>0.001</td>\n",
       "      <td>0.001</td>\n",
       "      <td>21222.0</td>\n",
       "      <td>12654.0</td>\n",
       "      <td>1.0</td>\n",
       "    </tr>\n",
       "    <tr>\n",
       "      <th>a[22]</th>\n",
       "      <td>-0.033</td>\n",
       "      <td>0.089</td>\n",
       "      <td>-0.178</td>\n",
       "      <td>0.111</td>\n",
       "      <td>0.001</td>\n",
       "      <td>0.001</td>\n",
       "      <td>25203.0</td>\n",
       "      <td>12685.0</td>\n",
       "      <td>1.0</td>\n",
       "    </tr>\n",
       "    <tr>\n",
       "      <th>a[23]</th>\n",
       "      <td>0.025</td>\n",
       "      <td>0.091</td>\n",
       "      <td>-0.128</td>\n",
       "      <td>0.172</td>\n",
       "      <td>0.001</td>\n",
       "      <td>0.001</td>\n",
       "      <td>24277.0</td>\n",
       "      <td>12185.0</td>\n",
       "      <td>1.0</td>\n",
       "    </tr>\n",
       "    <tr>\n",
       "      <th>a[24]</th>\n",
       "      <td>0.010</td>\n",
       "      <td>0.092</td>\n",
       "      <td>-0.144</td>\n",
       "      <td>0.157</td>\n",
       "      <td>0.001</td>\n",
       "      <td>0.001</td>\n",
       "      <td>24576.0</td>\n",
       "      <td>13412.0</td>\n",
       "      <td>1.0</td>\n",
       "    </tr>\n",
       "    <tr>\n",
       "      <th>a[25]</th>\n",
       "      <td>0.128</td>\n",
       "      <td>0.090</td>\n",
       "      <td>-0.022</td>\n",
       "      <td>0.274</td>\n",
       "      <td>0.001</td>\n",
       "      <td>0.001</td>\n",
       "      <td>24461.0</td>\n",
       "      <td>11504.0</td>\n",
       "      <td>1.0</td>\n",
       "    </tr>\n",
       "    <tr>\n",
       "      <th>b[0]</th>\n",
       "      <td>0.130</td>\n",
       "      <td>0.055</td>\n",
       "      <td>0.040</td>\n",
       "      <td>0.220</td>\n",
       "      <td>0.000</td>\n",
       "      <td>0.000</td>\n",
       "      <td>22369.0</td>\n",
       "      <td>11016.0</td>\n",
       "      <td>1.0</td>\n",
       "    </tr>\n",
       "    <tr>\n",
       "      <th>b[1]</th>\n",
       "      <td>0.047</td>\n",
       "      <td>0.056</td>\n",
       "      <td>-0.042</td>\n",
       "      <td>0.140</td>\n",
       "      <td>0.000</td>\n",
       "      <td>0.000</td>\n",
       "      <td>18683.0</td>\n",
       "      <td>12174.0</td>\n",
       "      <td>1.0</td>\n",
       "    </tr>\n",
       "    <tr>\n",
       "      <th>b[2]</th>\n",
       "      <td>-0.046</td>\n",
       "      <td>0.058</td>\n",
       "      <td>-0.139</td>\n",
       "      <td>0.050</td>\n",
       "      <td>0.000</td>\n",
       "      <td>0.000</td>\n",
       "      <td>15891.0</td>\n",
       "      <td>12954.0</td>\n",
       "      <td>1.0</td>\n",
       "    </tr>\n",
       "    <tr>\n",
       "      <th>likelihood_missing[0]</th>\n",
       "      <td>0.075</td>\n",
       "      <td>0.332</td>\n",
       "      <td>-0.494</td>\n",
       "      <td>0.600</td>\n",
       "      <td>0.002</td>\n",
       "      <td>0.003</td>\n",
       "      <td>20699.0</td>\n",
       "      <td>12593.0</td>\n",
       "      <td>1.0</td>\n",
       "    </tr>\n",
       "    <tr>\n",
       "      <th>likelihood_missing[1]</th>\n",
       "      <td>-0.047</td>\n",
       "      <td>0.338</td>\n",
       "      <td>-0.602</td>\n",
       "      <td>0.508</td>\n",
       "      <td>0.002</td>\n",
       "      <td>0.003</td>\n",
       "      <td>20384.0</td>\n",
       "      <td>12423.0</td>\n",
       "      <td>1.0</td>\n",
       "    </tr>\n",
       "    <tr>\n",
       "      <th>likelihood_missing[2]</th>\n",
       "      <td>0.007</td>\n",
       "      <td>0.335</td>\n",
       "      <td>-0.535</td>\n",
       "      <td>0.560</td>\n",
       "      <td>0.002</td>\n",
       "      <td>0.003</td>\n",
       "      <td>18475.0</td>\n",
       "      <td>13164.0</td>\n",
       "      <td>1.0</td>\n",
       "    </tr>\n",
       "    <tr>\n",
       "      <th>likelihood_missing[3]</th>\n",
       "      <td>-0.020</td>\n",
       "      <td>0.340</td>\n",
       "      <td>-0.598</td>\n",
       "      <td>0.521</td>\n",
       "      <td>0.002</td>\n",
       "      <td>0.003</td>\n",
       "      <td>19312.0</td>\n",
       "      <td>12467.0</td>\n",
       "      <td>1.0</td>\n",
       "    </tr>\n",
       "    <tr>\n",
       "      <th>likelihood_missing[4]</th>\n",
       "      <td>-0.036</td>\n",
       "      <td>0.339</td>\n",
       "      <td>-0.603</td>\n",
       "      <td>0.509</td>\n",
       "      <td>0.002</td>\n",
       "      <td>0.003</td>\n",
       "      <td>18656.0</td>\n",
       "      <td>12694.0</td>\n",
       "      <td>1.0</td>\n",
       "    </tr>\n",
       "    <tr>\n",
       "      <th>eps</th>\n",
       "      <td>0.319</td>\n",
       "      <td>0.030</td>\n",
       "      <td>0.271</td>\n",
       "      <td>0.367</td>\n",
       "      <td>0.000</td>\n",
       "      <td>0.000</td>\n",
       "      <td>15720.0</td>\n",
       "      <td>11704.0</td>\n",
       "      <td>1.0</td>\n",
       "    </tr>\n",
       "  </tbody>\n",
       "</table>\n",
       "</div>"
      ],
      "text/plain": [
       "                        mean     sd  hdi_5%  hdi_95%  mcse_mean  mcse_sd  \\\n",
       "a[0]                   0.018  0.088  -0.120    0.169      0.001    0.001   \n",
       "a[1]                   0.052  0.089  -0.093    0.200      0.001    0.001   \n",
       "a[2]                  -0.001  0.091  -0.141    0.158      0.001    0.001   \n",
       "a[3]                   0.028  0.087  -0.118    0.169      0.001    0.001   \n",
       "a[4]                   0.085  0.088  -0.065    0.223      0.001    0.001   \n",
       "a[5]                  -0.024  0.089  -0.175    0.119      0.001    0.001   \n",
       "a[6]                   0.037  0.088  -0.108    0.181      0.001    0.001   \n",
       "a[7]                   0.022  0.088  -0.124    0.164      0.001    0.001   \n",
       "a[8]                  -0.014  0.088  -0.155    0.133      0.001    0.001   \n",
       "a[9]                  -0.087  0.088  -0.238    0.050      0.001    0.001   \n",
       "a[10]                  0.021  0.088  -0.121    0.166      0.001    0.001   \n",
       "a[11]                 -0.063  0.088  -0.203    0.086      0.001    0.001   \n",
       "a[12]                 -0.066  0.089  -0.213    0.078      0.001    0.001   \n",
       "a[13]                 -0.025  0.088  -0.170    0.123      0.001    0.001   \n",
       "a[14]                 -0.045  0.088  -0.189    0.099      0.001    0.001   \n",
       "a[15]                  0.030  0.089  -0.114    0.175      0.001    0.001   \n",
       "a[16]                  0.010  0.088  -0.142    0.149      0.001    0.001   \n",
       "a[17]                 -0.029  0.089  -0.178    0.114      0.001    0.001   \n",
       "a[18]                  0.057  0.092  -0.095    0.208      0.001    0.001   \n",
       "a[19]                  0.026  0.091  -0.124    0.174      0.001    0.001   \n",
       "a[20]                 -0.030  0.089  -0.180    0.111      0.001    0.001   \n",
       "a[21]                  0.008  0.088  -0.134    0.155      0.001    0.001   \n",
       "a[22]                 -0.033  0.089  -0.178    0.111      0.001    0.001   \n",
       "a[23]                  0.025  0.091  -0.128    0.172      0.001    0.001   \n",
       "a[24]                  0.010  0.092  -0.144    0.157      0.001    0.001   \n",
       "a[25]                  0.128  0.090  -0.022    0.274      0.001    0.001   \n",
       "b[0]                   0.130  0.055   0.040    0.220      0.000    0.000   \n",
       "b[1]                   0.047  0.056  -0.042    0.140      0.000    0.000   \n",
       "b[2]                  -0.046  0.058  -0.139    0.050      0.000    0.000   \n",
       "likelihood_missing[0]  0.075  0.332  -0.494    0.600      0.002    0.003   \n",
       "likelihood_missing[1] -0.047  0.338  -0.602    0.508      0.002    0.003   \n",
       "likelihood_missing[2]  0.007  0.335  -0.535    0.560      0.002    0.003   \n",
       "likelihood_missing[3] -0.020  0.340  -0.598    0.521      0.002    0.003   \n",
       "likelihood_missing[4] -0.036  0.339  -0.603    0.509      0.002    0.003   \n",
       "eps                    0.319  0.030   0.271    0.367      0.000    0.000   \n",
       "\n",
       "                       ess_bulk  ess_tail  r_hat  \n",
       "a[0]                    29261.0   11410.0    1.0  \n",
       "a[1]                    25318.0   12514.0    1.0  \n",
       "a[2]                    21795.0   11719.0    1.0  \n",
       "a[3]                    20536.0   12009.0    1.0  \n",
       "a[4]                    24920.0   13038.0    1.0  \n",
       "a[5]                    24684.0   11974.0    1.0  \n",
       "a[6]                    24593.0   13076.0    1.0  \n",
       "a[7]                    25872.0   12375.0    1.0  \n",
       "a[8]                    26102.0   12196.0    1.0  \n",
       "a[9]                    23431.0   11928.0    1.0  \n",
       "a[10]                   23341.0   11193.0    1.0  \n",
       "a[11]                   20541.0   12249.0    1.0  \n",
       "a[12]                   23437.0   11827.0    1.0  \n",
       "a[13]                   23682.0   11302.0    1.0  \n",
       "a[14]                   20370.0   12957.0    1.0  \n",
       "a[15]                   25117.0   12249.0    1.0  \n",
       "a[16]                   22546.0   12503.0    1.0  \n",
       "a[17]                   18867.0   12400.0    1.0  \n",
       "a[18]                   23986.0   12282.0    1.0  \n",
       "a[19]                   21290.0   12686.0    1.0  \n",
       "a[20]                   23147.0   12427.0    1.0  \n",
       "a[21]                   21222.0   12654.0    1.0  \n",
       "a[22]                   25203.0   12685.0    1.0  \n",
       "a[23]                   24277.0   12185.0    1.0  \n",
       "a[24]                   24576.0   13412.0    1.0  \n",
       "a[25]                   24461.0   11504.0    1.0  \n",
       "b[0]                    22369.0   11016.0    1.0  \n",
       "b[1]                    18683.0   12174.0    1.0  \n",
       "b[2]                    15891.0   12954.0    1.0  \n",
       "likelihood_missing[0]   20699.0   12593.0    1.0  \n",
       "likelihood_missing[1]   20384.0   12423.0    1.0  \n",
       "likelihood_missing[2]   18475.0   13164.0    1.0  \n",
       "likelihood_missing[3]   19312.0   12467.0    1.0  \n",
       "likelihood_missing[4]   18656.0   12694.0    1.0  \n",
       "eps                     15720.0   11704.0    1.0  "
      ]
     },
     "execution_count": 11,
     "metadata": {},
     "output_type": "execute_result"
    }
   ],
   "source": [
    "az.summary(trace, hdi_prob=.9)"
   ]
  },
  {
   "cell_type": "code",
   "execution_count": 24,
   "id": "55414729",
   "metadata": {},
   "outputs": [
    {
     "data": {
      "text/plain": [
       "<matplotlib.legend.Legend at 0x2b71400cc710>"
      ]
     },
     "execution_count": 24,
     "metadata": {},
     "output_type": "execute_result"
    },
    {
     "data": {
      "image/png": "[encoded data removed]",
      "text/plain": [
       "<Figure size 432x288 with 1 Axes>"
      ]
     },
     "metadata": {
      "needs_background": "light"
     },
     "output_type": "display_data"
    }
   ],
   "source": [
    "sns.distplot(trace.posterior['b'].data[:,:,0], label='before')\n",
    "sns.distplot(trace.posterior['b'].data[:,:,1], label='after')\n",
    "sns.distplot(trace.posterior['b'].data[:,:,2], label='30Day')\n",
    "plt.legend()"
   ]
  },
  {
   "cell_type": "code",
   "execution_count": 13,
   "id": "3652af36",
   "metadata": {},
   "outputs": [
    {
     "data": {
      "text/plain": [
       "0.0144375"
      ]
     },
     "execution_count": 13,
     "metadata": {},
     "output_type": "execute_result"
    },
    {
     "data": {
      "image/png": "[encoded data removed]",
      "text/plain": [
       "<Figure size 432x288 with 1 Axes>"
      ]
     },
     "metadata": {
      "needs_background": "light"
     },
     "output_type": "display_data"
    }
   ],
   "source": [
    "diffTime = trace.posterior['b'].data[:,:,2] - trace.posterior['b'].data[:,:,0]\n",
    "sns.distplot(diffTime)\n",
    "sum(diffTime.ravel()>0)/len(diffTime.ravel())"
   ]
  },
  {
   "cell_type": "markdown",
   "id": "ccecd709",
   "metadata": {},
   "source": [
    "## Next we calculate the difference between the groups in each time\n",
    "- Althgough the interaction wasn't significant, we still look at this one - as there's a group difference"
   ]
  },
  {
   "cell_type": "code",
   "execution_count": 14,
   "id": "001a1a15",
   "metadata": {},
   "outputs": [
    {
     "name": "stderr",
     "output_type": "stream",
     "text": [
      "Auto-assigning NUTS sampler...\n",
      "Initializing NUTS using jitter+adapt_diag...\n",
      "Multiprocess sampling (4 chains in 4 jobs)\n",
      "NUTS: [sd, groupIdx, Intercept]\n"
     ]
    },
    {
     "data": {
      "text/html": [
       "\n",
       "    <div>\n",
       "        <style>\n",
       "            /* Turns off some styling */\n",
       "            progress {\n",
       "                /* gets rid of default border in Firefox and Opera. */\n",
       "                border: none;\n",
       "                /* Needs to be in here for Safari polyfill so background images work as expected. */\n",
       "                background-size: auto;\n",
       "            }\n",
       "            .progress-bar-interrupted, .progress-bar-interrupted::-webkit-progress-bar {\n",
       "                background: #F44336;\n",
       "            }\n",
       "        </style>\n",
       "      <progress value='8000' class='' max='8000' style='width:300px; height:20px; vertical-align: middle;'></progress>\n",
       "      100.00% [8000/8000 00:02<00:00 Sampling 4 chains, 0 divergences]\n",
       "    </div>\n",
       "    "
      ],
      "text/plain": [
       "<IPython.core.display.HTML object>"
      ]
     },
     "metadata": {},
     "output_type": "display_data"
    },
    {
     "name": "stderr",
     "output_type": "stream",
     "text": [
      "Sampling 4 chains for 1_000 tune and 1_000 draw iterations (4_000 + 4_000 draws total) took 2 seconds.\n"
     ]
    },
    {
     "data": {
      "text/html": [
       "<div>\n",
       "<style scoped>\n",
       "    .dataframe tbody tr th:only-of-type {\n",
       "        vertical-align: middle;\n",
       "    }\n",
       "\n",
       "    .dataframe tbody tr th {\n",
       "        vertical-align: top;\n",
       "    }\n",
       "\n",
       "    .dataframe thead th {\n",
       "        text-align: right;\n",
       "    }\n",
       "</style>\n",
       "<table border=\"1\" class=\"dataframe\">\n",
       "  <thead>\n",
       "    <tr style=\"text-align: right;\">\n",
       "      <th></th>\n",
       "      <th>mean</th>\n",
       "      <th>sd</th>\n",
       "      <th>hdi_5%</th>\n",
       "      <th>hdi_95%</th>\n",
       "      <th>mcse_mean</th>\n",
       "      <th>mcse_sd</th>\n",
       "      <th>ess_bulk</th>\n",
       "      <th>ess_tail</th>\n",
       "      <th>r_hat</th>\n",
       "    </tr>\n",
       "  </thead>\n",
       "  <tbody>\n",
       "    <tr>\n",
       "      <th>Intercept</th>\n",
       "      <td>0.219</td>\n",
       "      <td>0.110</td>\n",
       "      <td>0.035</td>\n",
       "      <td>0.396</td>\n",
       "      <td>0.002</td>\n",
       "      <td>0.002</td>\n",
       "      <td>2169.0</td>\n",
       "      <td>2263.0</td>\n",
       "      <td>1.0</td>\n",
       "    </tr>\n",
       "    <tr>\n",
       "      <th>groupIdx</th>\n",
       "      <td>-0.066</td>\n",
       "      <td>0.156</td>\n",
       "      <td>-0.325</td>\n",
       "      <td>0.187</td>\n",
       "      <td>0.003</td>\n",
       "      <td>0.002</td>\n",
       "      <td>2322.0</td>\n",
       "      <td>2479.0</td>\n",
       "      <td>1.0</td>\n",
       "    </tr>\n",
       "    <tr>\n",
       "      <th>sd</th>\n",
       "      <td>0.398</td>\n",
       "      <td>0.063</td>\n",
       "      <td>0.302</td>\n",
       "      <td>0.495</td>\n",
       "      <td>0.002</td>\n",
       "      <td>0.001</td>\n",
       "      <td>1662.0</td>\n",
       "      <td>1615.0</td>\n",
       "      <td>1.0</td>\n",
       "    </tr>\n",
       "  </tbody>\n",
       "</table>\n",
       "</div>"
      ],
      "text/plain": [
       "            mean     sd  hdi_5%  hdi_95%  mcse_mean  mcse_sd  ess_bulk  \\\n",
       "Intercept  0.219  0.110   0.035    0.396      0.002    0.002    2169.0   \n",
       "groupIdx  -0.066  0.156  -0.325    0.187      0.003    0.002    2322.0   \n",
       "sd         0.398  0.063   0.302    0.495      0.002    0.001    1662.0   \n",
       "\n",
       "           ess_tail  r_hat  \n",
       "Intercept    2263.0    1.0  \n",
       "groupIdx     2479.0    1.0  \n",
       "sd           1615.0    1.0  "
      ]
     },
     "execution_count": 14,
     "metadata": {},
     "output_type": "execute_result"
    }
   ],
   "source": [
    "with pm.Model() as model_glm:\n",
    "    pm.GLM.from_formula('hippo1 ~ groupIdx', df)\n",
    "    traceSes1 = pm.sample(return_inferencedata=True)\n",
    "az.summary(traceSes1, hdi_prob=.9)"
   ]
  },
  {
   "cell_type": "code",
   "execution_count": 15,
   "id": "46f2b9bf",
   "metadata": {},
   "outputs": [
    {
     "name": "stderr",
     "output_type": "stream",
     "text": [
      "Auto-assigning NUTS sampler...\n",
      "Initializing NUTS using jitter+adapt_diag...\n",
      "Multiprocess sampling (4 chains in 4 jobs)\n",
      "NUTS: [sd, groupIdx, Intercept]\n"
     ]
    },
    {
     "data": {
      "text/html": [
       "\n",
       "    <div>\n",
       "        <style>\n",
       "            /* Turns off some styling */\n",
       "            progress {\n",
       "                /* gets rid of default border in Firefox and Opera. */\n",
       "                border: none;\n",
       "                /* Needs to be in here for Safari polyfill so background images work as expected. */\n",
       "                background-size: auto;\n",
       "            }\n",
       "            .progress-bar-interrupted, .progress-bar-interrupted::-webkit-progress-bar {\n",
       "                background: #F44336;\n",
       "            }\n",
       "        </style>\n",
       "      <progress value='8000' class='' max='8000' style='width:300px; height:20px; vertical-align: middle;'></progress>\n",
       "      100.00% [8000/8000 00:02<00:00 Sampling 4 chains, 0 divergences]\n",
       "    </div>\n",
       "    "
      ],
      "text/plain": [
       "<IPython.core.display.HTML object>"
      ]
     },
     "metadata": {},
     "output_type": "display_data"
    },
    {
     "name": "stderr",
     "output_type": "stream",
     "text": [
      "Sampling 4 chains for 1_000 tune and 1_000 draw iterations (4_000 + 4_000 draws total) took 2 seconds.\n"
     ]
    }
   ],
   "source": [
    "with pm.Model() as model_glm:\n",
    "    pm.GLM.from_formula('hippo2 ~ groupIdx', df)\n",
    "    traceSes2 = pm.sample(return_inferencedata=True)"
   ]
  },
  {
   "cell_type": "code",
   "execution_count": 17,
   "id": "1dfc0fc9",
   "metadata": {},
   "outputs": [
    {
     "data": {
      "text/html": [
       "<div>\n",
       "<style scoped>\n",
       "    .dataframe tbody tr th:only-of-type {\n",
       "        vertical-align: middle;\n",
       "    }\n",
       "\n",
       "    .dataframe tbody tr th {\n",
       "        vertical-align: top;\n",
       "    }\n",
       "\n",
       "    .dataframe thead th {\n",
       "        text-align: right;\n",
       "    }\n",
       "</style>\n",
       "<table border=\"1\" class=\"dataframe\">\n",
       "  <thead>\n",
       "    <tr style=\"text-align: right;\">\n",
       "      <th></th>\n",
       "      <th>mean</th>\n",
       "      <th>sd</th>\n",
       "      <th>hdi_5%</th>\n",
       "      <th>hdi_95%</th>\n",
       "      <th>mcse_mean</th>\n",
       "      <th>mcse_sd</th>\n",
       "      <th>ess_bulk</th>\n",
       "      <th>ess_tail</th>\n",
       "      <th>r_hat</th>\n",
       "    </tr>\n",
       "  </thead>\n",
       "  <tbody>\n",
       "    <tr>\n",
       "      <th>Intercept</th>\n",
       "      <td>0.014</td>\n",
       "      <td>0.103</td>\n",
       "      <td>-0.155</td>\n",
       "      <td>0.177</td>\n",
       "      <td>0.002</td>\n",
       "      <td>0.002</td>\n",
       "      <td>1909.0</td>\n",
       "      <td>2316.0</td>\n",
       "      <td>1.0</td>\n",
       "    </tr>\n",
       "    <tr>\n",
       "      <th>groupIdx</th>\n",
       "      <td>0.108</td>\n",
       "      <td>0.142</td>\n",
       "      <td>-0.139</td>\n",
       "      <td>0.327</td>\n",
       "      <td>0.003</td>\n",
       "      <td>0.002</td>\n",
       "      <td>1873.0</td>\n",
       "      <td>2221.0</td>\n",
       "      <td>1.0</td>\n",
       "    </tr>\n",
       "    <tr>\n",
       "      <th>sd</th>\n",
       "      <td>0.346</td>\n",
       "      <td>0.055</td>\n",
       "      <td>0.261</td>\n",
       "      <td>0.432</td>\n",
       "      <td>0.001</td>\n",
       "      <td>0.001</td>\n",
       "      <td>2090.0</td>\n",
       "      <td>1629.0</td>\n",
       "      <td>1.0</td>\n",
       "    </tr>\n",
       "  </tbody>\n",
       "</table>\n",
       "</div>"
      ],
      "text/plain": [
       "            mean     sd  hdi_5%  hdi_95%  mcse_mean  mcse_sd  ess_bulk  \\\n",
       "Intercept  0.014  0.103  -0.155    0.177      0.002    0.002    1909.0   \n",
       "groupIdx   0.108  0.142  -0.139    0.327      0.003    0.002    1873.0   \n",
       "sd         0.346  0.055   0.261    0.432      0.001    0.001    2090.0   \n",
       "\n",
       "           ess_tail  r_hat  \n",
       "Intercept    2316.0    1.0  \n",
       "groupIdx     2221.0    1.0  \n",
       "sd           1629.0    1.0  "
      ]
     },
     "execution_count": 17,
     "metadata": {},
     "output_type": "execute_result"
    }
   ],
   "source": [
    "az.summary(traceSes2, hdi_prob=.9)"
   ]
  },
  {
   "cell_type": "code",
   "execution_count": 16,
   "id": "e4a25e7a",
   "metadata": {},
   "outputs": [
    {
     "name": "stderr",
     "output_type": "stream",
     "text": [
      "Auto-assigning NUTS sampler...\n",
      "Initializing NUTS using jitter+adapt_diag...\n",
      "Multiprocess sampling (4 chains in 4 jobs)\n",
      "NUTS: [sd, groupIdx, Intercept]\n"
     ]
    },
    {
     "data": {
      "text/html": [
       "\n",
       "    <div>\n",
       "        <style>\n",
       "            /* Turns off some styling */\n",
       "            progress {\n",
       "                /* gets rid of default border in Firefox and Opera. */\n",
       "                border: none;\n",
       "                /* Needs to be in here for Safari polyfill so background images work as expected. */\n",
       "                background-size: auto;\n",
       "            }\n",
       "            .progress-bar-interrupted, .progress-bar-interrupted::-webkit-progress-bar {\n",
       "                background: #F44336;\n",
       "            }\n",
       "        </style>\n",
       "      <progress value='8000' class='' max='8000' style='width:300px; height:20px; vertical-align: middle;'></progress>\n",
       "      100.00% [8000/8000 00:02<00:00 Sampling 4 chains, 0 divergences]\n",
       "    </div>\n",
       "    "
      ],
      "text/plain": [
       "<IPython.core.display.HTML object>"
      ]
     },
     "metadata": {},
     "output_type": "display_data"
    },
    {
     "name": "stderr",
     "output_type": "stream",
     "text": [
      "Sampling 4 chains for 1_000 tune and 1_000 draw iterations (4_000 + 4_000 draws total) took 2 seconds.\n",
      "The acceptance probability does not match the target. It is 0.9014017889386786, but should be close to 0.8. Try to increase the number of tuning steps.\n"
     ]
    }
   ],
   "source": [
    "with pm.Model() as model_glm:\n",
    "    pm.GLM.from_formula('hippo3 ~ groupIdx', df)\n",
    "    traceSes3 = pm.sample(return_inferencedata=True)"
   ]
  },
  {
   "cell_type": "code",
   "execution_count": 18,
   "id": "8ccc8e73",
   "metadata": {},
   "outputs": [
    {
     "data": {
      "text/html": [
       "<div>\n",
       "<style scoped>\n",
       "    .dataframe tbody tr th:only-of-type {\n",
       "        vertical-align: middle;\n",
       "    }\n",
       "\n",
       "    .dataframe tbody tr th {\n",
       "        vertical-align: top;\n",
       "    }\n",
       "\n",
       "    .dataframe thead th {\n",
       "        text-align: right;\n",
       "    }\n",
       "</style>\n",
       "<table border=\"1\" class=\"dataframe\">\n",
       "  <thead>\n",
       "    <tr style=\"text-align: right;\">\n",
       "      <th></th>\n",
       "      <th>mean</th>\n",
       "      <th>sd</th>\n",
       "      <th>hdi_5%</th>\n",
       "      <th>hdi_95%</th>\n",
       "      <th>mcse_mean</th>\n",
       "      <th>mcse_sd</th>\n",
       "      <th>ess_bulk</th>\n",
       "      <th>ess_tail</th>\n",
       "      <th>r_hat</th>\n",
       "    </tr>\n",
       "  </thead>\n",
       "  <tbody>\n",
       "    <tr>\n",
       "      <th>Intercept</th>\n",
       "      <td>-0.058</td>\n",
       "      <td>0.102</td>\n",
       "      <td>-0.227</td>\n",
       "      <td>0.103</td>\n",
       "      <td>0.003</td>\n",
       "      <td>0.002</td>\n",
       "      <td>1599.0</td>\n",
       "      <td>1833.0</td>\n",
       "      <td>1.0</td>\n",
       "    </tr>\n",
       "    <tr>\n",
       "      <th>groupIdx</th>\n",
       "      <td>-0.010</td>\n",
       "      <td>0.137</td>\n",
       "      <td>-0.239</td>\n",
       "      <td>0.208</td>\n",
       "      <td>0.004</td>\n",
       "      <td>0.003</td>\n",
       "      <td>1485.0</td>\n",
       "      <td>1992.0</td>\n",
       "      <td>1.0</td>\n",
       "    </tr>\n",
       "    <tr>\n",
       "      <th>sd</th>\n",
       "      <td>0.314</td>\n",
       "      <td>0.054</td>\n",
       "      <td>0.230</td>\n",
       "      <td>0.397</td>\n",
       "      <td>0.001</td>\n",
       "      <td>0.001</td>\n",
       "      <td>1992.0</td>\n",
       "      <td>2146.0</td>\n",
       "      <td>1.0</td>\n",
       "    </tr>\n",
       "  </tbody>\n",
       "</table>\n",
       "</div>"
      ],
      "text/plain": [
       "            mean     sd  hdi_5%  hdi_95%  mcse_mean  mcse_sd  ess_bulk  \\\n",
       "Intercept -0.058  0.102  -0.227    0.103      0.003    0.002    1599.0   \n",
       "groupIdx  -0.010  0.137  -0.239    0.208      0.004    0.003    1485.0   \n",
       "sd         0.314  0.054   0.230    0.397      0.001    0.001    1992.0   \n",
       "\n",
       "           ess_tail  r_hat  \n",
       "Intercept    1833.0    1.0  \n",
       "groupIdx     1992.0    1.0  \n",
       "sd           2146.0    1.0  "
      ]
     },
     "execution_count": 18,
     "metadata": {},
     "output_type": "execute_result"
    }
   ],
   "source": [
    "az.summary(traceSes3, hdi_prob=.9)"
   ]
  },
  {
   "cell_type": "code",
   "execution_count": 23,
   "id": "0378aabd",
   "metadata": {},
   "outputs": [
    {
     "data": {
      "text/plain": [
       "<AxesSubplot:title={'center':'groupIdx'}>"
      ]
     },
     "execution_count": 23,
     "metadata": {},
     "output_type": "execute_result"
    },
    {
     "data": {
      "image/png": "[encoded data removed]",
      "text/plain": [
       "<Figure size 432x288 with 1 Axes>"
      ]
     },
     "metadata": {
      "needs_background": "light"
     },
     "output_type": "display_data"
    }
   ],
   "source": [
    "az.plot_posterior(traceSes3, var_names='groupIdx',hdi_prob=.9, kind='hist',\n",
    "                  ref_val=0)"
   ]
  },
  {
   "cell_type": "markdown",
   "id": "91d59877",
   "metadata": {},
   "source": [
    "## Using a different method for assessing"
   ]
  },
  {
   "cell_type": "code",
   "execution_count": 24,
   "id": "11da7cab",
   "metadata": {},
   "outputs": [],
   "source": [
    "## create a function that will simply run the model for each session\n",
    "def runModel(variable):\n",
    "    with pm.Model() as hierarchical:\n",
    "      \n",
    "        a = pm.Normal('a', mu=0, sd=1) \n",
    "        bMed = pm.Normal('bMed', mu=0, sd=1, shape=2) #\n",
    "\n",
    "        # Model error\n",
    "        eps = pm.HalfCauchy('eps', 5)\n",
    "\n",
    "        y_hat = a + bMed[df.groupIdx]\n",
    "\n",
    "        # Data likelihood\n",
    "        likelihood = pm.Normal('likelihood', mu=y_hat,\n",
    "                               sigma=eps, observed=df[str(variable)])\n",
    "\n",
    "        trace = pm.sample(draws=4000, tune=2000,target_accept=0.9, return_inferencedata=False, cores = 6)\n",
    "        diff = trace['bMed'][:,1] - trace['bMed'][:,0]\n",
    "    return trace, diff"
   ]
  },
  {
   "cell_type": "code",
   "execution_count": 20,
   "id": "f3ee54be",
   "metadata": {},
   "outputs": [
    {
     "name": "stderr",
     "output_type": "stream",
     "text": [
      "Auto-assigning NUTS sampler...\n",
      "Initializing NUTS using jitter+adapt_diag...\n",
      "Multiprocess sampling (4 chains in 4 jobs)\n",
      "NUTS: [eps, bMed, a]\n"
     ]
    },
    {
     "data": {
      "text/html": [
       "\n",
       "    <div>\n",
       "        <style>\n",
       "            /* Turns off some styling */\n",
       "            progress {\n",
       "                /* gets rid of default border in Firefox and Opera. */\n",
       "                border: none;\n",
       "                /* Needs to be in here for Safari polyfill so background images work as expected. */\n",
       "                background-size: auto;\n",
       "            }\n",
       "            .progress-bar-interrupted, .progress-bar-interrupted::-webkit-progress-bar {\n",
       "                background: #F44336;\n",
       "            }\n",
       "        </style>\n",
       "      <progress value='24000' class='' max='24000' style='width:300px; height:20px; vertical-align: middle;'></progress>\n",
       "      100.00% [24000/24000 00:20<00:00 Sampling 4 chains, 0 divergences]\n",
       "    </div>\n",
       "    "
      ],
      "text/plain": [
       "<IPython.core.display.HTML object>"
      ]
     },
     "metadata": {},
     "output_type": "display_data"
    },
    {
     "name": "stderr",
     "output_type": "stream",
     "text": [
      "Sampling 4 chains for 2_000 tune and 4_000 draw iterations (8_000 + 16_000 draws total) took 20 seconds.\n",
      "The number of effective samples is smaller than 25% for some parameters.\n"
     ]
    }
   ],
   "source": [
    "ses1trace, ses1Diff = runModel('hippo1')"
   ]
  },
  {
   "cell_type": "code",
   "execution_count": 21,
   "id": "8307756a",
   "metadata": {},
   "outputs": [
    {
     "name": "stdout",
     "output_type": "stream",
     "text": [
      "Group difference is 0.3551875\n"
     ]
    },
    {
     "data": {
      "image/png": "[encoded data removed]",
      "text/plain": [
       "<Figure size 432x288 with 1 Axes>"
      ]
     },
     "metadata": {
      "needs_background": "light"
     },
     "output_type": "display_data"
    }
   ],
   "source": [
    "pm.summary(ses1trace)\n",
    "sns.distplot(ses1Diff)\n",
    "print(f'Group difference is {sum(ses1Diff>0)/len(ses1Diff)}')"
   ]
  },
  {
   "cell_type": "code",
   "execution_count": 22,
   "id": "30df6895",
   "metadata": {},
   "outputs": [
    {
     "name": "stderr",
     "output_type": "stream",
     "text": [
      "Auto-assigning NUTS sampler...\n",
      "Initializing NUTS using jitter+adapt_diag...\n",
      "Multiprocess sampling (4 chains in 4 jobs)\n",
      "NUTS: [likelihood_missing, eps, bMed, a]\n"
     ]
    },
    {
     "data": {
      "text/html": [
       "\n",
       "    <div>\n",
       "        <style>\n",
       "            /* Turns off some styling */\n",
       "            progress {\n",
       "                /* gets rid of default border in Firefox and Opera. */\n",
       "                border: none;\n",
       "                /* Needs to be in here for Safari polyfill so background images work as expected. */\n",
       "                background-size: auto;\n",
       "            }\n",
       "            .progress-bar-interrupted, .progress-bar-interrupted::-webkit-progress-bar {\n",
       "                background: #F44336;\n",
       "            }\n",
       "        </style>\n",
       "      <progress value='24000' class='' max='24000' style='width:300px; height:20px; vertical-align: middle;'></progress>\n",
       "      100.00% [24000/24000 00:29<00:00 Sampling 4 chains, 0 divergences]\n",
       "    </div>\n",
       "    "
      ],
      "text/plain": [
       "<IPython.core.display.HTML object>"
      ]
     },
     "metadata": {},
     "output_type": "display_data"
    },
    {
     "name": "stderr",
     "output_type": "stream",
     "text": [
      "Sampling 4 chains for 2_000 tune and 4_000 draw iterations (8_000 + 16_000 draws total) took 30 seconds.\n"
     ]
    },
    {
     "name": "stdout",
     "output_type": "stream",
     "text": [
      "Group difference is 0.7765\n"
     ]
    },
    {
     "data": {
      "image/png": "[encoded data removed]",
      "text/plain": [
       "<Figure size 432x288 with 1 Axes>"
      ]
     },
     "metadata": {
      "needs_background": "light"
     },
     "output_type": "display_data"
    }
   ],
   "source": [
    "ses2trace, ses2Diff = runModel('hippo2')\n",
    "pm.summary(ses2trace)\n",
    "sns.distplot(ses2Diff)\n",
    "print(f'Group difference is {sum(ses2Diff>0)/len(ses2Diff)}')"
   ]
  },
  {
   "cell_type": "code",
   "execution_count": 23,
   "id": "7a6271cc",
   "metadata": {},
   "outputs": [
    {
     "name": "stderr",
     "output_type": "stream",
     "text": [
      "Auto-assigning NUTS sampler...\n",
      "Initializing NUTS using jitter+adapt_diag...\n",
      "Multiprocess sampling (4 chains in 4 jobs)\n",
      "NUTS: [likelihood_missing, eps, bMed, a]\n"
     ]
    },
    {
     "data": {
      "text/html": [
       "\n",
       "    <div>\n",
       "        <style>\n",
       "            /* Turns off some styling */\n",
       "            progress {\n",
       "                /* gets rid of default border in Firefox and Opera. */\n",
       "                border: none;\n",
       "                /* Needs to be in here for Safari polyfill so background images work as expected. */\n",
       "                background-size: auto;\n",
       "            }\n",
       "            .progress-bar-interrupted, .progress-bar-interrupted::-webkit-progress-bar {\n",
       "                background: #F44336;\n",
       "            }\n",
       "        </style>\n",
       "      <progress value='24000' class='' max='24000' style='width:300px; height:20px; vertical-align: middle;'></progress>\n",
       "      100.00% [24000/24000 00:35<00:00 Sampling 4 chains, 14 divergences]\n",
       "    </div>\n",
       "    "
      ],
      "text/plain": [
       "<IPython.core.display.HTML object>"
      ]
     },
     "metadata": {},
     "output_type": "display_data"
    },
    {
     "name": "stderr",
     "output_type": "stream",
     "text": [
      "Sampling 4 chains for 2_000 tune and 4_000 draw iterations (8_000 + 16_000 draws total) took 35 seconds.\n",
      "There were 14 divergences after tuning. Increase `target_accept` or reparameterize.\n"
     ]
    },
    {
     "name": "stdout",
     "output_type": "stream",
     "text": [
      "Group difference is 0.4475\n"
     ]
    },
    {
     "data": {
      "image/png": "[encoded data removed]",
      "text/plain": [
       "<Figure size 432x288 with 1 Axes>"
      ]
     },
     "metadata": {
      "needs_background": "light"
     },
     "output_type": "display_data"
    }
   ],
   "source": [
    "ses3trace, ses3Diff = runModel('hippo3')\n",
    "pm.summary(ses3trace)\n",
    "sns.distplot(ses3Diff)\n",
    "print(f'Group difference is {sum(ses3Diff>0)/len(ses3Diff)}')"
   ]
  },
  {
   "cell_type": "markdown",
   "id": "5158bf5d",
   "metadata": {},
   "source": [
    "## Plotting"
   ]
  },
  {
   "cell_type": "code",
   "execution_count": 28,
   "id": "d31637f1",
   "metadata": {},
   "outputs": [],
   "source": [
    "# set variables\n",
    "def plotDiff(depVar,indepVar, trace):\n",
    "    sns.set_style(\"ticks\") # set style\n",
    "    y = str(depVar)\n",
    "    dfPlot = df\n",
    "    ci = np.quantile(trace.posterior[str(indepVar)], [.05,.95])\n",
    "    fig, (ax1, ax2) = plt.subplots(1,2, figsize=(3, 5),gridspec_kw={'width_ratios': [1, .2],\n",
    "                                                            'wspace':.1})\n",
    "    g1 = sns.stripplot(y= y, x='group', data=dfPlot, size = 8, ax=ax1)\n",
    "    sns.boxplot(y= y, x='group', data=dfPlot,  ax=ax1,\n",
    "                boxprops=dict(alpha=.3))\n",
    "    g2 = sns.distplot(trace.posterior[str(indepVar)], ax = ax2, vertical=True)\n",
    "    ax2.vlines(x=0.001,ymin=ci[0], ymax=ci[1], color='black', \n",
    "               linewidth = 3, linestyle = \"-\")\n",
    "\n",
    "    #g3.set_ylim(-.7, .7)\n",
    "    #ax1.set_ylim(-.7,.7)\n",
    "    ax2.set_ylim(g1.get_ylim()) # use first graph's limits to get the relevant for this one\n",
    "    ax2.yaxis.tick_right()\n",
    "    ax2.set_xticks([])\n",
    "    ax2.set_ylabel(\"Difference between groups\", fontsize=14) \n",
    "    ax2.yaxis.set_label_position(\"right\")\n",
    "    ax1.set_ylabel(\"Hippocampus reactivity to sad script\", fontsize=12)\n",
    "    ax1.set_xlabel(\"Group\", fontsize=14)\n",
    "    fig.savefig( str(depVar) + 'Reactivity.png', dpi=300, bbox_inches='tight')\n",
    "    return fig"
   ]
  },
  {
   "cell_type": "code",
   "execution_count": 29,
   "id": "c91620b0",
   "metadata": {},
   "outputs": [
    {
     "data": {
      "text/plain": [
       "<Figure size 2160x2160 with 0 Axes>"
      ]
     },
     "metadata": {},
     "output_type": "display_data"
    },
    {
     "data": {
      "image/png": "[encoded data removed]",
      "text/plain": [
       "<Figure size 216x360 with 2 Axes>"
      ]
     },
     "metadata": {},
     "output_type": "display_data"
    },
    {
     "data": {
      "image/png": "[encoded data removed]",
      "text/plain": [
       "<Figure size 216x360 with 2 Axes>"
      ]
     },
     "metadata": {},
     "output_type": "display_data"
    },
    {
     "data": {
      "image/png": "[encoded data removed]",
      "text/plain": [
       "<Figure size 216x360 with 2 Axes>"
      ]
     },
     "metadata": {},
     "output_type": "display_data"
    }
   ],
   "source": [
    "plt.figure(figsize=(30,30))\n",
    "ax1 = plotDiff('hippo1','groupIdx',traceSes1)\n",
    "ax2 = plotDiff('hippo2','groupIdx',traceSes2)\n",
    "ax3 = plotDiff('hippo3','groupIdx',traceSes3)"
   ]
  }
 ],
 "metadata": {
  "kernelspec": {
   "display_name": "Python 3",
   "language": "python",
   "name": "python3"
  },
  "language_info": {
   "codemirror_mode": {
    "name": "ipython",
    "version": 3
   },
   "file_extension": ".py",
   "mimetype": "text/x-python",
   "name": "python",
   "nbconvert_exporter": "python",
   "pygments_lexer": "ipython3",
   "version": "3.7.10"
  }
 },
 "nbformat": 4,
 "nbformat_minor": 5
}
