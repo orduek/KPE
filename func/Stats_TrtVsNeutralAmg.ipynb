{
 "cells": [
  {
   "cell_type": "markdown",
   "id": "6be63692",
   "metadata": {},
   "source": [
    "## Calculate differences\n",
    "- Calculate differences using different models on the effect of Trauma vs. Sad on amygdala (later hippocampus and vmPFC)"
   ]
  },
  {
   "cell_type": "code",
   "execution_count": 1,
   "id": "d3fdd094",
   "metadata": {},
   "outputs": [],
   "source": [
    "import warnings\n",
    "warnings.filterwarnings('ignore')"
   ]
  },
  {
   "cell_type": "code",
   "execution_count": 2,
   "id": "2044bf5e",
   "metadata": {},
   "outputs": [],
   "source": [
    "import pandas as pd\n",
    "import numpy as np\n",
    "import seaborn as sns\n",
    "import matplotlib.pyplot as plt\n",
    "import pymc3 as pm\n",
    "import arviz as az\n",
    "\n",
    "# regular GLMs\n",
    "import pingouin as pg\n",
    "import statsmodels.api as sm\n",
    "import statsmodels.formula.api as smf"
   ]
  },
  {
   "cell_type": "code",
   "execution_count": 3,
   "id": "60284eb7",
   "metadata": {},
   "outputs": [
    {
     "data": {
      "text/html": [
       "<div>\n",
       "<style scoped>\n",
       "    .dataframe tbody tr th:only-of-type {\n",
       "        vertical-align: middle;\n",
       "    }\n",
       "\n",
       "    .dataframe tbody tr th {\n",
       "        vertical-align: top;\n",
       "    }\n",
       "\n",
       "    .dataframe thead th {\n",
       "        text-align: right;\n",
       "    }\n",
       "</style>\n",
       "<table border=\"1\" class=\"dataframe\">\n",
       "  <thead>\n",
       "    <tr style=\"text-align: right;\">\n",
       "      <th></th>\n",
       "      <th>scr_id</th>\n",
       "      <th>groupIdx</th>\n",
       "      <th>variable</th>\n",
       "      <th>value</th>\n",
       "    </tr>\n",
       "  </thead>\n",
       "  <tbody>\n",
       "    <tr>\n",
       "      <th>0</th>\n",
       "      <td>KPE008</td>\n",
       "      <td>1</td>\n",
       "      <td>amg1</td>\n",
       "      <td>0.384864</td>\n",
       "    </tr>\n",
       "    <tr>\n",
       "      <th>1</th>\n",
       "      <td>KPE1223</td>\n",
       "      <td>1</td>\n",
       "      <td>amg1</td>\n",
       "      <td>0.072214</td>\n",
       "    </tr>\n",
       "    <tr>\n",
       "      <th>2</th>\n",
       "      <td>KPE1253</td>\n",
       "      <td>0</td>\n",
       "      <td>amg1</td>\n",
       "      <td>-0.142767</td>\n",
       "    </tr>\n",
       "    <tr>\n",
       "      <th>3</th>\n",
       "      <td>KPE1263</td>\n",
       "      <td>0</td>\n",
       "      <td>amg1</td>\n",
       "      <td>-0.254799</td>\n",
       "    </tr>\n",
       "    <tr>\n",
       "      <th>4</th>\n",
       "      <td>KPE1293</td>\n",
       "      <td>1</td>\n",
       "      <td>amg1</td>\n",
       "      <td>-0.054429</td>\n",
       "    </tr>\n",
       "    <tr>\n",
       "      <th>...</th>\n",
       "      <td>...</td>\n",
       "      <td>...</td>\n",
       "      <td>...</td>\n",
       "      <td>...</td>\n",
       "    </tr>\n",
       "    <tr>\n",
       "      <th>73</th>\n",
       "      <td>KPE1561</td>\n",
       "      <td>0</td>\n",
       "      <td>amg3</td>\n",
       "      <td>0.184200</td>\n",
       "    </tr>\n",
       "    <tr>\n",
       "      <th>74</th>\n",
       "      <td>KPE1573</td>\n",
       "      <td>1</td>\n",
       "      <td>amg3</td>\n",
       "      <td>0.391631</td>\n",
       "    </tr>\n",
       "    <tr>\n",
       "      <th>75</th>\n",
       "      <td>KPE1578</td>\n",
       "      <td>0</td>\n",
       "      <td>amg3</td>\n",
       "      <td>-0.246893</td>\n",
       "    </tr>\n",
       "    <tr>\n",
       "      <th>76</th>\n",
       "      <td>KPE1587</td>\n",
       "      <td>1</td>\n",
       "      <td>amg3</td>\n",
       "      <td>NaN</td>\n",
       "    </tr>\n",
       "    <tr>\n",
       "      <th>77</th>\n",
       "      <td>KPE1612</td>\n",
       "      <td>0</td>\n",
       "      <td>amg3</td>\n",
       "      <td>0.196278</td>\n",
       "    </tr>\n",
       "  </tbody>\n",
       "</table>\n",
       "<p>78 rows × 4 columns</p>\n",
       "</div>"
      ],
      "text/plain": [
       "     scr_id  groupIdx variable     value\n",
       "0    KPE008         1     amg1  0.384864\n",
       "1   KPE1223         1     amg1  0.072214\n",
       "2   KPE1253         0     amg1 -0.142767\n",
       "3   KPE1263         0     amg1 -0.254799\n",
       "4   KPE1293         1     amg1 -0.054429\n",
       "..      ...       ...      ...       ...\n",
       "73  KPE1561         0     amg3  0.184200\n",
       "74  KPE1573         1     amg3  0.391631\n",
       "75  KPE1578         0     amg3 -0.246893\n",
       "76  KPE1587         1     amg3       NaN\n",
       "77  KPE1612         0     amg3  0.196278\n",
       "\n",
       "[78 rows x 4 columns]"
      ]
     },
     "execution_count": 3,
     "metadata": {},
     "output_type": "execute_result"
    }
   ],
   "source": [
    "## Load amygdala database\n",
    "df = pd.read_csv('TraumavsNeutral_threeSes.csv')\n",
    "# create a long format for analysis\n",
    "df_long = pd.melt(df, id_vars=['scr_id','groupIdx'], value_vars=['amg1','amg2','amg3'])\n",
    "df_long"
   ]
  },
  {
   "cell_type": "code",
   "execution_count": 4,
   "id": "b23e09b6",
   "metadata": {},
   "outputs": [
    {
     "name": "stdout",
     "output_type": "stream",
     "text": [
      "               Mixed Linear Model Regression Results\n",
      "====================================================================\n",
      "Model:                  MixedLM     Dependent Variable:     value   \n",
      "No. Observations:       73          Method:                 REML    \n",
      "No. Groups:             26          Scale:                  0.1034  \n",
      "Min. group size:        2           Log-Likelihood:         -33.5192\n",
      "Max. group size:        3           Converged:              Yes     \n",
      "Mean group size:        2.8                                         \n",
      "--------------------------------------------------------------------\n",
      "                          Coef.  Std.Err.   z    P>|z| [0.025 0.975]\n",
      "--------------------------------------------------------------------\n",
      "Intercept                  0.092    0.101  0.908 0.364 -0.106  0.290\n",
      "variable[T.amg2]           0.093    0.129  0.720 0.472 -0.160  0.346\n",
      "variable[T.amg3]           0.056    0.137  0.407 0.684 -0.213  0.324\n",
      "groupIdx                  -0.080    0.143 -0.562 0.574 -0.361  0.200\n",
      "variable[T.amg2]:groupIdx -0.263    0.181 -1.456 0.145 -0.617  0.091\n",
      "variable[T.amg3]:groupIdx -0.204    0.188 -1.082 0.279 -0.573  0.166\n",
      "Group Var                  0.029    0.074                           \n",
      "====================================================================\n",
      "\n"
     ]
    }
   ],
   "source": [
    "## Start with simple GLM models (using statsmodel)\n",
    "glm = smf.mixedlm('value ~ variable * groupIdx', data=df_long, groups = df_long.scr_id, \n",
    "                 missing='drop')\n",
    "model1 = glm.fit()\n",
    "print(model1.summary())"
   ]
  },
  {
   "cell_type": "code",
   "execution_count": 5,
   "id": "356b54cd",
   "metadata": {},
   "outputs": [
    {
     "name": "stdout",
     "output_type": "stream",
     "text": [
      "\n",
      "=============\n",
      "ANOVA SUMMARY\n",
      "=============\n",
      "\n",
      "Source          SS    DF1    DF2     MS      F    p-unc    np2      eps\n",
      "-----------  -----  -----  -----  -----  -----  -------  -----  -------\n",
      "groupIdx     1.212      1     19  1.212  6.116    0.023  0.244  nan\n",
      "variable     0.016      2     38  0.008  0.079    0.924  0.004    0.939\n",
      "Interaction  0.380      2     38  0.190  1.888    0.165  0.090  nan\n",
      "\n"
     ]
    }
   ],
   "source": [
    "# mixed anova\n",
    "aov = pg.mixed_anova(data=df_long, dv='value', between='groupIdx', within='variable',\n",
    "                     subject='scr_id', correction=False, effsize=\"np2\")\n",
    "pg.print_table(aov)"
   ]
  },
  {
   "cell_type": "code",
   "execution_count": 6,
   "id": "38f2a701",
   "metadata": {},
   "outputs": [
    {
     "data": {
      "text/html": [
       "<div>\n",
       "<style scoped>\n",
       "    .dataframe tbody tr th:only-of-type {\n",
       "        vertical-align: middle;\n",
       "    }\n",
       "\n",
       "    .dataframe tbody tr th {\n",
       "        vertical-align: top;\n",
       "    }\n",
       "\n",
       "    .dataframe thead th {\n",
       "        text-align: right;\n",
       "    }\n",
       "</style>\n",
       "<table border=\"1\" class=\"dataframe\">\n",
       "  <thead>\n",
       "    <tr style=\"text-align: right;\">\n",
       "      <th></th>\n",
       "      <th>T</th>\n",
       "      <th>dof</th>\n",
       "      <th>alternative</th>\n",
       "      <th>p-val</th>\n",
       "      <th>CI95%</th>\n",
       "      <th>cohen-d</th>\n",
       "      <th>BF10</th>\n",
       "      <th>power</th>\n",
       "    </tr>\n",
       "  </thead>\n",
       "  <tbody>\n",
       "    <tr>\n",
       "      <th>T-test</th>\n",
       "      <td>-2.644598</td>\n",
       "      <td>23</td>\n",
       "      <td>two-sided</td>\n",
       "      <td>0.014484</td>\n",
       "      <td>[-0.62, -0.08]</td>\n",
       "      <td>1.058687</td>\n",
       "      <td>3.918</td>\n",
       "      <td>0.716666</td>\n",
       "    </tr>\n",
       "  </tbody>\n",
       "</table>\n",
       "</div>"
      ],
      "text/plain": [
       "               T  dof alternative     p-val           CI95%   cohen-d   BF10  \\\n",
       "T-test -2.644598   23   two-sided  0.014484  [-0.62, -0.08]  1.058687  3.918   \n",
       "\n",
       "           power  \n",
       "T-test  0.716666  "
      ]
     },
     "execution_count": 6,
     "metadata": {},
     "output_type": "execute_result"
    }
   ],
   "source": [
    "pg.ttest(df.amg2[df.groupIdx==1], df.amg2[df.groupIdx==0], paired=False, correction=False)"
   ]
  },
  {
   "cell_type": "code",
   "execution_count": 7,
   "id": "66b65ffc",
   "metadata": {},
   "outputs": [
    {
     "data": {
      "text/html": [
       "<div>\n",
       "<style scoped>\n",
       "    .dataframe tbody tr th:only-of-type {\n",
       "        vertical-align: middle;\n",
       "    }\n",
       "\n",
       "    .dataframe tbody tr th {\n",
       "        vertical-align: top;\n",
       "    }\n",
       "\n",
       "    .dataframe thead th {\n",
       "        text-align: right;\n",
       "    }\n",
       "</style>\n",
       "<table border=\"1\" class=\"dataframe\">\n",
       "  <thead>\n",
       "    <tr style=\"text-align: right;\">\n",
       "      <th></th>\n",
       "      <th>T</th>\n",
       "      <th>dof</th>\n",
       "      <th>alternative</th>\n",
       "      <th>p-val</th>\n",
       "      <th>CI95%</th>\n",
       "      <th>cohen-d</th>\n",
       "      <th>BF10</th>\n",
       "      <th>power</th>\n",
       "    </tr>\n",
       "  </thead>\n",
       "  <tbody>\n",
       "    <tr>\n",
       "      <th>T-test</th>\n",
       "      <td>-0.520308</td>\n",
       "      <td>24</td>\n",
       "      <td>two-sided</td>\n",
       "      <td>0.607616</td>\n",
       "      <td>[-0.4, 0.24]</td>\n",
       "      <td>0.204082</td>\n",
       "      <td>0.401</td>\n",
       "      <td>0.079073</td>\n",
       "    </tr>\n",
       "  </tbody>\n",
       "</table>\n",
       "</div>"
      ],
      "text/plain": [
       "               T  dof alternative     p-val         CI95%   cohen-d   BF10  \\\n",
       "T-test -0.520308   24   two-sided  0.607616  [-0.4, 0.24]  0.204082  0.401   \n",
       "\n",
       "           power  \n",
       "T-test  0.079073  "
      ]
     },
     "execution_count": 7,
     "metadata": {},
     "output_type": "execute_result"
    }
   ],
   "source": [
    "pg.ttest(df.amg1[df.groupIdx==1], df.amg1[df.groupIdx==0], paired=False, correction=False)"
   ]
  },
  {
   "cell_type": "code",
   "execution_count": 8,
   "id": "7206cacc",
   "metadata": {},
   "outputs": [
    {
     "data": {
      "text/html": [
       "<div>\n",
       "<style scoped>\n",
       "    .dataframe tbody tr th:only-of-type {\n",
       "        vertical-align: middle;\n",
       "    }\n",
       "\n",
       "    .dataframe tbody tr th {\n",
       "        vertical-align: top;\n",
       "    }\n",
       "\n",
       "    .dataframe thead th {\n",
       "        text-align: right;\n",
       "    }\n",
       "</style>\n",
       "<table border=\"1\" class=\"dataframe\">\n",
       "  <thead>\n",
       "    <tr style=\"text-align: right;\">\n",
       "      <th></th>\n",
       "      <th>T</th>\n",
       "      <th>dof</th>\n",
       "      <th>alternative</th>\n",
       "      <th>p-val</th>\n",
       "      <th>CI95%</th>\n",
       "      <th>cohen-d</th>\n",
       "      <th>BF10</th>\n",
       "      <th>power</th>\n",
       "    </tr>\n",
       "  </thead>\n",
       "  <tbody>\n",
       "    <tr>\n",
       "      <th>T-test</th>\n",
       "      <td>-1.904562</td>\n",
       "      <td>20</td>\n",
       "      <td>two-sided</td>\n",
       "      <td>0.071321</td>\n",
       "      <td>[-0.63, 0.03]</td>\n",
       "      <td>0.815485</td>\n",
       "      <td>1.331</td>\n",
       "      <td>0.441659</td>\n",
       "    </tr>\n",
       "  </tbody>\n",
       "</table>\n",
       "</div>"
      ],
      "text/plain": [
       "               T  dof alternative     p-val          CI95%   cohen-d   BF10  \\\n",
       "T-test -1.904562   20   two-sided  0.071321  [-0.63, 0.03]  0.815485  1.331   \n",
       "\n",
       "           power  \n",
       "T-test  0.441659  "
      ]
     },
     "execution_count": 8,
     "metadata": {},
     "output_type": "execute_result"
    }
   ],
   "source": [
    "pg.ttest(df.amg3[df.groupIdx==1], df.amg3[df.groupIdx==0], correction=False)"
   ]
  },
  {
   "cell_type": "markdown",
   "id": "950c1031",
   "metadata": {},
   "source": [
    "### As requested from Reviewer 1 - adding withing group time analysis"
   ]
  },
  {
   "cell_type": "code",
   "execution_count": 9,
   "id": "2e469c3a",
   "metadata": {},
   "outputs": [
    {
     "name": "stdout",
     "output_type": "stream",
     "text": [
      "           Mixed Linear Model Regression Results\n",
      "===========================================================\n",
      "Model:               MixedLM  Dependent Variable:  value   \n",
      "No. Observations:    38       Method:              REML    \n",
      "No. Groups:          13       Scale:               0.0990  \n",
      "Min. group size:     2        Log-Likelihood:      -17.6967\n",
      "Max. group size:     3        Converged:           Yes     \n",
      "Mean group size:     2.9                                   \n",
      "-----------------------------------------------------------\n",
      "                 Coef.  Std.Err.   z    P>|z| [0.025 0.975]\n",
      "-----------------------------------------------------------\n",
      "Intercept         0.011    0.104  0.109 0.913 -0.192  0.214\n",
      "variable[T.amg2] -0.170    0.123 -1.377 0.168 -0.412  0.072\n",
      "variable[T.amg3] -0.145    0.127 -1.143 0.253 -0.394  0.104\n",
      "Group Var         0.040    0.122                           \n",
      "===========================================================\n",
      "\n",
      "\n",
      "=============\n",
      "ANOVA SUMMARY\n",
      "=============\n",
      "\n",
      "Source      ddof1    ddof2      F    p-unc    np2    eps\n",
      "--------  -------  -------  -----  -------  -----  -----\n",
      "variable        2       22  1.221    0.314  0.100  0.827\n",
      "\n"
     ]
    },
    {
     "data": {
      "text/html": [
       "<div>\n",
       "<style scoped>\n",
       "    .dataframe tbody tr th:only-of-type {\n",
       "        vertical-align: middle;\n",
       "    }\n",
       "\n",
       "    .dataframe tbody tr th {\n",
       "        vertical-align: top;\n",
       "    }\n",
       "\n",
       "    .dataframe thead th {\n",
       "        text-align: right;\n",
       "    }\n",
       "</style>\n",
       "<table border=\"1\" class=\"dataframe\">\n",
       "  <thead>\n",
       "    <tr style=\"text-align: right;\">\n",
       "      <th></th>\n",
       "      <th>T</th>\n",
       "      <th>dof</th>\n",
       "      <th>alternative</th>\n",
       "      <th>p-val</th>\n",
       "      <th>CI95%</th>\n",
       "      <th>cohen-d</th>\n",
       "      <th>BF10</th>\n",
       "      <th>power</th>\n",
       "    </tr>\n",
       "  </thead>\n",
       "  <tbody>\n",
       "    <tr>\n",
       "      <th>T-test</th>\n",
       "      <td>-0.837593</td>\n",
       "      <td>11</td>\n",
       "      <td>two-sided</td>\n",
       "      <td>0.420086</td>\n",
       "      <td>[-0.42, 0.19]</td>\n",
       "      <td>0.33588</td>\n",
       "      <td>0.387</td>\n",
       "      <td>0.186387</td>\n",
       "    </tr>\n",
       "  </tbody>\n",
       "</table>\n",
       "</div>"
      ],
      "text/plain": [
       "               T  dof alternative     p-val          CI95%  cohen-d   BF10  \\\n",
       "T-test -0.837593   11   two-sided  0.420086  [-0.42, 0.19]  0.33588  0.387   \n",
       "\n",
       "           power  \n",
       "T-test  0.186387  "
      ]
     },
     "execution_count": 9,
     "metadata": {},
     "output_type": "execute_result"
    }
   ],
   "source": [
    "### Start with simple GLM models (using statsmodel)\n",
    "df_longKet = df_long[df_long.groupIdx==1]\n",
    "glm = smf.mixedlm('value ~ variable', data=df_longKet, groups = df_longKet.scr_id, \n",
    "                 missing='drop')\n",
    "model1 = glm.fit()\n",
    "print(model1.summary())\n",
    "aov = pg.rm_anova(data=df_longKet, dv='value', within='variable',\n",
    "                     subject='scr_id',  effsize=\"np2\")\n",
    "pg.print_table(aov)\n",
    "\n",
    "# t test to compare each time to baseline\n",
    "pg.ttest(df.amg1[df.groupIdx==0], df.amg2[df.groupIdx==0], paired=True, correction=False)\n"
   ]
  },
  {
   "cell_type": "code",
   "execution_count": 9,
   "id": "96fca0d4",
   "metadata": {},
   "outputs": [
    {
     "data": {
      "image/png": "[encoded data removed]",
      "text/plain": [
       "<Figure size 431.12x360 with 1 Axes>"
      ]
     },
     "metadata": {},
     "output_type": "display_data"
    }
   ],
   "source": [
    "sns.set(font_scale = 1.15)\n",
    "sns.set_style(\"white\")\n",
    "g = sns.catplot(y='value',x='variable', hue='groupIdx', data=df_long, kind='point', ci=68,\n",
    "               hue_order=[1,0])\n",
    "g.set_xlabels(\"\")\n",
    "g.set_xticklabels(\n",
    "    labels=[\"Before Treatment\", \"End of Treatment\", \"30-days\"], rotation=30)\n",
    "\n",
    "g.set_ylabels(\"Amygdala (Trauma > Neutral)\")\n",
    "g._legend.set_title(\"Group\")\n",
    "new_labels = ['Ketamine', 'Midazolam']\n",
    "for t, l in zip(g._legend.texts, new_labels): t.set_text(l)\n",
    "g.savefig('amg_pointGraph.png', dpi=300, bbox_inches='tight')"
   ]
  },
  {
   "cell_type": "code",
   "execution_count": 22,
   "id": "bfed20af",
   "metadata": {},
   "outputs": [
    {
     "name": "stdout",
     "output_type": "stream",
     "text": [
      "[ 0  1  2  3  4  5  6  7  8  9 10 11 12  0  1  2  3  4  5  6  7  8  9 10\n",
      " 11 12  0  1  2  3  4  5  6  7  8  9 10 11 12]\n",
      "13\n",
      "[0 0 0 0 0 0 0 0 0 0 0 0 0 1 1 1 1 1 1 1 1 1 1 1 1 1 2 2 2 2 2 2 2 2 2 2 2\n",
      " 2 2]\n"
     ]
    }
   ],
   "source": [
    "# Bayes\n",
    "# take indexes for building the model\n",
    "df_longKet['scr_id'] = df_longKet.scr_id.astype('category')\n",
    "sub_idx = df_longKet.scr_id.cat.codes.values # get county category index values (613 x 1) vec with nums [0-7]\n",
    "print(sub_idx)\n",
    "n_subs = len(np.unique(df_longKet.scr_id))\n",
    "print(n_subs)\n",
    "# set time as index also\n",
    "#df_long.groupIdx = pd.Categorical(df_long.groupIdx)\n",
    "df_longKet.variable = pd.Categorical(df_longKet.variable, \n",
    "                    categories=['amg1','amg2','amg3'])\n",
    "timeIDX = df_longKet.variable.cat.codes.values\n",
    "print(timeIDX)\n",
    "df_longKet['time'] = timeIDX"
   ]
  },
  {
   "cell_type": "code",
   "execution_count": 26,
   "id": "6ef6cdca",
   "metadata": {},
   "outputs": [
    {
     "name": "stderr",
     "output_type": "stream",
     "text": [
      "Auto-assigning NUTS sampler...\n",
      "Initializing NUTS using jitter+adapt_diag...\n",
      "Multiprocess sampling (4 chains in 4 jobs)\n",
      "NUTS: [likelihood_missing, eps, b, a]\n"
     ]
    },
    {
     "data": {
      "text/html": [
       "\n",
       "    <div>\n",
       "        <style>\n",
       "            /* Turns off some styling */\n",
       "            progress {\n",
       "                /* gets rid of default border in Firefox and Opera. */\n",
       "                border: none;\n",
       "                /* Needs to be in here for Safari polyfill so background images work as expected. */\n",
       "                background-size: auto;\n",
       "            }\n",
       "            .progress-bar-interrupted, .progress-bar-interrupted::-webkit-progress-bar {\n",
       "                background: #F44336;\n",
       "            }\n",
       "        </style>\n",
       "      <progress value='8000' class='' max='8000' style='width:300px; height:20px; vertical-align: middle;'></progress>\n",
       "      100.00% [8000/8000 00:03<00:00 Sampling 4 chains, 0 divergences]\n",
       "    </div>\n",
       "    "
      ],
      "text/plain": [
       "<IPython.core.display.HTML object>"
      ]
     },
     "metadata": {},
     "output_type": "display_data"
    },
    {
     "name": "stderr",
     "output_type": "stream",
     "text": [
      "Sampling 4 chains for 1_000 tune and 1_000 draw iterations (4_000 + 4_000 draws total) took 3 seconds.\n"
     ]
    }
   ],
   "source": [
    "with pm.Model() as hierarchical:   \n",
    "    a = pm.Normal('a', mu=0, sd=0.1, shape=n_subs)\n",
    "    b = pm.Normal('b', mu=0, sd=0.1, shape=3)\n",
    "    \n",
    "    # Model error\n",
    "    eps = pm.HalfCauchy('eps', 1)\n",
    "\n",
    "    y_hat = a[sub_idx] + b[timeIDX]\n",
    "\n",
    "    # Data likelihood\n",
    "    likelihood = pm.Normal('likelihood', mu=y_hat,\n",
    "                           sigma=eps, observed=df_longKet.value)\n",
    "    \n",
    "    trace = pm.sample(draws=1000, tune=1000, target_accept=0.9, return_inferencedata=True, cores=4)"
   ]
  },
  {
   "cell_type": "code",
   "execution_count": 27,
   "id": "d0de193d",
   "metadata": {},
   "outputs": [
    {
     "data": {
      "text/html": [
       "<div>\n",
       "<style scoped>\n",
       "    .dataframe tbody tr th:only-of-type {\n",
       "        vertical-align: middle;\n",
       "    }\n",
       "\n",
       "    .dataframe tbody tr th {\n",
       "        vertical-align: top;\n",
       "    }\n",
       "\n",
       "    .dataframe thead th {\n",
       "        text-align: right;\n",
       "    }\n",
       "</style>\n",
       "<table border=\"1\" class=\"dataframe\">\n",
       "  <thead>\n",
       "    <tr style=\"text-align: right;\">\n",
       "      <th></th>\n",
       "      <th>mean</th>\n",
       "      <th>sd</th>\n",
       "      <th>hdi_5%</th>\n",
       "      <th>hdi_95%</th>\n",
       "      <th>mcse_mean</th>\n",
       "      <th>mcse_sd</th>\n",
       "      <th>ess_bulk</th>\n",
       "      <th>ess_tail</th>\n",
       "      <th>r_hat</th>\n",
       "    </tr>\n",
       "  </thead>\n",
       "  <tbody>\n",
       "    <tr>\n",
       "      <th>a[0]</th>\n",
       "      <td>0.024</td>\n",
       "      <td>0.092</td>\n",
       "      <td>-0.131</td>\n",
       "      <td>0.168</td>\n",
       "      <td>0.001</td>\n",
       "      <td>0.002</td>\n",
       "      <td>8921.0</td>\n",
       "      <td>2954.0</td>\n",
       "      <td>1.0</td>\n",
       "    </tr>\n",
       "    <tr>\n",
       "      <th>a[1]</th>\n",
       "      <td>0.007</td>\n",
       "      <td>0.090</td>\n",
       "      <td>-0.142</td>\n",
       "      <td>0.153</td>\n",
       "      <td>0.001</td>\n",
       "      <td>0.001</td>\n",
       "      <td>7607.0</td>\n",
       "      <td>2946.0</td>\n",
       "      <td>1.0</td>\n",
       "    </tr>\n",
       "    <tr>\n",
       "      <th>a[2]</th>\n",
       "      <td>-0.016</td>\n",
       "      <td>0.090</td>\n",
       "      <td>-0.169</td>\n",
       "      <td>0.131</td>\n",
       "      <td>0.001</td>\n",
       "      <td>0.002</td>\n",
       "      <td>7568.0</td>\n",
       "      <td>3353.0</td>\n",
       "      <td>1.0</td>\n",
       "    </tr>\n",
       "    <tr>\n",
       "      <th>a[3]</th>\n",
       "      <td>-0.100</td>\n",
       "      <td>0.090</td>\n",
       "      <td>-0.241</td>\n",
       "      <td>0.055</td>\n",
       "      <td>0.001</td>\n",
       "      <td>0.001</td>\n",
       "      <td>7403.0</td>\n",
       "      <td>3135.0</td>\n",
       "      <td>1.0</td>\n",
       "    </tr>\n",
       "    <tr>\n",
       "      <th>a[4]</th>\n",
       "      <td>0.006</td>\n",
       "      <td>0.091</td>\n",
       "      <td>-0.149</td>\n",
       "      <td>0.152</td>\n",
       "      <td>0.001</td>\n",
       "      <td>0.002</td>\n",
       "      <td>7809.0</td>\n",
       "      <td>2610.0</td>\n",
       "      <td>1.0</td>\n",
       "    </tr>\n",
       "    <tr>\n",
       "      <th>a[5]</th>\n",
       "      <td>-0.025</td>\n",
       "      <td>0.093</td>\n",
       "      <td>-0.182</td>\n",
       "      <td>0.123</td>\n",
       "      <td>0.001</td>\n",
       "      <td>0.002</td>\n",
       "      <td>8573.0</td>\n",
       "      <td>2432.0</td>\n",
       "      <td>1.0</td>\n",
       "    </tr>\n",
       "    <tr>\n",
       "      <th>a[6]</th>\n",
       "      <td>-0.118</td>\n",
       "      <td>0.092</td>\n",
       "      <td>-0.271</td>\n",
       "      <td>0.029</td>\n",
       "      <td>0.001</td>\n",
       "      <td>0.001</td>\n",
       "      <td>7351.0</td>\n",
       "      <td>3350.0</td>\n",
       "      <td>1.0</td>\n",
       "    </tr>\n",
       "    <tr>\n",
       "      <th>a[7]</th>\n",
       "      <td>-0.046</td>\n",
       "      <td>0.092</td>\n",
       "      <td>-0.198</td>\n",
       "      <td>0.098</td>\n",
       "      <td>0.001</td>\n",
       "      <td>0.001</td>\n",
       "      <td>8320.0</td>\n",
       "      <td>3196.0</td>\n",
       "      <td>1.0</td>\n",
       "    </tr>\n",
       "    <tr>\n",
       "      <th>a[8]</th>\n",
       "      <td>-0.002</td>\n",
       "      <td>0.089</td>\n",
       "      <td>-0.157</td>\n",
       "      <td>0.136</td>\n",
       "      <td>0.001</td>\n",
       "      <td>0.002</td>\n",
       "      <td>7913.0</td>\n",
       "      <td>2598.0</td>\n",
       "      <td>1.0</td>\n",
       "    </tr>\n",
       "    <tr>\n",
       "      <th>a[9]</th>\n",
       "      <td>0.014</td>\n",
       "      <td>0.090</td>\n",
       "      <td>-0.138</td>\n",
       "      <td>0.159</td>\n",
       "      <td>0.001</td>\n",
       "      <td>0.001</td>\n",
       "      <td>8738.0</td>\n",
       "      <td>2936.0</td>\n",
       "      <td>1.0</td>\n",
       "    </tr>\n",
       "    <tr>\n",
       "      <th>a[10]</th>\n",
       "      <td>0.032</td>\n",
       "      <td>0.090</td>\n",
       "      <td>-0.117</td>\n",
       "      <td>0.180</td>\n",
       "      <td>0.001</td>\n",
       "      <td>0.001</td>\n",
       "      <td>9005.0</td>\n",
       "      <td>2822.0</td>\n",
       "      <td>1.0</td>\n",
       "    </tr>\n",
       "    <tr>\n",
       "      <th>a[11]</th>\n",
       "      <td>0.045</td>\n",
       "      <td>0.090</td>\n",
       "      <td>-0.100</td>\n",
       "      <td>0.196</td>\n",
       "      <td>0.001</td>\n",
       "      <td>0.001</td>\n",
       "      <td>8418.0</td>\n",
       "      <td>3162.0</td>\n",
       "      <td>1.0</td>\n",
       "    </tr>\n",
       "    <tr>\n",
       "      <th>a[12]</th>\n",
       "      <td>0.056</td>\n",
       "      <td>0.094</td>\n",
       "      <td>-0.087</td>\n",
       "      <td>0.217</td>\n",
       "      <td>0.001</td>\n",
       "      <td>0.001</td>\n",
       "      <td>7351.0</td>\n",
       "      <td>2711.0</td>\n",
       "      <td>1.0</td>\n",
       "    </tr>\n",
       "    <tr>\n",
       "      <th>b[0]</th>\n",
       "      <td>0.010</td>\n",
       "      <td>0.072</td>\n",
       "      <td>-0.104</td>\n",
       "      <td>0.132</td>\n",
       "      <td>0.001</td>\n",
       "      <td>0.001</td>\n",
       "      <td>8069.0</td>\n",
       "      <td>3304.0</td>\n",
       "      <td>1.0</td>\n",
       "    </tr>\n",
       "    <tr>\n",
       "      <th>b[1]</th>\n",
       "      <td>-0.076</td>\n",
       "      <td>0.071</td>\n",
       "      <td>-0.195</td>\n",
       "      <td>0.040</td>\n",
       "      <td>0.001</td>\n",
       "      <td>0.001</td>\n",
       "      <td>7940.0</td>\n",
       "      <td>3102.0</td>\n",
       "      <td>1.0</td>\n",
       "    </tr>\n",
       "    <tr>\n",
       "      <th>b[2]</th>\n",
       "      <td>-0.065</td>\n",
       "      <td>0.075</td>\n",
       "      <td>-0.186</td>\n",
       "      <td>0.062</td>\n",
       "      <td>0.001</td>\n",
       "      <td>0.001</td>\n",
       "      <td>7254.0</td>\n",
       "      <td>2873.0</td>\n",
       "      <td>1.0</td>\n",
       "    </tr>\n",
       "    <tr>\n",
       "      <th>likelihood_missing[0]</th>\n",
       "      <td>-0.008</td>\n",
       "      <td>0.384</td>\n",
       "      <td>-0.605</td>\n",
       "      <td>0.629</td>\n",
       "      <td>0.005</td>\n",
       "      <td>0.006</td>\n",
       "      <td>6757.0</td>\n",
       "      <td>3288.0</td>\n",
       "      <td>1.0</td>\n",
       "    </tr>\n",
       "    <tr>\n",
       "      <th>eps</th>\n",
       "      <td>0.358</td>\n",
       "      <td>0.048</td>\n",
       "      <td>0.282</td>\n",
       "      <td>0.435</td>\n",
       "      <td>0.001</td>\n",
       "      <td>0.000</td>\n",
       "      <td>6088.0</td>\n",
       "      <td>3324.0</td>\n",
       "      <td>1.0</td>\n",
       "    </tr>\n",
       "  </tbody>\n",
       "</table>\n",
       "</div>"
      ],
      "text/plain": [
       "                        mean     sd  hdi_5%  hdi_95%  mcse_mean  mcse_sd  \\\n",
       "a[0]                   0.024  0.092  -0.131    0.168      0.001    0.002   \n",
       "a[1]                   0.007  0.090  -0.142    0.153      0.001    0.001   \n",
       "a[2]                  -0.016  0.090  -0.169    0.131      0.001    0.002   \n",
       "a[3]                  -0.100  0.090  -0.241    0.055      0.001    0.001   \n",
       "a[4]                   0.006  0.091  -0.149    0.152      0.001    0.002   \n",
       "a[5]                  -0.025  0.093  -0.182    0.123      0.001    0.002   \n",
       "a[6]                  -0.118  0.092  -0.271    0.029      0.001    0.001   \n",
       "a[7]                  -0.046  0.092  -0.198    0.098      0.001    0.001   \n",
       "a[8]                  -0.002  0.089  -0.157    0.136      0.001    0.002   \n",
       "a[9]                   0.014  0.090  -0.138    0.159      0.001    0.001   \n",
       "a[10]                  0.032  0.090  -0.117    0.180      0.001    0.001   \n",
       "a[11]                  0.045  0.090  -0.100    0.196      0.001    0.001   \n",
       "a[12]                  0.056  0.094  -0.087    0.217      0.001    0.001   \n",
       "b[0]                   0.010  0.072  -0.104    0.132      0.001    0.001   \n",
       "b[1]                  -0.076  0.071  -0.195    0.040      0.001    0.001   \n",
       "b[2]                  -0.065  0.075  -0.186    0.062      0.001    0.001   \n",
       "likelihood_missing[0] -0.008  0.384  -0.605    0.629      0.005    0.006   \n",
       "eps                    0.358  0.048   0.282    0.435      0.001    0.000   \n",
       "\n",
       "                       ess_bulk  ess_tail  r_hat  \n",
       "a[0]                     8921.0    2954.0    1.0  \n",
       "a[1]                     7607.0    2946.0    1.0  \n",
       "a[2]                     7568.0    3353.0    1.0  \n",
       "a[3]                     7403.0    3135.0    1.0  \n",
       "a[4]                     7809.0    2610.0    1.0  \n",
       "a[5]                     8573.0    2432.0    1.0  \n",
       "a[6]                     7351.0    3350.0    1.0  \n",
       "a[7]                     8320.0    3196.0    1.0  \n",
       "a[8]                     7913.0    2598.0    1.0  \n",
       "a[9]                     8738.0    2936.0    1.0  \n",
       "a[10]                    9005.0    2822.0    1.0  \n",
       "a[11]                    8418.0    3162.0    1.0  \n",
       "a[12]                    7351.0    2711.0    1.0  \n",
       "b[0]                     8069.0    3304.0    1.0  \n",
       "b[1]                     7940.0    3102.0    1.0  \n",
       "b[2]                     7254.0    2873.0    1.0  \n",
       "likelihood_missing[0]    6757.0    3288.0    1.0  \n",
       "eps                      6088.0    3324.0    1.0  "
      ]
     },
     "execution_count": 27,
     "metadata": {},
     "output_type": "execute_result"
    }
   ],
   "source": [
    "az.summary(trace, hdi_prob=.9)"
   ]
  },
  {
   "cell_type": "code",
   "execution_count": 36,
   "id": "67ca557b",
   "metadata": {},
   "outputs": [
    {
     "data": {
      "image/png": "[encoded data removed]",
      "text/plain": [
       "<Figure size 432x288 with 1 Axes>"
      ]
     },
     "metadata": {
      "needs_background": "light"
     },
     "output_type": "display_data"
    },
    {
     "name": "stdout",
     "output_type": "stream",
     "text": [
      "0.18875\n"
     ]
    },
    {
     "data": {
      "image/png": "[encoded data removed]",
      "text/plain": [
       "<Figure size 432x288 with 1 Axes>"
      ]
     },
     "metadata": {
      "needs_background": "light"
     },
     "output_type": "display_data"
    }
   ],
   "source": [
    "diffTime = trace.posterior['b'].data[:,:,1] - trace.posterior['b'].data[:,:,0]\n",
    "sns.distplot(diffTime)\n",
    "plt.show()\n",
    "sns.distplot(trace.posterior['b'].data[:,:,2], color='red')\n",
    "sns.distplot(trace.posterior['b'].data[:,:,0])\n",
    "sns.distplot(trace.posterior['b'].data[:,:,1], color= 'orange')\n",
    "print(sum(diffTime.ravel()>0)/len(diffTime.ravel()))"
   ]
  },
  {
   "cell_type": "markdown",
   "id": "74c29b6d",
   "metadata": {},
   "source": [
    "## Build a Bayesian model\n",
    "- Here we would model each subject under each group"
   ]
  },
  {
   "cell_type": "code",
   "execution_count": null,
   "id": "d0dc7054",
   "metadata": {},
   "outputs": [],
   "source": [
    "# first lets look at the data\n",
    "sns.pairplot(df[['amg1','amg2','amg3','groupIdx']], hue='groupIdx', kind='scatter')"
   ]
  },
  {
   "cell_type": "code",
   "execution_count": 20,
   "id": "3b1bc0db",
   "metadata": {},
   "outputs": [
    {
     "data": {
      "text/html": [
       "<div>\n",
       "<style scoped>\n",
       "    .dataframe tbody tr th:only-of-type {\n",
       "        vertical-align: middle;\n",
       "    }\n",
       "\n",
       "    .dataframe tbody tr th {\n",
       "        vertical-align: top;\n",
       "    }\n",
       "\n",
       "    .dataframe thead tr th {\n",
       "        text-align: left;\n",
       "    }\n",
       "\n",
       "    .dataframe thead tr:last-of-type th {\n",
       "        text-align: right;\n",
       "    }\n",
       "</style>\n",
       "<table border=\"1\" class=\"dataframe\">\n",
       "  <thead>\n",
       "    <tr>\n",
       "      <th></th>\n",
       "      <th></th>\n",
       "      <th colspan=\"8\" halign=\"left\">value</th>\n",
       "    </tr>\n",
       "    <tr>\n",
       "      <th></th>\n",
       "      <th></th>\n",
       "      <th>count</th>\n",
       "      <th>mean</th>\n",
       "      <th>std</th>\n",
       "      <th>min</th>\n",
       "      <th>25%</th>\n",
       "      <th>50%</th>\n",
       "      <th>75%</th>\n",
       "      <th>max</th>\n",
       "    </tr>\n",
       "    <tr>\n",
       "      <th>groupIdx</th>\n",
       "      <th>variable</th>\n",
       "      <th></th>\n",
       "      <th></th>\n",
       "      <th></th>\n",
       "      <th></th>\n",
       "      <th></th>\n",
       "      <th></th>\n",
       "      <th></th>\n",
       "      <th></th>\n",
       "    </tr>\n",
       "  </thead>\n",
       "  <tbody>\n",
       "    <tr>\n",
       "      <th rowspan=\"3\" valign=\"top\">0</th>\n",
       "      <th>amg1</th>\n",
       "      <td>13.0</td>\n",
       "      <td>0.091727</td>\n",
       "      <td>0.382141</td>\n",
       "      <td>-0.344641</td>\n",
       "      <td>-0.142767</td>\n",
       "      <td>-0.013621</td>\n",
       "      <td>0.221137</td>\n",
       "      <td>0.990820</td>\n",
       "    </tr>\n",
       "    <tr>\n",
       "      <th>amg2</th>\n",
       "      <td>12.0</td>\n",
       "      <td>0.186816</td>\n",
       "      <td>0.296849</td>\n",
       "      <td>-0.292027</td>\n",
       "      <td>0.030829</td>\n",
       "      <td>0.167474</td>\n",
       "      <td>0.287380</td>\n",
       "      <td>0.859317</td>\n",
       "    </tr>\n",
       "    <tr>\n",
       "      <th>amg3</th>\n",
       "      <td>10.0</td>\n",
       "      <td>0.151494</td>\n",
       "      <td>0.383857</td>\n",
       "      <td>-0.246893</td>\n",
       "      <td>-0.155534</td>\n",
       "      <td>0.091739</td>\n",
       "      <td>0.288222</td>\n",
       "      <td>0.906373</td>\n",
       "    </tr>\n",
       "    <tr>\n",
       "      <th rowspan=\"3\" valign=\"top\">1</th>\n",
       "      <th>amg1</th>\n",
       "      <td>13.0</td>\n",
       "      <td>0.011338</td>\n",
       "      <td>0.405330</td>\n",
       "      <td>-0.760030</td>\n",
       "      <td>-0.138400</td>\n",
       "      <td>0.072214</td>\n",
       "      <td>0.316908</td>\n",
       "      <td>0.533188</td>\n",
       "    </tr>\n",
       "    <tr>\n",
       "      <th>amg2</th>\n",
       "      <td>13.0</td>\n",
       "      <td>-0.158637</td>\n",
       "      <td>0.351140</td>\n",
       "      <td>-0.702461</td>\n",
       "      <td>-0.348733</td>\n",
       "      <td>-0.179461</td>\n",
       "      <td>0.022625</td>\n",
       "      <td>0.433613</td>\n",
       "    </tr>\n",
       "    <tr>\n",
       "      <th>amg3</th>\n",
       "      <td>12.0</td>\n",
       "      <td>-0.149890</td>\n",
       "      <td>0.357468</td>\n",
       "      <td>-0.721853</td>\n",
       "      <td>-0.334502</td>\n",
       "      <td>-0.190697</td>\n",
       "      <td>0.153811</td>\n",
       "      <td>0.391631</td>\n",
       "    </tr>\n",
       "  </tbody>\n",
       "</table>\n",
       "</div>"
      ],
      "text/plain": [
       "                  value                                                    \\\n",
       "                  count      mean       std       min       25%       50%   \n",
       "groupIdx variable                                                           \n",
       "0        amg1      13.0  0.091727  0.382141 -0.344641 -0.142767 -0.013621   \n",
       "         amg2      12.0  0.186816  0.296849 -0.292027  0.030829  0.167474   \n",
       "         amg3      10.0  0.151494  0.383857 -0.246893 -0.155534  0.091739   \n",
       "1        amg1      13.0  0.011338  0.405330 -0.760030 -0.138400  0.072214   \n",
       "         amg2      13.0 -0.158637  0.351140 -0.702461 -0.348733 -0.179461   \n",
       "         amg3      12.0 -0.149890  0.357468 -0.721853 -0.334502 -0.190697   \n",
       "\n",
       "                                       \n",
       "                        75%       max  \n",
       "groupIdx variable                      \n",
       "0        amg1      0.221137  0.990820  \n",
       "         amg2      0.287380  0.859317  \n",
       "         amg3      0.288222  0.906373  \n",
       "1        amg1      0.316908  0.533188  \n",
       "         amg2      0.022625  0.433613  \n",
       "         amg3      0.153811  0.391631  "
      ]
     },
     "execution_count": 20,
     "metadata": {},
     "output_type": "execute_result"
    }
   ],
   "source": [
    "df_long.groupby(['groupIdx', 'variable']).describe()"
   ]
  },
  {
   "cell_type": "code",
   "execution_count": null,
   "id": "7bbbbdae",
   "metadata": {},
   "outputs": [],
   "source": [
    "g = sns.catplot(y='value',x='variable', hue='groupIdx', data=df_long, kind='point', ci=68,\n",
    "               hue_order=[1,0])\n",
    "g.set_xlabels(\"Time\")\n",
    "g.set_xticklabels(\n",
    "    labels=[\"Before Treatment\", \"After Treatment\", \"30-days\"], rotation=30)\n",
    "g.set_xlabels('')\n",
    "g.set_ylabels(\"Amygdala (Trauma vs. Neutral)\")\n",
    "g._legend.set_title(\"Group\")\n",
    "new_labels = ['Ketamine', 'Midazolam']\n",
    "for t, l in zip(g._legend.texts, new_labels): t.set_text(l)\n",
    "g.savefig('amg_pointGraph.png', dpi=300, bbox_inches = 'tight')"
   ]
  },
  {
   "cell_type": "code",
   "execution_count": null,
   "id": "fc931ec2",
   "metadata": {},
   "outputs": [],
   "source": [
    "# take indexes for building the model\n",
    "df_long['scr_id'] = df_long.scr_id.astype('category')\n",
    "sub_idx = df_long.scr_id.cat.codes.values # get county category index values (613 x 1) vec with nums [0-7]\n",
    "print(sub_idx)\n",
    "n_subs = len(np.unique(df_long.scr_id))\n",
    "print(n_subs)\n",
    "# set time as index also\n",
    "#df_long.groupIdx = pd.Categorical(df_long.groupIdx)\n",
    "df_long.variable = pd.Categorical(df_long.variable, \n",
    "                    categories=['amg1','amg2','amg3'])\n",
    "timeIDX = df_long.variable.cat.codes.values\n",
    "print(timeIDX)\n",
    "df_long['time'] = timeIDX\n"
   ]
  },
  {
   "cell_type": "code",
   "execution_count": null,
   "id": "986dfe8d",
   "metadata": {},
   "outputs": [],
   "source": [
    "## Run similar model but without hyperpriors\n",
    "# now we build a model - modeling the score of each group on each time point\n",
    "with pm.Model() as hierarchical:\n",
    "      \n",
    "    a = pm.Normal('a', mu=0, sd=0.1, shape=n_subs)\n",
    "       \n",
    "    b = pm.Normal('b', mu=0, sd=0.1, shape=4)\n",
    "    \n",
    "    \n",
    "    bMed = pm.Normal('bMed', mu=0, sd=0.1, shape=1) #\n",
    "  \n",
    "    # Model error\n",
    "    eps = pm.HalfCauchy('eps', 1)\n",
    "\n",
    "    y_hat = a[sub_idx] + b[timeIDX] + bMed*df_long.groupIdx \n",
    "\n",
    "    # Data likelihood\n",
    "    likelihood = pm.Normal('likelihood', mu=y_hat,\n",
    "                           sigma=eps, observed=df_long.value)\n",
    "    \n",
    "    trace = pm.sample(draws=10000, tune=1000, target_accept=0.9, return_inferencedata=True, cores=4)"
   ]
  },
  {
   "cell_type": "code",
   "execution_count": null,
   "id": "e2efaf0b",
   "metadata": {},
   "outputs": [],
   "source": [
    "az.plot_trace(trace)"
   ]
  },
  {
   "cell_type": "code",
   "execution_count": null,
   "id": "03501ec5",
   "metadata": {},
   "outputs": [],
   "source": [
    "az.summary(trace, hdi_prob=.9)"
   ]
  },
  {
   "cell_type": "code",
   "execution_count": null,
   "id": "3652af36",
   "metadata": {},
   "outputs": [],
   "source": [
    "diffTime = trace.posterior['b'].data[:,:,2] - trace.posterior['b'].data[:,:,0]\n",
    "sns.distplot(diffTime)\n",
    "sum(diffTime.ravel()<0)/len(diffTime.ravel())"
   ]
  },
  {
   "cell_type": "markdown",
   "id": "ccecd709",
   "metadata": {},
   "source": [
    "## Next we calculate the difference between the groups in each time\n",
    "- Althgough the interaction wasn't significant, we still look at this one - as there's a group difference"
   ]
  },
  {
   "cell_type": "code",
   "execution_count": 10,
   "id": "001a1a15",
   "metadata": {},
   "outputs": [
    {
     "name": "stderr",
     "output_type": "stream",
     "text": [
      "Auto-assigning NUTS sampler...\n",
      "Initializing NUTS using jitter+adapt_diag...\n",
      "Multiprocess sampling (4 chains in 4 jobs)\n",
      "NUTS: [sd, groupIdx, Intercept]\n"
     ]
    },
    {
     "data": {
      "text/html": [
       "\n",
       "    <div>\n",
       "        <style>\n",
       "            /* Turns off some styling */\n",
       "            progress {\n",
       "                /* gets rid of default border in Firefox and Opera. */\n",
       "                border: none;\n",
       "                /* Needs to be in here for Safari polyfill so background images work as expected. */\n",
       "                background-size: auto;\n",
       "            }\n",
       "            .progress-bar-interrupted, .progress-bar-interrupted::-webkit-progress-bar {\n",
       "                background: #F44336;\n",
       "            }\n",
       "        </style>\n",
       "      <progress value='8000' class='' max='8000' style='width:300px; height:20px; vertical-align: middle;'></progress>\n",
       "      100.00% [8000/8000 00:02<00:00 Sampling 4 chains, 0 divergences]\n",
       "    </div>\n",
       "    "
      ],
      "text/plain": [
       "<IPython.core.display.HTML object>"
      ]
     },
     "metadata": {},
     "output_type": "display_data"
    },
    {
     "name": "stderr",
     "output_type": "stream",
     "text": [
      "Sampling 4 chains for 1_000 tune and 1_000 draw iterations (4_000 + 4_000 draws total) took 2 seconds.\n"
     ]
    },
    {
     "data": {
      "text/html": [
       "<div>\n",
       "<style scoped>\n",
       "    .dataframe tbody tr th:only-of-type {\n",
       "        vertical-align: middle;\n",
       "    }\n",
       "\n",
       "    .dataframe tbody tr th {\n",
       "        vertical-align: top;\n",
       "    }\n",
       "\n",
       "    .dataframe thead th {\n",
       "        text-align: right;\n",
       "    }\n",
       "</style>\n",
       "<table border=\"1\" class=\"dataframe\">\n",
       "  <thead>\n",
       "    <tr style=\"text-align: right;\">\n",
       "      <th></th>\n",
       "      <th>mean</th>\n",
       "      <th>sd</th>\n",
       "      <th>hdi_5%</th>\n",
       "      <th>hdi_95%</th>\n",
       "      <th>mcse_mean</th>\n",
       "      <th>mcse_sd</th>\n",
       "      <th>ess_bulk</th>\n",
       "      <th>ess_tail</th>\n",
       "      <th>r_hat</th>\n",
       "    </tr>\n",
       "  </thead>\n",
       "  <tbody>\n",
       "    <tr>\n",
       "      <th>Intercept</th>\n",
       "      <td>0.091</td>\n",
       "      <td>0.118</td>\n",
       "      <td>-0.088</td>\n",
       "      <td>0.302</td>\n",
       "      <td>0.003</td>\n",
       "      <td>0.002</td>\n",
       "      <td>1961.0</td>\n",
       "      <td>1985.0</td>\n",
       "      <td>1.0</td>\n",
       "    </tr>\n",
       "    <tr>\n",
       "      <th>groupIdx</th>\n",
       "      <td>-0.083</td>\n",
       "      <td>0.165</td>\n",
       "      <td>-0.341</td>\n",
       "      <td>0.202</td>\n",
       "      <td>0.004</td>\n",
       "      <td>0.003</td>\n",
       "      <td>1938.0</td>\n",
       "      <td>2137.0</td>\n",
       "      <td>1.0</td>\n",
       "    </tr>\n",
       "    <tr>\n",
       "      <th>sd</th>\n",
       "      <td>0.414</td>\n",
       "      <td>0.065</td>\n",
       "      <td>0.314</td>\n",
       "      <td>0.514</td>\n",
       "      <td>0.001</td>\n",
       "      <td>0.001</td>\n",
       "      <td>2023.0</td>\n",
       "      <td>1832.0</td>\n",
       "      <td>1.0</td>\n",
       "    </tr>\n",
       "  </tbody>\n",
       "</table>\n",
       "</div>"
      ],
      "text/plain": [
       "            mean     sd  hdi_5%  hdi_95%  mcse_mean  mcse_sd  ess_bulk  \\\n",
       "Intercept  0.091  0.118  -0.088    0.302      0.003    0.002    1961.0   \n",
       "groupIdx  -0.083  0.165  -0.341    0.202      0.004    0.003    1938.0   \n",
       "sd         0.414  0.065   0.314    0.514      0.001    0.001    2023.0   \n",
       "\n",
       "           ess_tail  r_hat  \n",
       "Intercept    1985.0    1.0  \n",
       "groupIdx     2137.0    1.0  \n",
       "sd           1832.0    1.0  "
      ]
     },
     "execution_count": 10,
     "metadata": {},
     "output_type": "execute_result"
    }
   ],
   "source": [
    "with pm.Model() as model_glm:\n",
    "    pm.GLM.from_formula('amg1 ~ groupIdx', df)\n",
    "    traceSes1 = pm.sample(return_inferencedata=True)\n",
    "az.summary(traceSes1, hdi_prob=.9)"
   ]
  },
  {
   "cell_type": "code",
   "execution_count": 11,
   "id": "46f2b9bf",
   "metadata": {},
   "outputs": [
    {
     "name": "stderr",
     "output_type": "stream",
     "text": [
      "Auto-assigning NUTS sampler...\n",
      "Initializing NUTS using jitter+adapt_diag...\n",
      "Multiprocess sampling (4 chains in 4 jobs)\n",
      "NUTS: [sd, groupIdx, Intercept]\n"
     ]
    },
    {
     "data": {
      "text/html": [
       "\n",
       "    <div>\n",
       "        <style>\n",
       "            /* Turns off some styling */\n",
       "            progress {\n",
       "                /* gets rid of default border in Firefox and Opera. */\n",
       "                border: none;\n",
       "                /* Needs to be in here for Safari polyfill so background images work as expected. */\n",
       "                background-size: auto;\n",
       "            }\n",
       "            .progress-bar-interrupted, .progress-bar-interrupted::-webkit-progress-bar {\n",
       "                background: #F44336;\n",
       "            }\n",
       "        </style>\n",
       "      <progress value='8000' class='' max='8000' style='width:300px; height:20px; vertical-align: middle;'></progress>\n",
       "      100.00% [8000/8000 00:02<00:00 Sampling 4 chains, 0 divergences]\n",
       "    </div>\n",
       "    "
      ],
      "text/plain": [
       "<IPython.core.display.HTML object>"
      ]
     },
     "metadata": {},
     "output_type": "display_data"
    },
    {
     "name": "stderr",
     "output_type": "stream",
     "text": [
      "Sampling 4 chains for 1_000 tune and 1_000 draw iterations (4_000 + 4_000 draws total) took 2 seconds.\n"
     ]
    }
   ],
   "source": [
    "with pm.Model() as model_glm:\n",
    "    pm.GLM.from_formula('amg2 ~ groupIdx', df)\n",
    "    traceSes2 = pm.sample(return_inferencedata=True)"
   ]
  },
  {
   "cell_type": "code",
   "execution_count": 12,
   "id": "1dfc0fc9",
   "metadata": {},
   "outputs": [
    {
     "data": {
      "text/html": [
       "<div>\n",
       "<style scoped>\n",
       "    .dataframe tbody tr th:only-of-type {\n",
       "        vertical-align: middle;\n",
       "    }\n",
       "\n",
       "    .dataframe tbody tr th {\n",
       "        vertical-align: top;\n",
       "    }\n",
       "\n",
       "    .dataframe thead th {\n",
       "        text-align: right;\n",
       "    }\n",
       "</style>\n",
       "<table border=\"1\" class=\"dataframe\">\n",
       "  <thead>\n",
       "    <tr style=\"text-align: right;\">\n",
       "      <th></th>\n",
       "      <th>mean</th>\n",
       "      <th>sd</th>\n",
       "      <th>hdi_5%</th>\n",
       "      <th>hdi_95%</th>\n",
       "      <th>mcse_mean</th>\n",
       "      <th>mcse_sd</th>\n",
       "      <th>ess_bulk</th>\n",
       "      <th>ess_tail</th>\n",
       "      <th>r_hat</th>\n",
       "    </tr>\n",
       "  </thead>\n",
       "  <tbody>\n",
       "    <tr>\n",
       "      <th>Intercept</th>\n",
       "      <td>0.191</td>\n",
       "      <td>0.100</td>\n",
       "      <td>0.029</td>\n",
       "      <td>0.356</td>\n",
       "      <td>0.002</td>\n",
       "      <td>0.002</td>\n",
       "      <td>1996.0</td>\n",
       "      <td>2004.0</td>\n",
       "      <td>1.0</td>\n",
       "    </tr>\n",
       "    <tr>\n",
       "      <th>groupIdx</th>\n",
       "      <td>-0.353</td>\n",
       "      <td>0.136</td>\n",
       "      <td>-0.576</td>\n",
       "      <td>-0.131</td>\n",
       "      <td>0.003</td>\n",
       "      <td>0.002</td>\n",
       "      <td>1944.0</td>\n",
       "      <td>2176.0</td>\n",
       "      <td>1.0</td>\n",
       "    </tr>\n",
       "    <tr>\n",
       "      <th>sd</th>\n",
       "      <td>0.344</td>\n",
       "      <td>0.056</td>\n",
       "      <td>0.257</td>\n",
       "      <td>0.431</td>\n",
       "      <td>0.001</td>\n",
       "      <td>0.001</td>\n",
       "      <td>1748.0</td>\n",
       "      <td>1525.0</td>\n",
       "      <td>1.0</td>\n",
       "    </tr>\n",
       "  </tbody>\n",
       "</table>\n",
       "</div>"
      ],
      "text/plain": [
       "            mean     sd  hdi_5%  hdi_95%  mcse_mean  mcse_sd  ess_bulk  \\\n",
       "Intercept  0.191  0.100   0.029    0.356      0.002    0.002    1996.0   \n",
       "groupIdx  -0.353  0.136  -0.576   -0.131      0.003    0.002    1944.0   \n",
       "sd         0.344  0.056   0.257    0.431      0.001    0.001    1748.0   \n",
       "\n",
       "           ess_tail  r_hat  \n",
       "Intercept    2004.0    1.0  \n",
       "groupIdx     2176.0    1.0  \n",
       "sd           1525.0    1.0  "
      ]
     },
     "execution_count": 12,
     "metadata": {},
     "output_type": "execute_result"
    }
   ],
   "source": [
    "az.summary(traceSes2, hdi_prob=.9)"
   ]
  },
  {
   "cell_type": "code",
   "execution_count": 13,
   "id": "e4a25e7a",
   "metadata": {},
   "outputs": [
    {
     "name": "stderr",
     "output_type": "stream",
     "text": [
      "Auto-assigning NUTS sampler...\n",
      "Initializing NUTS using jitter+adapt_diag...\n",
      "Multiprocess sampling (4 chains in 4 jobs)\n",
      "NUTS: [sd, groupIdx, Intercept]\n"
     ]
    },
    {
     "data": {
      "text/html": [
       "\n",
       "    <div>\n",
       "        <style>\n",
       "            /* Turns off some styling */\n",
       "            progress {\n",
       "                /* gets rid of default border in Firefox and Opera. */\n",
       "                border: none;\n",
       "                /* Needs to be in here for Safari polyfill so background images work as expected. */\n",
       "                background-size: auto;\n",
       "            }\n",
       "            .progress-bar-interrupted, .progress-bar-interrupted::-webkit-progress-bar {\n",
       "                background: #F44336;\n",
       "            }\n",
       "        </style>\n",
       "      <progress value='8000' class='' max='8000' style='width:300px; height:20px; vertical-align: middle;'></progress>\n",
       "      100.00% [8000/8000 00:02<00:00 Sampling 4 chains, 0 divergences]\n",
       "    </div>\n",
       "    "
      ],
      "text/plain": [
       "<IPython.core.display.HTML object>"
      ]
     },
     "metadata": {},
     "output_type": "display_data"
    },
    {
     "name": "stderr",
     "output_type": "stream",
     "text": [
      "Sampling 4 chains for 1_000 tune and 1_000 draw iterations (4_000 + 4_000 draws total) took 2 seconds.\n"
     ]
    }
   ],
   "source": [
    "with pm.Model() as model_glm:\n",
    "    pm.GLM.from_formula('amg3 ~ groupIdx', df)\n",
    "    traceSes3 = pm.sample(return_inferencedata=True)"
   ]
  },
  {
   "cell_type": "code",
   "execution_count": null,
   "id": "8ccc8e73",
   "metadata": {},
   "outputs": [],
   "source": [
    "az.summary(traceSes3, hdi_prob=.9)"
   ]
  },
  {
   "cell_type": "markdown",
   "id": "91d59877",
   "metadata": {},
   "source": [
    "## Using a different method for assessing"
   ]
  },
  {
   "cell_type": "code",
   "execution_count": 14,
   "id": "11da7cab",
   "metadata": {},
   "outputs": [],
   "source": [
    "## create a function that will simply run the model for each session\n",
    "def runModel(variable):\n",
    "    with pm.Model() as hierarchical:\n",
    "      \n",
    "        a = pm.Normal('a', mu=0, sd=1) \n",
    "        bMed = pm.Normal('bMed', mu=0, sd=1, shape=2) #\n",
    "\n",
    "        # Model error\n",
    "        eps = pm.HalfCauchy('eps', 5)\n",
    "\n",
    "        y_hat = a + bMed[df.groupIdx]\n",
    "\n",
    "        # Data likelihood\n",
    "        likelihood = pm.Normal('likelihood', mu=y_hat,\n",
    "                               sigma=eps, observed=df[str(variable)])\n",
    "\n",
    "        trace = pm.sample(draws=4000, tune=2000,target_accept=0.9, return_inferencedata=False)\n",
    "        diff = trace['bMed'][:,1] - trace['bMed'][:,0]\n",
    "    return trace, diff"
   ]
  },
  {
   "cell_type": "code",
   "execution_count": 15,
   "id": "f3ee54be",
   "metadata": {},
   "outputs": [
    {
     "name": "stderr",
     "output_type": "stream",
     "text": [
      "Auto-assigning NUTS sampler...\n",
      "Initializing NUTS using jitter+adapt_diag...\n",
      "Multiprocess sampling (4 chains in 4 jobs)\n",
      "NUTS: [eps, bMed, a]\n"
     ]
    },
    {
     "data": {
      "text/html": [
       "\n",
       "    <div>\n",
       "        <style>\n",
       "            /* Turns off some styling */\n",
       "            progress {\n",
       "                /* gets rid of default border in Firefox and Opera. */\n",
       "                border: none;\n",
       "                /* Needs to be in here for Safari polyfill so background images work as expected. */\n",
       "                background-size: auto;\n",
       "            }\n",
       "            .progress-bar-interrupted, .progress-bar-interrupted::-webkit-progress-bar {\n",
       "                background: #F44336;\n",
       "            }\n",
       "        </style>\n",
       "      <progress value='24000' class='' max='24000' style='width:300px; height:20px; vertical-align: middle;'></progress>\n",
       "      100.00% [24000/24000 00:19<00:00 Sampling 4 chains, 4 divergences]\n",
       "    </div>\n",
       "    "
      ],
      "text/plain": [
       "<IPython.core.display.HTML object>"
      ]
     },
     "metadata": {},
     "output_type": "display_data"
    },
    {
     "name": "stderr",
     "output_type": "stream",
     "text": [
      "Sampling 4 chains for 2_000 tune and 4_000 draw iterations (8_000 + 16_000 draws total) took 19 seconds.\n",
      "There were 4 divergences after tuning. Increase `target_accept` or reparameterize.\n",
      "The acceptance probability does not match the target. It is 0.8377664217392475, but should be close to 0.9. Try to increase the number of tuning steps.\n"
     ]
    }
   ],
   "source": [
    "ses1trace, ses1Diff = runModel('amg1')"
   ]
  },
  {
   "cell_type": "code",
   "execution_count": 16,
   "id": "8307756a",
   "metadata": {},
   "outputs": [
    {
     "name": "stdout",
     "output_type": "stream",
     "text": [
      "Group difference is 0.3110625\n"
     ]
    },
    {
     "data": {
      "image/png": "[encoded data removed]",
      "text/plain": [
       "<Figure size 432x288 with 1 Axes>"
      ]
     },
     "metadata": {
      "needs_background": "light"
     },
     "output_type": "display_data"
    }
   ],
   "source": [
    "pm.summary(ses1trace)\n",
    "sns.distplot(ses1Diff)\n",
    "print(f'Group difference is {sum(ses1Diff>0)/len(ses1Diff)}')"
   ]
  },
  {
   "cell_type": "code",
   "execution_count": 17,
   "id": "30df6895",
   "metadata": {},
   "outputs": [
    {
     "name": "stderr",
     "output_type": "stream",
     "text": [
      "Auto-assigning NUTS sampler...\n",
      "Initializing NUTS using jitter+adapt_diag...\n",
      "Multiprocess sampling (4 chains in 4 jobs)\n",
      "NUTS: [likelihood_missing, eps, bMed, a]\n"
     ]
    },
    {
     "data": {
      "text/html": [
       "\n",
       "    <div>\n",
       "        <style>\n",
       "            /* Turns off some styling */\n",
       "            progress {\n",
       "                /* gets rid of default border in Firefox and Opera. */\n",
       "                border: none;\n",
       "                /* Needs to be in here for Safari polyfill so background images work as expected. */\n",
       "                background-size: auto;\n",
       "            }\n",
       "            .progress-bar-interrupted, .progress-bar-interrupted::-webkit-progress-bar {\n",
       "                background: #F44336;\n",
       "            }\n",
       "        </style>\n",
       "      <progress value='24000' class='' max='24000' style='width:300px; height:20px; vertical-align: middle;'></progress>\n",
       "      100.00% [24000/24000 00:29<00:00 Sampling 4 chains, 0 divergences]\n",
       "    </div>\n",
       "    "
      ],
      "text/plain": [
       "<IPython.core.display.HTML object>"
      ]
     },
     "metadata": {},
     "output_type": "display_data"
    },
    {
     "name": "stderr",
     "output_type": "stream",
     "text": [
      "Sampling 4 chains for 2_000 tune and 4_000 draw iterations (8_000 + 16_000 draws total) took 30 seconds.\n"
     ]
    },
    {
     "name": "stdout",
     "output_type": "stream",
     "text": [
      "Group difference is 0.00875\n"
     ]
    },
    {
     "data": {
      "image/png": "[encoded data removed]",
      "text/plain": [
       "<Figure size 432x288 with 1 Axes>"
      ]
     },
     "metadata": {
      "needs_background": "light"
     },
     "output_type": "display_data"
    }
   ],
   "source": [
    "ses2trace, ses2Diff = runModel('amg2')\n",
    "pm.summary(ses2trace)\n",
    "sns.distplot(ses2Diff)\n",
    "print(f'Group difference is {sum(ses2Diff>0)/len(ses2Diff)}')"
   ]
  },
  {
   "cell_type": "code",
   "execution_count": 18,
   "id": "7a6271cc",
   "metadata": {},
   "outputs": [
    {
     "name": "stderr",
     "output_type": "stream",
     "text": [
      "Auto-assigning NUTS sampler...\n",
      "Initializing NUTS using jitter+adapt_diag...\n",
      "Multiprocess sampling (4 chains in 4 jobs)\n",
      "NUTS: [likelihood_missing, eps, bMed, a]\n"
     ]
    },
    {
     "data": {
      "text/html": [
       "\n",
       "    <div>\n",
       "        <style>\n",
       "            /* Turns off some styling */\n",
       "            progress {\n",
       "                /* gets rid of default border in Firefox and Opera. */\n",
       "                border: none;\n",
       "                /* Needs to be in here for Safari polyfill so background images work as expected. */\n",
       "                background-size: auto;\n",
       "            }\n",
       "            .progress-bar-interrupted, .progress-bar-interrupted::-webkit-progress-bar {\n",
       "                background: #F44336;\n",
       "            }\n",
       "        </style>\n",
       "      <progress value='24000' class='' max='24000' style='width:300px; height:20px; vertical-align: middle;'></progress>\n",
       "      100.00% [24000/24000 00:28<00:00 Sampling 4 chains, 1 divergences]\n",
       "    </div>\n",
       "    "
      ],
      "text/plain": [
       "<IPython.core.display.HTML object>"
      ]
     },
     "metadata": {},
     "output_type": "display_data"
    },
    {
     "name": "stderr",
     "output_type": "stream",
     "text": [
      "Sampling 4 chains for 2_000 tune and 4_000 draw iterations (8_000 + 16_000 draws total) took 29 seconds.\n",
      "There was 1 divergence after tuning. Increase `target_accept` or reparameterize.\n"
     ]
    },
    {
     "name": "stdout",
     "output_type": "stream",
     "text": [
      "Group difference is 0.04125\n"
     ]
    },
    {
     "data": {
      "image/png": "[encoded data removed]",
      "text/plain": [
       "<Figure size 432x288 with 1 Axes>"
      ]
     },
     "metadata": {
      "needs_background": "light"
     },
     "output_type": "display_data"
    }
   ],
   "source": [
    "ses3trace, ses3Diff = runModel('amg3')\n",
    "pm.summary(ses3trace)\n",
    "sns.distplot(ses3Diff)\n",
    "print(f'Group difference is {sum(ses3Diff>0)/len(ses3Diff)}')"
   ]
  },
  {
   "cell_type": "markdown",
   "id": "5158bf5d",
   "metadata": {},
   "source": [
    "## Plotting"
   ]
  },
  {
   "cell_type": "code",
   "execution_count": 21,
   "id": "d31637f1",
   "metadata": {},
   "outputs": [],
   "source": [
    "# set variables\n",
    "def plotDiff(depVar,indepVar, trace):\n",
    "    sns.set_style(\"ticks\") # set style\n",
    "    y = str(depVar)\n",
    "    dfPlot = df\n",
    "    ci = np.quantile(trace.posterior[str(indepVar)], [.05,.95])\n",
    "    fig, (ax1, ax2) = plt.subplots(1,2, figsize=(3, 5),gridspec_kw={'width_ratios': [1, .2],\n",
    "                                                            'wspace':.1})\n",
    "    g1 = sns.stripplot(y= y, x='group', data=dfPlot, size = 8, ax=ax1)\n",
    "    sns.boxplot(y= y, x='group', data=dfPlot,  ax=ax1,\n",
    "                boxprops=dict(alpha=.3))\n",
    "    g2 = sns.distplot(trace.posterior[str(indepVar)], ax = ax2, vertical=True)\n",
    "    ax2.vlines(x=0.001,ymin=ci[0], ymax=ci[1], color='black', \n",
    "               linewidth = 3, linestyle = \"-\")\n",
    "\n",
    "    #g3.set_ylim(-.7, .7)\n",
    "    #ax1.set_ylim(-.7,.7)\n",
    "    ax2.set_ylim(g1.get_ylim()) # use first graph's limits to get the relevant for this one\n",
    "    ax2.yaxis.tick_right()\n",
    "    ax2.set_xticks([])\n",
    "    ax2.set_ylabel(\"Difference between groups\", fontsize=14) \n",
    "    ax2.yaxis.set_label_position(\"right\")\n",
    "    ax1.set_ylabel(\"Amg reactivity to traumatic script\", fontsize=12)\n",
    "    ax1.set_xlabel(\"Group\", fontsize=14)\n",
    "   # fig.savefig( str(depVar) + 'Reactivity.png', dpi=300, bbox_inches='tight')\n",
    "    return fig"
   ]
  },
  {
   "cell_type": "code",
   "execution_count": 108,
   "id": "adb7e979",
   "metadata": {},
   "outputs": [],
   "source": [
    "def plotSubfigs(subfigs,subNum, depVar,indepVar, trace):\n",
    "    # gets subfig and the index number of it to plot the same as above\n",
    "    sns.set_style(\"ticks\") # set style\n",
    "    y = str(depVar)\n",
    "    dfPlot = df\n",
    "    ci = np.quantile(trace.posterior[str(indepVar)], [.05,.95])\n",
    "    axsLeft = subfigs[subNum].subplots(1,2, gridspec_kw={'width_ratios': [1, .2],'wspace':.01})\n",
    "    ax1 = axsLeft[0]\n",
    "    ax2 = axsLeft[1]\n",
    "    g1 = sns.stripplot(y= y, x='group', data=dfPlot, size = 8, ax=ax1)\n",
    "    sns.boxplot(y= y, x='group', data=dfPlot,  ax=ax1,\n",
    "                 boxprops=dict(alpha=.3))\n",
    "    g2 = sns.distplot(trace.posterior[str(indepVar)], ax = ax2, vertical=True)\n",
    "    ax2.vlines(x=0.001,ymin=ci[0], ymax=ci[1], color='black', \n",
    "                linewidth = 3, linestyle = \"-\")\n",
    "\n",
    "    ax2.set_ylim(g1.get_ylim()) # use first graph's limits to get the relevant for this one\n",
    "    ax2.yaxis.tick_right()\n",
    "    ax2.set_xticks([])\n",
    "    ax2.set_ylabel(\"Difference between groups\", fontsize=14) \n",
    "    ax2.yaxis.set_label_position(\"right\")\n",
    "    ax1.set_ylabel(\"Amg reactivity to traumatic script\", fontsize=12)\n",
    "    ax1.set_xlabel(\"Group\", fontsize=14)\n",
    "    "
   ]
  },
  {
   "cell_type": "code",
   "execution_count": 113,
   "id": "391b07c7",
   "metadata": {},
   "outputs": [
    {
     "data": {
      "text/plain": [
       "Text(0.5, 0.98, '30-Days')"
      ]
     },
     "execution_count": 113,
     "metadata": {},
     "output_type": "execute_result"
    },
    {
     "data": {
      "image/png": "[encoded data removed]",
      "text/plain": [
       "<Figure size 864x432 with 6 Axes>"
      ]
     },
     "metadata": {},
     "output_type": "display_data"
    }
   ],
   "source": [
    "fig = plt.figure(constrained_layout=True, figsize=(12, 6))\n",
    "subfigs = fig.subfigures(1, 3, wspace=0.1, )\n",
    "plotSubfigs(subfigs, 0, 'amg1','groupIdx',traceSes1)\n",
    "subfigs[0].suptitle('Before Treatment', fontsize='large')\n",
    "plotSubfigs(subfigs, 1, 'amg2','groupIdx',traceSes2)\n",
    "subfigs[1].suptitle('After Treatment', fontsize='large')\n",
    "plotSubfigs(subfigs, 2,'amg3','groupIdx',traceSes3)\n",
    "subfigs[2].suptitle('30-Days', fontsize='large')"
   ]
  },
  {
   "cell_type": "code",
   "execution_count": 114,
   "id": "71921048",
   "metadata": {},
   "outputs": [
    {
     "data": {
      "image/png": "[encoded data removed]",
      "text/plain": [
       "<Figure size 432x288 with 2 Axes>"
      ]
     },
     "metadata": {},
     "output_type": "display_data"
    }
   ],
   "source": [
    "import matplotlib.gridspec as gridspec\n",
    "gs = gridspec.GridSpec(10, 10)\n",
    "ax00 = plt.subplot(gs[0:,0:5])\n",
    "ax10 = plt.subplot(gs[0:,5:])\n",
    "#ax00 = plt.draw(ax1)"
   ]
  },
  {
   "cell_type": "code",
   "execution_count": 115,
   "id": "e80d21a2",
   "metadata": {},
   "outputs": [
    {
     "data": {
      "text/html": [
       "<div>\n",
       "<style scoped>\n",
       "    .dataframe tbody tr th:only-of-type {\n",
       "        vertical-align: middle;\n",
       "    }\n",
       "\n",
       "    .dataframe tbody tr th {\n",
       "        vertical-align: top;\n",
       "    }\n",
       "\n",
       "    .dataframe thead th {\n",
       "        text-align: right;\n",
       "    }\n",
       "</style>\n",
       "<table border=\"1\" class=\"dataframe\">\n",
       "  <thead>\n",
       "    <tr style=\"text-align: right;\">\n",
       "      <th></th>\n",
       "      <th>T</th>\n",
       "      <th>dof</th>\n",
       "      <th>alternative</th>\n",
       "      <th>p-val</th>\n",
       "      <th>CI95%</th>\n",
       "      <th>cohen-d</th>\n",
       "      <th>BF10</th>\n",
       "      <th>power</th>\n",
       "    </tr>\n",
       "  </thead>\n",
       "  <tbody>\n",
       "    <tr>\n",
       "      <th>T-test</th>\n",
       "      <td>-2.663025</td>\n",
       "      <td>22.839436</td>\n",
       "      <td>two-sided</td>\n",
       "      <td>0.013943</td>\n",
       "      <td>[-0.61, -0.08]</td>\n",
       "      <td>1.058687</td>\n",
       "      <td>4.038</td>\n",
       "      <td>0.716666</td>\n",
       "    </tr>\n",
       "  </tbody>\n",
       "</table>\n",
       "</div>"
      ],
      "text/plain": [
       "               T        dof alternative     p-val           CI95%   cohen-d  \\\n",
       "T-test -2.663025  22.839436   two-sided  0.013943  [-0.61, -0.08]  1.058687   \n",
       "\n",
       "         BF10     power  \n",
       "T-test  4.038  0.716666  "
      ]
     },
     "execution_count": 115,
     "metadata": {},
     "output_type": "execute_result"
    }
   ],
   "source": [
    "pg.ttest(df.amg2[df.groupIdx==1], df.amg2[df.groupIdx==0])"
   ]
  },
  {
   "cell_type": "code",
   "execution_count": 116,
   "id": "65bdbf32",
   "metadata": {},
   "outputs": [
    {
     "data": {
      "text/html": [
       "<div>\n",
       "<style scoped>\n",
       "    .dataframe tbody tr th:only-of-type {\n",
       "        vertical-align: middle;\n",
       "    }\n",
       "\n",
       "    .dataframe tbody tr th {\n",
       "        vertical-align: top;\n",
       "    }\n",
       "\n",
       "    .dataframe thead th {\n",
       "        text-align: right;\n",
       "    }\n",
       "</style>\n",
       "<table border=\"1\" class=\"dataframe\">\n",
       "  <thead>\n",
       "    <tr style=\"text-align: right;\">\n",
       "      <th></th>\n",
       "      <th>T</th>\n",
       "      <th>dof</th>\n",
       "      <th>alternative</th>\n",
       "      <th>p-val</th>\n",
       "      <th>CI95%</th>\n",
       "      <th>cohen-d</th>\n",
       "      <th>BF10</th>\n",
       "      <th>power</th>\n",
       "    </tr>\n",
       "  </thead>\n",
       "  <tbody>\n",
       "    <tr>\n",
       "      <th>T-test</th>\n",
       "      <td>-1.891675</td>\n",
       "      <td>18.712667</td>\n",
       "      <td>two-sided</td>\n",
       "      <td>0.074115</td>\n",
       "      <td>[-0.64, 0.03]</td>\n",
       "      <td>0.815485</td>\n",
       "      <td>1.31</td>\n",
       "      <td>0.441659</td>\n",
       "    </tr>\n",
       "  </tbody>\n",
       "</table>\n",
       "</div>"
      ],
      "text/plain": [
       "               T        dof alternative     p-val          CI95%   cohen-d  \\\n",
       "T-test -1.891675  18.712667   two-sided  0.074115  [-0.64, 0.03]  0.815485   \n",
       "\n",
       "        BF10     power  \n",
       "T-test  1.31  0.441659  "
      ]
     },
     "execution_count": 116,
     "metadata": {},
     "output_type": "execute_result"
    }
   ],
   "source": [
    "pg.ttest(df.amg3[df.groupIdx==1], df.amg3[df.groupIdx==0])"
   ]
  }
 ],
 "metadata": {
  "kernelspec": {
   "display_name": "Python 3 (ipykernel)",
   "language": "python",
   "name": "python3"
  },
  "language_info": {
   "codemirror_mode": {
    "name": "ipython",
    "version": 3
   },
   "file_extension": ".py",
   "mimetype": "text/x-python",
   "name": "python",
   "nbconvert_exporter": "python",
   "pygments_lexer": "ipython3",
   "version": "3.9.7"
  }
 },
 "nbformat": 4,
 "nbformat_minor": 5
}
