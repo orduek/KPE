{
 "cells": [
  {
   "cell_type": "markdown",
   "id": "6be63692",
   "metadata": {},
   "source": [
    "## Calculate differences\n",
    "- Calculate differences using different models on the effect of Trauma vs. Sad on amygdala (later hippocampus and vmPFC)"
   ]
  },
  {
   "cell_type": "code",
   "execution_count": 1,
   "id": "d3fdd094",
   "metadata": {},
   "outputs": [],
   "source": [
    "import warnings\n",
    "warnings.filterwarnings('ignore')"
   ]
  },
  {
   "cell_type": "code",
   "execution_count": 2,
   "id": "2044bf5e",
   "metadata": {},
   "outputs": [],
   "source": [
    "import pandas as pd\n",
    "import numpy as np\n",
    "import seaborn as sns\n",
    "import matplotlib.pyplot as plt\n",
    "import pymc as pm\n",
    "import arviz as az\n",
    "\n",
    "# regular GLMs\n",
    "#import pingouin as pg\n",
    "import statsmodels.api as sm\n",
    "import statsmodels.formula.api as smf\n",
    "\n",
    "#from utils import calcBF"
   ]
  },
  {
   "cell_type": "code",
   "execution_count": 3,
   "id": "60284eb7",
   "metadata": {
    "tags": []
   },
   "outputs": [
    {
     "data": {
      "text/html": [
       "<div>\n",
       "<style scoped>\n",
       "    .dataframe tbody tr th:only-of-type {\n",
       "        vertical-align: middle;\n",
       "    }\n",
       "\n",
       "    .dataframe tbody tr th {\n",
       "        vertical-align: top;\n",
       "    }\n",
       "\n",
       "    .dataframe thead th {\n",
       "        text-align: right;\n",
       "    }\n",
       "</style>\n",
       "<table border=\"1\" class=\"dataframe\">\n",
       "  <thead>\n",
       "    <tr style=\"text-align: right;\">\n",
       "      <th></th>\n",
       "      <th>scr_id</th>\n",
       "      <th>groupIdx</th>\n",
       "      <th>variable</th>\n",
       "      <th>value</th>\n",
       "    </tr>\n",
       "  </thead>\n",
       "  <tbody>\n",
       "    <tr>\n",
       "      <th>0</th>\n",
       "      <td>KPE008</td>\n",
       "      <td>1</td>\n",
       "      <td>amg1</td>\n",
       "      <td>0.384864</td>\n",
       "    </tr>\n",
       "    <tr>\n",
       "      <th>1</th>\n",
       "      <td>KPE1223</td>\n",
       "      <td>1</td>\n",
       "      <td>amg1</td>\n",
       "      <td>0.072214</td>\n",
       "    </tr>\n",
       "    <tr>\n",
       "      <th>2</th>\n",
       "      <td>KPE1253</td>\n",
       "      <td>0</td>\n",
       "      <td>amg1</td>\n",
       "      <td>-0.142767</td>\n",
       "    </tr>\n",
       "    <tr>\n",
       "      <th>3</th>\n",
       "      <td>KPE1263</td>\n",
       "      <td>0</td>\n",
       "      <td>amg1</td>\n",
       "      <td>-0.254799</td>\n",
       "    </tr>\n",
       "    <tr>\n",
       "      <th>4</th>\n",
       "      <td>KPE1293</td>\n",
       "      <td>1</td>\n",
       "      <td>amg1</td>\n",
       "      <td>-0.054429</td>\n",
       "    </tr>\n",
       "    <tr>\n",
       "      <th>...</th>\n",
       "      <td>...</td>\n",
       "      <td>...</td>\n",
       "      <td>...</td>\n",
       "      <td>...</td>\n",
       "    </tr>\n",
       "    <tr>\n",
       "      <th>76</th>\n",
       "      <td>KPE1561</td>\n",
       "      <td>0</td>\n",
       "      <td>amg3</td>\n",
       "      <td>0.184200</td>\n",
       "    </tr>\n",
       "    <tr>\n",
       "      <th>77</th>\n",
       "      <td>KPE1573</td>\n",
       "      <td>1</td>\n",
       "      <td>amg3</td>\n",
       "      <td>0.391631</td>\n",
       "    </tr>\n",
       "    <tr>\n",
       "      <th>78</th>\n",
       "      <td>KPE1578</td>\n",
       "      <td>0</td>\n",
       "      <td>amg3</td>\n",
       "      <td>-0.246893</td>\n",
       "    </tr>\n",
       "    <tr>\n",
       "      <th>79</th>\n",
       "      <td>KPE1587</td>\n",
       "      <td>1</td>\n",
       "      <td>amg3</td>\n",
       "      <td>NaN</td>\n",
       "    </tr>\n",
       "    <tr>\n",
       "      <th>80</th>\n",
       "      <td>KPE1612</td>\n",
       "      <td>0</td>\n",
       "      <td>amg3</td>\n",
       "      <td>0.196278</td>\n",
       "    </tr>\n",
       "  </tbody>\n",
       "</table>\n",
       "<p>81 rows × 4 columns</p>\n",
       "</div>"
      ],
      "text/plain": [
       "     scr_id  groupIdx variable     value\n",
       "0    KPE008         1     amg1  0.384864\n",
       "1   KPE1223         1     amg1  0.072214\n",
       "2   KPE1253         0     amg1 -0.142767\n",
       "3   KPE1263         0     amg1 -0.254799\n",
       "4   KPE1293         1     amg1 -0.054429\n",
       "..      ...       ...      ...       ...\n",
       "76  KPE1561         0     amg3  0.184200\n",
       "77  KPE1573         1     amg3  0.391631\n",
       "78  KPE1578         0     amg3 -0.246893\n",
       "79  KPE1587         1     amg3       NaN\n",
       "80  KPE1612         0     amg3  0.196278\n",
       "\n",
       "[81 rows x 4 columns]"
      ]
     },
     "execution_count": 3,
     "metadata": {},
     "output_type": "execute_result"
    }
   ],
   "source": [
    "## Load amygdala database\n",
    "df = pd.read_csv('amg_TraumavsNeutral.csv')#('TraumavsNeutral_threeSes.csv')\n",
    "# create a long format for analysis\n",
    "df_long = pd.melt(df, id_vars=['scr_id','groupIdx'], value_vars=['amg1','amg2','amg3'])\n",
    "df_long"
   ]
  },
  {
   "cell_type": "code",
   "execution_count": 4,
   "id": "69dc7b49-920f-4429-a35d-0a164b16aebc",
   "metadata": {},
   "outputs": [
    {
     "data": {
      "text/html": [
       "<div>\n",
       "<style scoped>\n",
       "    .dataframe tbody tr th:only-of-type {\n",
       "        vertical-align: middle;\n",
       "    }\n",
       "\n",
       "    .dataframe tbody tr th {\n",
       "        vertical-align: top;\n",
       "    }\n",
       "\n",
       "    .dataframe thead th {\n",
       "        text-align: right;\n",
       "    }\n",
       "</style>\n",
       "<table border=\"1\" class=\"dataframe\">\n",
       "  <thead>\n",
       "    <tr style=\"text-align: right;\">\n",
       "      <th></th>\n",
       "      <th>scr_id</th>\n",
       "      <th>groupIdx</th>\n",
       "      <th>variable</th>\n",
       "      <th>value</th>\n",
       "    </tr>\n",
       "  </thead>\n",
       "  <tbody>\n",
       "    <tr>\n",
       "      <th>0</th>\n",
       "      <td>KPE008</td>\n",
       "      <td>1</td>\n",
       "      <td>amg1</td>\n",
       "      <td>0.384864</td>\n",
       "    </tr>\n",
       "    <tr>\n",
       "      <th>27</th>\n",
       "      <td>KPE008</td>\n",
       "      <td>1</td>\n",
       "      <td>amg2</td>\n",
       "      <td>-0.004718</td>\n",
       "    </tr>\n",
       "    <tr>\n",
       "      <th>54</th>\n",
       "      <td>KPE008</td>\n",
       "      <td>1</td>\n",
       "      <td>amg3</td>\n",
       "      <td>-0.161639</td>\n",
       "    </tr>\n",
       "  </tbody>\n",
       "</table>\n",
       "</div>"
      ],
      "text/plain": [
       "    scr_id  groupIdx variable     value\n",
       "0   KPE008         1     amg1  0.384864\n",
       "27  KPE008         1     amg2 -0.004718\n",
       "54  KPE008         1     amg3 -0.161639"
      ]
     },
     "execution_count": 4,
     "metadata": {},
     "output_type": "execute_result"
    }
   ],
   "source": [
    "df_long[df_long.scr_id=='KPE008']"
   ]
  },
  {
   "cell_type": "code",
   "execution_count": 5,
   "id": "ec8d2bd7-30f7-477d-a5e0-4e7c150bc650",
   "metadata": {},
   "outputs": [],
   "source": [
    "#df_long.to_csv('amg_long.csv', index=False)"
   ]
  },
  {
   "cell_type": "code",
   "execution_count": 6,
   "id": "817a1525-e152-4a58-9082-7e1453499348",
   "metadata": {},
   "outputs": [
    {
     "data": {
      "text/html": [
       "<div>\n",
       "<style scoped>\n",
       "    .dataframe tbody tr th:only-of-type {\n",
       "        vertical-align: middle;\n",
       "    }\n",
       "\n",
       "    .dataframe tbody tr th {\n",
       "        vertical-align: top;\n",
       "    }\n",
       "\n",
       "    .dataframe thead tr th {\n",
       "        text-align: left;\n",
       "    }\n",
       "\n",
       "    .dataframe thead tr:last-of-type th {\n",
       "        text-align: right;\n",
       "    }\n",
       "</style>\n",
       "<table border=\"1\" class=\"dataframe\">\n",
       "  <thead>\n",
       "    <tr>\n",
       "      <th></th>\n",
       "      <th></th>\n",
       "      <th colspan=\"8\" halign=\"left\">value</th>\n",
       "    </tr>\n",
       "    <tr>\n",
       "      <th></th>\n",
       "      <th></th>\n",
       "      <th>count</th>\n",
       "      <th>mean</th>\n",
       "      <th>std</th>\n",
       "      <th>min</th>\n",
       "      <th>25%</th>\n",
       "      <th>50%</th>\n",
       "      <th>75%</th>\n",
       "      <th>max</th>\n",
       "    </tr>\n",
       "    <tr>\n",
       "      <th>groupIdx</th>\n",
       "      <th>variable</th>\n",
       "      <th></th>\n",
       "      <th></th>\n",
       "      <th></th>\n",
       "      <th></th>\n",
       "      <th></th>\n",
       "      <th></th>\n",
       "      <th></th>\n",
       "      <th></th>\n",
       "    </tr>\n",
       "  </thead>\n",
       "  <tbody>\n",
       "    <tr>\n",
       "      <th rowspan=\"3\" valign=\"top\">0</th>\n",
       "      <th>amg1</th>\n",
       "      <td>13.0</td>\n",
       "      <td>0.091727</td>\n",
       "      <td>0.382140</td>\n",
       "      <td>-0.344641</td>\n",
       "      <td>-0.142767</td>\n",
       "      <td>-0.013621</td>\n",
       "      <td>0.221137</td>\n",
       "      <td>0.990817</td>\n",
       "    </tr>\n",
       "    <tr>\n",
       "      <th>amg2</th>\n",
       "      <td>12.0</td>\n",
       "      <td>0.186816</td>\n",
       "      <td>0.296849</td>\n",
       "      <td>-0.292027</td>\n",
       "      <td>0.030829</td>\n",
       "      <td>0.167474</td>\n",
       "      <td>0.287380</td>\n",
       "      <td>0.859317</td>\n",
       "    </tr>\n",
       "    <tr>\n",
       "      <th>amg3</th>\n",
       "      <td>10.0</td>\n",
       "      <td>0.151494</td>\n",
       "      <td>0.383857</td>\n",
       "      <td>-0.246893</td>\n",
       "      <td>-0.155534</td>\n",
       "      <td>0.091739</td>\n",
       "      <td>0.288222</td>\n",
       "      <td>0.906373</td>\n",
       "    </tr>\n",
       "    <tr>\n",
       "      <th rowspan=\"3\" valign=\"top\">1</th>\n",
       "      <th>amg1</th>\n",
       "      <td>14.0</td>\n",
       "      <td>-0.010331</td>\n",
       "      <td>0.397779</td>\n",
       "      <td>-0.760030</td>\n",
       "      <td>-0.222873</td>\n",
       "      <td>0.008892</td>\n",
       "      <td>0.309385</td>\n",
       "      <td>0.533188</td>\n",
       "    </tr>\n",
       "    <tr>\n",
       "      <th>amg2</th>\n",
       "      <td>14.0</td>\n",
       "      <td>-0.153388</td>\n",
       "      <td>0.337935</td>\n",
       "      <td>-0.702461</td>\n",
       "      <td>-0.325189</td>\n",
       "      <td>-0.173664</td>\n",
       "      <td>0.015790</td>\n",
       "      <td>0.433613</td>\n",
       "    </tr>\n",
       "    <tr>\n",
       "      <th>amg3</th>\n",
       "      <td>12.0</td>\n",
       "      <td>-0.149890</td>\n",
       "      <td>0.357468</td>\n",
       "      <td>-0.721853</td>\n",
       "      <td>-0.334502</td>\n",
       "      <td>-0.190697</td>\n",
       "      <td>0.153811</td>\n",
       "      <td>0.391631</td>\n",
       "    </tr>\n",
       "  </tbody>\n",
       "</table>\n",
       "</div>"
      ],
      "text/plain": [
       "                  value                                                    \\\n",
       "                  count      mean       std       min       25%       50%   \n",
       "groupIdx variable                                                           \n",
       "0        amg1      13.0  0.091727  0.382140 -0.344641 -0.142767 -0.013621   \n",
       "         amg2      12.0  0.186816  0.296849 -0.292027  0.030829  0.167474   \n",
       "         amg3      10.0  0.151494  0.383857 -0.246893 -0.155534  0.091739   \n",
       "1        amg1      14.0 -0.010331  0.397779 -0.760030 -0.222873  0.008892   \n",
       "         amg2      14.0 -0.153388  0.337935 -0.702461 -0.325189 -0.173664   \n",
       "         amg3      12.0 -0.149890  0.357468 -0.721853 -0.334502 -0.190697   \n",
       "\n",
       "                                       \n",
       "                        75%       max  \n",
       "groupIdx variable                      \n",
       "0        amg1      0.221137  0.990817  \n",
       "         amg2      0.287380  0.859317  \n",
       "         amg3      0.288222  0.906373  \n",
       "1        amg1      0.309385  0.533188  \n",
       "         amg2      0.015790  0.433613  \n",
       "         amg3      0.153811  0.391631  "
      ]
     },
     "execution_count": 6,
     "metadata": {},
     "output_type": "execute_result"
    }
   ],
   "source": [
    "df_long.groupby(['groupIdx','variable']).describe()"
   ]
  },
  {
   "cell_type": "code",
   "execution_count": 7,
   "id": "b23e09b6",
   "metadata": {},
   "outputs": [
    {
     "name": "stdout",
     "output_type": "stream",
     "text": [
      "                     Mixed Linear Model Regression Results\n",
      "===============================================================================\n",
      "Model:                     MixedLM         Dependent Variable:         value   \n",
      "No. Observations:          75              Method:                     REML    \n",
      "No. Groups:                27              Scale:                      0.1022  \n",
      "Min. group size:           2               Log-Likelihood:             -33.7749\n",
      "Max. group size:           3               Converged:                  Yes     \n",
      "Mean group size:           2.8                                                 \n",
      "-------------------------------------------------------------------------------\n",
      "                                     Coef.  Std.Err.   z    P>|z| [0.025 0.975]\n",
      "-------------------------------------------------------------------------------\n",
      "Intercept                             0.092    0.100  0.917 0.359 -0.104  0.288\n",
      "C(variable)[T.amg2]                   0.093    0.128  0.725 0.469 -0.159  0.345\n",
      "C(variable)[T.amg3]                   0.056    0.136  0.410 0.682 -0.211  0.322\n",
      "C(groupIdx)[T.1]                     -0.102    0.139 -0.735 0.463 -0.374  0.170\n",
      "C(variable)[T.amg2]:C(groupIdx)[T.1] -0.236    0.176 -1.339 0.181 -0.582  0.110\n",
      "C(variable)[T.amg3]:C(groupIdx)[T.1] -0.185    0.186 -0.997 0.319 -0.550  0.179\n",
      "Group Var                             0.028    0.071                           \n",
      "===============================================================================\n",
      "\n"
     ]
    }
   ],
   "source": [
    "## Start with simple GLM models (using statsmodel)\n",
    "glm = smf.mixedlm('value ~ C(variable) * C(groupIdx)', data=df_long, groups = df_long.scr_id, \n",
    "                 missing='drop')\n",
    "model1 = glm.fit()\n",
    "print(model1.summary())"
   ]
  },
  {
   "cell_type": "code",
   "execution_count": null,
   "id": "356b54cd",
   "metadata": {},
   "outputs": [],
   "source": [
    "# mixed anova\n",
    "aov = pg.mixed_anova(data=df_long, dv='value', between='groupIdx', within='variable',\n",
    "                     subject='scr_id', correction=False, effsize=\"np2\")\n",
    "pg.print_table(aov)"
   ]
  },
  {
   "cell_type": "code",
   "execution_count": null,
   "id": "dd5ad164-8040-4a96-a032-ee4bcd3bbcaa",
   "metadata": {},
   "outputs": [],
   "source": [
    "# simple boxplot graph\n",
    "a = sns.catplot(y='amg2', x='groupIdx', data= df, kind='violin')\n",
    "a.set_xticklabels(labels = [\"Midazolam\", \"Ketamine\"])\n",
    "a.set_xlabels(\"\")\n",
    "a.set_ylabels(\"Amygdala Activation (standardized)\")\n",
    "a.savefig('amg__time2.png', dpi=300, bbox_inches='tight')"
   ]
  },
  {
   "cell_type": "code",
   "execution_count": null,
   "id": "38f2a701",
   "metadata": {},
   "outputs": [],
   "source": [
    "pg.ttest(df.amg2[df.groupIdx==1], df.amg1[df.groupIdx==1], paired=True, correction=False)"
   ]
  },
  {
   "cell_type": "code",
   "execution_count": null,
   "id": "180becd1-f2fc-42de-8538-121c6c251c37",
   "metadata": {},
   "outputs": [],
   "source": [
    "pg.ttest(df.amg2[df.groupIdx==1], df.amg3[df.groupIdx==1], paired=True, correction=False)"
   ]
  },
  {
   "cell_type": "code",
   "execution_count": null,
   "id": "66b65ffc",
   "metadata": {},
   "outputs": [],
   "source": [
    "pg.ttest(df.amg1[df.groupIdx==1], df.amg1[df.groupIdx==0], paired=False, correction=False)"
   ]
  },
  {
   "cell_type": "code",
   "execution_count": null,
   "id": "7206cacc",
   "metadata": {},
   "outputs": [],
   "source": [
    "pg.ttest(df.amg3[df.groupIdx==1], df.amg3[df.groupIdx==0], correction=False)"
   ]
  },
  {
   "cell_type": "markdown",
   "id": "950c1031",
   "metadata": {},
   "source": [
    "### As requested from Reviewer 1 - adding withing group time analysis"
   ]
  },
  {
   "cell_type": "code",
   "execution_count": null,
   "id": "0ca4b9a7-3c6e-4cdf-a1e2-0741b694a10a",
   "metadata": {},
   "outputs": [],
   "source": [
    "# using simple t test\n",
    "#Ketamine\n",
    "pg.ttest(df.amg2[df.groupIdx==1], df.amg1[df.groupIdx==1], paired=True, correction=False)\n",
    "pg.ttest(df.amg3[df.groupIdx==1], df.amg1[df.groupIdx==1], paired=True, correction=False)"
   ]
  },
  {
   "cell_type": "code",
   "execution_count": null,
   "id": "526882d8-50f4-4117-9ca8-ce84788fe854",
   "metadata": {},
   "outputs": [],
   "source": [
    "# Midazolam\n",
    "#pg.ttest(df.amg2[df.groupIdx==0], df.amg1[df.groupIdx==0], paired=True, correction=False)\n",
    "pg.ttest(df.amg3[df.groupIdx==0], df.amg1[df.groupIdx==0], paired=True, correction=False)"
   ]
  },
  {
   "cell_type": "code",
   "execution_count": null,
   "id": "96fca0d4",
   "metadata": {},
   "outputs": [],
   "source": [
    "sns.set(font_scale = 1.15)\n",
    "sns.set_style(\"white\")\n",
    "g = sns.catplot(y='value',x='variable', hue='groupIdx', data=df_long, kind='point', ci=68,\n",
    "               hue_order=[1,0])\n",
    "g.set_xlabels(\"\")\n",
    "g.set_xticklabels(\n",
    "    labels=[\"Before Treatment\", \"End of Treatment\", \"30-days\"], rotation=30)\n",
    "\n",
    "g.set_ylabels(\"Amygdala (Trauma > Neutral)\")\n",
    "g._legend.set_title(\"Group\")\n",
    "new_labels = ['Ketamine', 'Midazolam']\n",
    "for t, l in zip(g._legend.texts, new_labels): t.set_text(l)\n",
    "g.savefig('amg_pointGraph.png', dpi=300, bbox_inches='tight')"
   ]
  },
  {
   "cell_type": "code",
   "execution_count": null,
   "id": "bfed20af",
   "metadata": {},
   "outputs": [],
   "source": [
    "# Bayes\n",
    "# take indexes for building the model\n",
    "df_longKet['scr_id'] = df_longKet.scr_id.astype('category')\n",
    "sub_idx = df_longKet.scr_id.cat.codes.values # get county category index values (613 x 1) vec with nums [0-7]\n",
    "print(sub_idx)\n",
    "n_subs = len(np.unique(df_longKet.scr_id))\n",
    "print(n_subs)\n",
    "# set time as index also\n",
    "#df_long.groupIdx = pd.Categorical(df_long.groupIdx)\n",
    "df_longKet.variable = pd.Categorical(df_longKet.variable, \n",
    "                    categories=['amg1','amg2','amg3'])\n",
    "timeIDX = df_longKet.variable.cat.codes.values\n",
    "print(timeIDX)\n",
    "df_longKet['time'] = timeIDX"
   ]
  },
  {
   "cell_type": "code",
   "execution_count": null,
   "id": "6ef6cdca",
   "metadata": {},
   "outputs": [],
   "source": [
    "with pm.Model() as hierarchical:   \n",
    "    a = pm.Normal('a', mu=0, sd=0.1, shape=n_subs)\n",
    "    b = pm.Normal('b', mu=0, sd=0.1, shape=3)\n",
    "    \n",
    "    # Model error\n",
    "    eps = pm.HalfCauchy('eps', 1)\n",
    "\n",
    "    y_hat = a[sub_idx] + b[timeIDX]\n",
    "\n",
    "    # Data likelihood\n",
    "    likelihood = pm.Normal('likelihood', mu=y_hat,\n",
    "                           sigma=eps, observed=df_longKet.value)\n",
    "    \n",
    "    trace = pm.sample(draws=1000, tune=1000, target_accept=0.95, return_inferencedata=True, cores=4)"
   ]
  },
  {
   "cell_type": "code",
   "execution_count": null,
   "id": "d0de193d",
   "metadata": {
    "tags": []
   },
   "outputs": [],
   "source": [
    "az.summary(trace, hdi_prob=.95)"
   ]
  },
  {
   "cell_type": "code",
   "execution_count": null,
   "id": "67ca557b",
   "metadata": {
    "tags": []
   },
   "outputs": [],
   "source": [
    "diffTime = trace.posterior['b'].data[:,:,1] - trace.posterior['b'].data[:,:,0]\n",
    "sns.distplot(diffTime)\n",
    "plt.show()\n",
    "sns.distplot(trace.posterior['b'].data[:,:,2], color='red')\n",
    "sns.distplot(trace.posterior['b'].data[:,:,0])\n",
    "sns.distplot(trace.posterior['b'].data[:,:,1], color= 'orange')\n",
    "print(sum(diffTime.ravel()>0)/len(diffTime.ravel()))"
   ]
  },
  {
   "cell_type": "markdown",
   "id": "74c29b6d",
   "metadata": {},
   "source": [
    "## Build a Bayesian model\n",
    "- Here we would model each subject under each group"
   ]
  },
  {
   "cell_type": "code",
   "execution_count": null,
   "id": "d0dc7054",
   "metadata": {},
   "outputs": [],
   "source": [
    "# first lets look at the data\n",
    "sns.pairplot(df[['amg1','amg2','amg3','groupIdx']], hue='groupIdx', kind='scatter')"
   ]
  },
  {
   "cell_type": "code",
   "execution_count": null,
   "id": "3b1bc0db",
   "metadata": {},
   "outputs": [],
   "source": [
    "df_long.groupby(['groupIdx', 'variable']).describe()"
   ]
  },
  {
   "cell_type": "code",
   "execution_count": null,
   "id": "7bbbbdae",
   "metadata": {},
   "outputs": [],
   "source": [
    "g = sns.catplot(y='value',x='variable', hue='groupIdx', data=df_long, kind='point', ci=68,\n",
    "               hue_order=[1,0])\n",
    "g.set_xlabels(\"Time\")\n",
    "g.set_xticklabels(\n",
    "    labels=[\"Before Treatment\", \"After Treatment\", \"30-days\"], rotation=30)\n",
    "g.set_xlabels('')\n",
    "g.set_ylabels(\"Amygdala (Trauma vs. Neutral)\")\n",
    "g._legend.set_title(\"Group\")\n",
    "new_labels = ['Ketamine', 'Midazolam']\n",
    "for t, l in zip(g._legend.texts, new_labels): t.set_text(l)\n",
    "g.savefig('amg_pointGraph.png', dpi=300, bbox_inches = 'tight')"
   ]
  },
  {
   "cell_type": "markdown",
   "id": "74dfcb59-b233-4ffa-90f9-e3855899d1e8",
   "metadata": {},
   "source": [
    "# Interaction model \n",
    "- Include baseline as covariate"
   ]
  },
  {
   "cell_type": "code",
   "execution_count": 8,
   "id": "d746490e-1695-4f72-b780-f6ef95b0ff2c",
   "metadata": {},
   "outputs": [],
   "source": [
    "df_long2 = pd.melt(df, id_vars=['scr_id','groupIdx', 'amg1'], value_vars=['amg2','amg3'])\n",
    "#df_long2.to_csv('df_long2.csv', index=False)"
   ]
  },
  {
   "cell_type": "code",
   "execution_count": 9,
   "id": "a9a27867-58eb-429e-ae80-9604ce590a98",
   "metadata": {},
   "outputs": [
    {
     "name": "stdout",
     "output_type": "stream",
     "text": [
      "                     Mixed Linear Model Regression Results\n",
      "===============================================================================\n",
      "Model:                     MixedLM         Dependent Variable:         value   \n",
      "No. Observations:          48              Method:                     REML    \n",
      "No. Groups:                27              Scale:                      0.0941  \n",
      "Min. group size:           1               Log-Likelihood:             -19.9992\n",
      "Max. group size:           2               Converged:                  Yes     \n",
      "Mean group size:           1.8                                                 \n",
      "-------------------------------------------------------------------------------\n",
      "                                     Coef.  Std.Err.   z    P>|z| [0.025 0.975]\n",
      "-------------------------------------------------------------------------------\n",
      "Intercept                             0.166    0.099  1.690 0.091 -0.027  0.360\n",
      "C(variable)[T.amg3]                  -0.037    0.134 -0.278 0.781 -0.299  0.225\n",
      "C(groupIdx)[T.1]                     -0.318    0.134 -2.374 0.018 -0.580 -0.055\n",
      "C(variable)[T.amg3]:C(groupIdx)[T.1]  0.051    0.181  0.280 0.780 -0.304  0.405\n",
      "amg1                                  0.195    0.138  1.411 0.158 -0.076  0.466\n",
      "Group Var                             0.021    0.104                           \n",
      "===============================================================================\n",
      "\n"
     ]
    }
   ],
   "source": [
    "glm2 = smf.mixedlm('value ~ C(variable) * C(groupIdx) + amg1', data=df_long2, groups = df_long2.scr_id, \n",
    "                 missing='drop')\n",
    "model2 = glm2.fit()\n",
    "print(model2.summary())"
   ]
  },
  {
   "cell_type": "code",
   "execution_count": 10,
   "id": "fc931ec2",
   "metadata": {},
   "outputs": [
    {
     "name": "stdout",
     "output_type": "stream",
     "text": [
      "[ 0  1  2  3  4  5  6  7  8  9 10 11 12 13 14 15 16 17 18 19 20 21 22 23\n",
      " 24 25 26  0  1  2  3  4  5  6  7  8  9 10 11 12 13 14 15 16 17 18 19 20\n",
      " 21 22 23 24 25 26]\n",
      "27\n",
      "[0 0 0 0 0 0 0 0 0 0 0 0 0 0 0 0 0 0 0 0 0 0 0 0 0 0 0 1 1 1 1 1 1 1 1 1 1\n",
      " 1 1 1 1 1 1 1 1 1 1 1 1 1 1 1 1 1]\n"
     ]
    }
   ],
   "source": [
    "# take indexes for building the model\n",
    "df_long2['scr_id'] = df_long2.scr_id.astype('category')\n",
    "sub_idx = df_long2.scr_id.cat.codes.values # get county category index values (613 x 1) vec with nums [0-7]\n",
    "print(sub_idx)\n",
    "n_subs = len(np.unique(df_long2.scr_id))\n",
    "print(n_subs)\n",
    "# set time as index also\n",
    "#df_long.groupIdx = pd.Categorical(df_long.groupIdx)\n",
    "df_long2.variable = pd.Categorical(df_long2.variable, \n",
    "                    categories=['amg2','amg3'])\n",
    "timeIDX = df_long2.variable.cat.codes.values\n",
    "print(timeIDX)\n",
    "df_long2['time'] = timeIDX\n"
   ]
  },
  {
   "cell_type": "code",
   "execution_count": 11,
   "id": "986dfe8d",
   "metadata": {},
   "outputs": [
    {
     "name": "stderr",
     "output_type": "stream",
     "text": [
      "Auto-assigning NUTS sampler...\n",
      "Initializing NUTS using jitter+adapt_diag...\n",
      "Multiprocess sampling (4 chains in 4 jobs)\n",
      "NUTS: [a, cov, b, interaction, eps, likelihood_missing]\n"
     ]
    },
    {
     "data": {
      "text/html": [
       "\n",
       "<style>\n",
       "    /* Turns off some styling */\n",
       "    progress {\n",
       "        /* gets rid of default border in Firefox and Opera. */\n",
       "        border: none;\n",
       "        /* Needs to be in here for Safari polyfill so background images work as expected. */\n",
       "        background-size: auto;\n",
       "    }\n",
       "    .progress-bar-interrupted, .progress-bar-interrupted::-webkit-progress-bar {\n",
       "        background: #F44336;\n",
       "    }\n",
       "</style>\n"
      ],
      "text/plain": [
       "<IPython.core.display.HTML object>"
      ]
     },
     "metadata": {},
     "output_type": "display_data"
    },
    {
     "data": {
      "text/html": [
       "\n",
       "    <div>\n",
       "      <progress value='12000' class='' max='12000' style='width:300px; height:20px; vertical-align: middle;'></progress>\n",
       "      100.00% [12000/12000 00:26<00:00 Sampling 4 chains, 0 divergences]\n",
       "    </div>\n",
       "    "
      ],
      "text/plain": [
       "<IPython.core.display.HTML object>"
      ]
     },
     "metadata": {},
     "output_type": "display_data"
    },
    {
     "name": "stderr",
     "output_type": "stream",
     "text": [
      "Sampling 4 chains for 1_000 tune and 2_000 draw iterations (4_000 + 8_000 draws total) took 27 seconds.\n"
     ]
    }
   ],
   "source": [
    "## Run similar model but without hyperpriors\n",
    "# now we build a model - modeling the score of each group on each time point\n",
    "with pm.Model() as hierarchical:\n",
    "      \n",
    "    a = pm.Normal('a', mu=0, sigma=0.1, shape=n_subs)\n",
    "    cov = pm.Normal('cov', mu=0.05, sigma=0.1)\n",
    "    b = pm.Normal('b', mu=0, sigma=0.1, shape=2)\n",
    "    \n",
    "    \n",
    "   # bMed = pm.Normal('bMed', mu=0, sd=0.1, shape=2) #\n",
    "   # sigma = pm.HalfCauchy('sigma', 1)\n",
    "    interact = pm.Normal('interaction', mu=0, sigma=1, shape=(2,2))\n",
    "  \n",
    "    # Model error\n",
    "    eps = pm.HalfCauchy('eps', 1)\n",
    "\n",
    "    y_hat = a[sub_idx] + b[timeIDX] + interact[timeIDX,df_long2.groupIdx] + cov*df_long2.amg1\n",
    "\n",
    "    # Data likelihood\n",
    "    likelihood = pm.Normal('likelihood', mu=y_hat,\n",
    "                           sigma=eps, observed=df_long2.value)\n",
    "    \n",
    "    \n",
    "    # calculate differences and effect size\n",
    "    diff_of_means1 = pm.Deterministic('differenceGroups end of treatment', interact[0,1] - interact[0,0])\n",
    "    diff_of_means2 = pm.Deterministic('differenceGroups 30 days', interact[1,1] - interact[1,0])\n",
    "   \n",
    "    # effect size\n",
    "    effect_size1 = pm.Deterministic('effect size2_1', \n",
    "                        diff_of_means1 / eps)\n",
    "    \n",
    "    effect_size2 = pm.Deterministic('effect size3_1', \n",
    "                        diff_of_means2 / eps)\n",
    "    \n",
    "#     effect_size3 = pm.Deterministic('effect size4_1', \n",
    "#                         abs(diff_of_means3) / eps)\n",
    "    \n",
    "    ppChecks = pm.sample_prior_predictive(samples = 8000)\n",
    "    trace = pm.sample(draws=2000, tune=1000, target_accept=0.9, return_inferencedata=True, cores=4)"
   ]
  },
  {
   "cell_type": "code",
   "execution_count": null,
   "id": "745a5836-0734-46d6-81e1-2ada3a99914f",
   "metadata": {},
   "outputs": [],
   "source": [
    "sns.histplot(np.mean(trace.sample_stats.lp.values, axis=0))"
   ]
  },
  {
   "cell_type": "code",
   "execution_count": null,
   "id": "44f0ddec-842f-4cbe-8de0-8ba326cd4d5f",
   "metadata": {
    "tags": []
   },
   "outputs": [],
   "source": [
    "az.summary(trace, hdi_prob=.95)"
   ]
  },
  {
   "cell_type": "code",
   "execution_count": null,
   "id": "95c11212-b468-43b2-8e85-8d0ac4bd4477",
   "metadata": {},
   "outputs": [],
   "source": [
    "priorC = ppChecks['interaction'][:,1,0] - ppChecks['interaction'][:,1,1] \n",
    "sns.histplot(priorC)"
   ]
  },
  {
   "cell_type": "code",
   "execution_count": null,
   "id": "c4760c8c-8477-4750-9f62-2b8a906a0b48",
   "metadata": {},
   "outputs": [],
   "source": [
    "tr = trace.posterior.stack(draws=(\"chain\", \"draw\"))\n",
    "sns.histplot(tr.interaction.values[0,0,:,], label='midazolam', color='red')\n",
    "sns.histplot(tr.interaction.values[0,1,:], label = 'ketamine', color='blue')\n",
    "plt.legend()"
   ]
  },
  {
   "cell_type": "code",
   "execution_count": null,
   "id": "46add9a4-c29e-4d5d-a46a-50b8e420fb45",
   "metadata": {},
   "outputs": [],
   "source": [
    "az.plot_posterior(tr.interaction.values[0,0,:] - tr.interaction.values[0,1,:], kind='hist', ref_val=0,\n",
    "                 rope=[-0.1,.1], hdi_prob=.9)"
   ]
  },
  {
   "cell_type": "code",
   "execution_count": null,
   "id": "9855bdaa-f5a1-432b-9b60-798c182e67d8",
   "metadata": {},
   "outputs": [],
   "source": [
    "az.plot_posterior(trace, var_names=['effect size2_1','effect size3_1'], rope=[-.2,.2], kind='hist',\n",
    "                 ref_val=0)"
   ]
  },
  {
   "cell_type": "markdown",
   "id": "5c72d5d5-25cb-4525-8dcc-4357996f7de4",
   "metadata": {},
   "source": [
    "## Calculate Bayes Factor for each time point"
   ]
  },
  {
   "cell_type": "code",
   "execution_count": 14,
   "id": "44eb9727-1b11-4f5c-a850-e20f0cf7cfb6",
   "metadata": {},
   "outputs": [
    {
     "data": {
      "text/plain": [
       "({'BF10': array([7.44527675]), 'BF01': array([0.13431334])},\n",
       " <Axes: title={'center': 'The BF_10 is 7.45\\nThe BF_01 is 0.13'}, xlabel='effect size2_1', ylabel='Density'>)"
      ]
     },
     "execution_count": 14,
     "metadata": {},
     "output_type": "execute_result"
    },
    {
     "data": {
      "image/png": "[encoded data removed]",
      "text/plain": [
       "<Figure size 432x288 with 1 Axes>"
      ]
     },
     "metadata": {
      "needs_background": "light"
     },
     "output_type": "display_data"
    }
   ],
   "source": [
    "az.plot_bf(trace, var_name = 'effect size2_1', prior = np.random.normal(0, 1, 5000))"
   ]
  },
  {
   "cell_type": "code",
   "execution_count": 17,
   "id": "d92e20c7-2cef-404a-bf66-b2f60f442352",
   "metadata": {},
   "outputs": [
    {
     "data": {
      "text/plain": [
       "({'BF10': array([2.58480755]), 'BF01': array([0.386876])},\n",
       " <Axes: title={'center': 'The BF_10 is 2.58\\nThe BF_01 is 0.39'}, xlabel='effect size3_1', ylabel='Density'>)"
      ]
     },
     "execution_count": 17,
     "metadata": {},
     "output_type": "execute_result"
    },
    {
     "data": {
      "image/png": "[encoded data removed]",
      "text/plain": [
       "<Figure size 432x288 with 1 Axes>"
      ]
     },
     "metadata": {
      "needs_background": "light"
     },
     "output_type": "display_data"
    }
   ],
   "source": [
    "az.plot_bf(trace, var_name = 'effect size3_1', prior = np.random.normal(0, 1, 5000))"
   ]
  },
  {
   "cell_type": "markdown",
   "id": "43603135-8959-4bcc-a87e-6ae0edaf2374",
   "metadata": {},
   "source": [
    "## Only interaction (no simple effects)"
   ]
  },
  {
   "cell_type": "code",
   "execution_count": null,
   "id": "227e0596-72cc-4c76-9899-0b40a65da250",
   "metadata": {},
   "outputs": [],
   "source": [
    "with pm.Model() as interaction:\n",
    "      \n",
    "    a = pm.Normal('a', mu=0, sd=.1, shape=n_subs)\n",
    "    cov = pm.Normal('cov', mu=0, sd=.1)\n",
    "    b = pm.Normal('b', mu=0, sd=.1)\n",
    "    \n",
    "    \n",
    "    bMed = pm.Normal('bMed', mu=0, sd=.1) #\n",
    "   # sigma = pm.HalfCauchy('sigma', 1)\n",
    "    interact = pm.Normal('interaction', mu=0, sd=.1)\n",
    "  \n",
    "    # Model error\n",
    "    eps = pm.HalfCauchy('eps', 1)\n",
    "\n",
    "    y_hat = a[sub_idx] + b*timeIDX + bMed*df_long2.groupIdx  + interact*timeIDX*df_long2.groupIdx + cov*df_long2.amg1\n",
    "\n",
    "    # Data likelihood\n",
    "    likelihood = pm.Normal('likelihood', mu=y_hat,\n",
    "                           sigma=eps, observed=df_long2.value)\n",
    "    \n",
    "    \n",
    "   \n",
    "    \n",
    "    #ppChecks = pm.sample_prior_predictive(samples = 8000)\n",
    "    trace2 = pm.sample(draws=10000, tune=1000, target_accept=0.9, return_inferencedata=True, cores=4)"
   ]
  },
  {
   "cell_type": "code",
   "execution_count": null,
   "id": "111de552-e574-41f1-87ee-2d6b4af01d56",
   "metadata": {
    "tags": []
   },
   "outputs": [],
   "source": [
    "az.summary(trace2, hdi_prob=.95)"
   ]
  },
  {
   "cell_type": "markdown",
   "id": "ccecd709",
   "metadata": {},
   "source": [
    "## Next we calculate the difference between the groups in each time\n",
    "- Althgough the interaction wasn't significant, we still look at this one - as there's a group difference"
   ]
  },
  {
   "cell_type": "code",
   "execution_count": null,
   "id": "001a1a15",
   "metadata": {},
   "outputs": [],
   "source": [
    "with pm.Model() as model_glm:\n",
    "    pm.GLM.from_formula('amg1 ~ groupIdx', df)\n",
    "    traceSes1 = pm.sample(return_inferencedata=True)\n",
    "az.summary(traceSes1, hdi_prob=.9)"
   ]
  },
  {
   "cell_type": "code",
   "execution_count": null,
   "id": "46f2b9bf",
   "metadata": {},
   "outputs": [],
   "source": [
    "with pm.Model() as model_glm:\n",
    "    pm.GLM.from_formula('amg2 ~ groupIdx', df)\n",
    "    traceSes2 = pm.sample(return_inferencedata=True)"
   ]
  },
  {
   "cell_type": "code",
   "execution_count": null,
   "id": "1dfc0fc9",
   "metadata": {},
   "outputs": [],
   "source": [
    "az.summary(traceSes2, hdi_prob=.95)"
   ]
  },
  {
   "cell_type": "code",
   "execution_count": null,
   "id": "1a0ea77a-3bd2-4d22-8d77-76b96970f699",
   "metadata": {},
   "outputs": [],
   "source": [
    "az.plot_posterior(traceSes2, var_names='groupIdx', rope=[-.1,.1], kind='hist', hdi_prob=.9)"
   ]
  },
  {
   "cell_type": "code",
   "execution_count": null,
   "id": "e4a25e7a",
   "metadata": {},
   "outputs": [],
   "source": [
    "with pm.Model() as model_glm:\n",
    "    pm.GLM.from_formula('amg3 ~ groupIdx', df)\n",
    "    traceSes3 = pm.sample(return_inferencedata=True)"
   ]
  },
  {
   "cell_type": "code",
   "execution_count": null,
   "id": "8ccc8e73",
   "metadata": {},
   "outputs": [],
   "source": [
    "az.summary(traceSes3, hdi_prob=.95)"
   ]
  },
  {
   "cell_type": "markdown",
   "id": "91d59877",
   "metadata": {},
   "source": [
    "## Using a different method for assessing"
   ]
  },
  {
   "cell_type": "code",
   "execution_count": null,
   "id": "11da7cab",
   "metadata": {},
   "outputs": [],
   "source": [
    "## create a function that will simply run the model for each session\n",
    "def runModel(variable):\n",
    "    with pm.Model() as hierarchical:\n",
    "      \n",
    "        a = pm.Normal('a', mu=0, sd=1) \n",
    "        bMed = pm.Normal('bMed', mu=0, sd=1, shape=2) #\n",
    "\n",
    "        # Model error\n",
    "        eps = pm.HalfCauchy('eps', 5)\n",
    "\n",
    "        y_hat = a + bMed[df.groupIdx]\n",
    "\n",
    "        # Data likelihood\n",
    "        likelihood = pm.Normal('likelihood', mu=y_hat,\n",
    "                               sigma=eps, observed=df[str(variable)])\n",
    "\n",
    "        trace = pm.sample(draws=4000, tune=2000,target_accept=0.9, return_inferencedata=False)\n",
    "        diff = trace['bMed'][:,1] - trace['bMed'][:,0]\n",
    "    return trace, diff"
   ]
  },
  {
   "cell_type": "code",
   "execution_count": null,
   "id": "f3ee54be",
   "metadata": {},
   "outputs": [],
   "source": [
    "ses1trace, ses1Diff = runModel('amg1')"
   ]
  },
  {
   "cell_type": "code",
   "execution_count": null,
   "id": "8307756a",
   "metadata": {},
   "outputs": [],
   "source": [
    "pm.summary(ses1trace)\n",
    "sns.distplot(ses1Diff)\n",
    "print(f'Group difference is {sum(ses1Diff>0)/len(ses1Diff)}')"
   ]
  },
  {
   "cell_type": "code",
   "execution_count": null,
   "id": "30df6895",
   "metadata": {},
   "outputs": [],
   "source": [
    "ses2trace, ses2Diff = runModel('amg2')\n",
    "pm.summary(ses2trace)\n",
    "sns.distplot(ses2Diff)\n",
    "print(f'Group difference is {sum(ses2Diff>0)/len(ses2Diff)}')"
   ]
  },
  {
   "cell_type": "code",
   "execution_count": null,
   "id": "7a6271cc",
   "metadata": {},
   "outputs": [],
   "source": [
    "ses3trace, ses3Diff = runModel('amg3')\n",
    "pm.summary(ses3trace)\n",
    "sns.distplot(ses3Diff)\n",
    "print(f'Group difference is {sum(ses3Diff>0)/len(ses3Diff)}')"
   ]
  },
  {
   "cell_type": "markdown",
   "id": "5158bf5d",
   "metadata": {},
   "source": [
    "## Plotting"
   ]
  },
  {
   "cell_type": "code",
   "execution_count": null,
   "id": "d31637f1",
   "metadata": {},
   "outputs": [],
   "source": [
    "# set variables\n",
    "def plotDiff(depVar,indepVar, trace):\n",
    "    sns.set_style(\"ticks\") # set style\n",
    "    y = str(depVar)\n",
    "    dfPlot = df\n",
    "    ci = np.quantile(trace.posterior[str(indepVar)], [.05,.95])\n",
    "    fig, (ax1, ax2) = plt.subplots(1,2, figsize=(3, 5),gridspec_kw={'width_ratios': [1, .2],\n",
    "                                                            'wspace':.1})\n",
    "    g1 = sns.stripplot(y= y, x='group', data=dfPlot, size = 8, ax=ax1)\n",
    "    sns.boxplot(y= y, x='group', data=dfPlot,  ax=ax1,\n",
    "                boxprops=dict(alpha=.3))\n",
    "    g2 = sns.distplot(trace.posterior[str(indepVar)], ax = ax2, vertical=True)\n",
    "    ax2.vlines(x=0.001,ymin=ci[0], ymax=ci[1], color='black', \n",
    "               linewidth = 3, linestyle = \"-\")\n",
    "\n",
    "    #g3.set_ylim(-.7, .7)\n",
    "    #ax1.set_ylim(-.7,.7)\n",
    "    ax2.set_ylim(-0.8, 1)#(g1.get_ylim()) # use first graph's limits to get the relevant for this one\n",
    "    ax2.yaxis.tick_right()\n",
    "    ax2.set_xticks([])\n",
    "    ax2.set_ylabel(\"Difference between groups\", fontsize=14) \n",
    "    ax2.yaxis.set_label_position(\"right\")\n",
    "    ax1.set_ylabel(\"Amg reactivity to traumatic script\", fontsize=12)\n",
    "   # ax1.set_xlabel(\"Group\", fontsize=14)\n",
    "    fig.savefig( str(depVar) + 'Reactivity.png', dpi=300, bbox_inches='tight')\n",
    "    return fig"
   ]
  },
  {
   "cell_type": "code",
   "execution_count": null,
   "id": "adb7e979",
   "metadata": {},
   "outputs": [],
   "source": [
    "def plotSubfigs(subfigs,subNum, depVar,indepVar, trace, title):\n",
    "    # gets subfig and the index number of it to plot the same as above\n",
    "    sns.set_style(\"ticks\") # set style\n",
    "    y = str(depVar)\n",
    "    dfPlot = df\n",
    "    ci = np.quantile(trace.posterior[str(indepVar)], [.025,.975])\n",
    "    axsLeft = subfigs[subNum].subplots(1,2, gridspec_kw={'width_ratios': [1, .2],'wspace':.01})\n",
    "    ax1 = axsLeft[0]\n",
    "    ax2 = axsLeft[1]\n",
    "    g1 = sns.stripplot(y= y, x='group', data=dfPlot, size = 8, ax=ax1)\n",
    "    sns.boxplot(y= y, x='group', data=dfPlot,  ax=ax1,\n",
    "                 boxprops=dict(alpha=.3))\n",
    "    g2 = sns.distplot(trace.posterior[str(indepVar)], ax = ax2, vertical=True)\n",
    "    ax2.vlines(x=0.001,ymin=ci[0], ymax=ci[1], color='black', \n",
    "                linewidth = 3, linestyle = \"-\")\n",
    "\n",
    "    ax2.set_ylim(-0.8, 1)#(g1.get_ylim()) # use first graph's limits to get the relevant for this one\n",
    "    ax1.set_ylim(-0.8, 1)\n",
    "    ax2.yaxis.tick_right()\n",
    "    ax2.set_xticks([])\n",
    "    ax2.set_ylabel(\"Difference between groups\", fontsize=14) \n",
    "    ax2.yaxis.set_label_position(\"right\")\n",
    "    ax1.set_ylabel(\"Amg reactivity to traumatic script\", fontsize=12)\n",
    "    ax1.set_xlabel('')#(\"Group\", fontsize=14)\n",
    "    ax1.set_title(title, fontsize=15)\n",
    "    #ax1.title.set_style(font=\"large\")"
   ]
  },
  {
   "cell_type": "code",
   "execution_count": null,
   "id": "391b07c7",
   "metadata": {},
   "outputs": [],
   "source": [
    "fig = plt.figure(constrained_layout=True, figsize=(15, 6))\n",
    "subfigs = fig.subfigures(1, 3, wspace=0.1)\n",
    "plotSubfigs(subfigs, 0, 'amg1','groupIdx',traceSes1, \"Before Treatment\")\n",
    "#subfigs[0].suptitle('Before Treatment', fontsize='large')\n",
    "plotSubfigs(subfigs, 1, 'amg2','groupIdx',traceSes2, 'After Treatment')\n",
    "#subfigs[1].suptitle('After Treatment', fontsize='large')\n",
    "plotSubfigs(subfigs, 2,'amg3','groupIdx',traceSes3, '30-Days')\n",
    "#subfigs[2].suptitle('Follow-Up', fontsize='large')\n",
    "fig.savefig(\"Amg_reactivity.png\",  dpi=300, bbox_inches='tight')"
   ]
  },
  {
   "cell_type": "code",
   "execution_count": null,
   "id": "e80d21a2",
   "metadata": {},
   "outputs": [],
   "source": [
    "pg.ttest(df.amg2[df.groupIdx==1], df.amg2[df.groupIdx==0])"
   ]
  },
  {
   "cell_type": "code",
   "execution_count": null,
   "id": "65bdbf32",
   "metadata": {},
   "outputs": [],
   "source": [
    "pg.ttest(df.amg3[df.groupIdx==1], df.amg3[df.groupIdx==0])"
   ]
  },
  {
   "cell_type": "markdown",
   "id": "2ef2dd43-6d9e-438e-9145-d751e7252abd",
   "metadata": {},
   "source": [
    "# Sample size sensitivity"
   ]
  },
  {
   "cell_type": "code",
   "execution_count": null,
   "id": "c55f1cd0-9c87-4b48-8d22-ee4bc579c288",
   "metadata": {
    "tags": []
   },
   "outputs": [],
   "source": [
    "dfSample = df.groupby(['groupIdx']).sample(20, replace=True).reset_index()\n",
    "dfSample\n"
   ]
  },
  {
   "cell_type": "code",
   "execution_count": null,
   "id": "7dd7f10c-9151-4940-bc35-ff1a88704ff5",
   "metadata": {
    "tags": []
   },
   "outputs": [],
   "source": [
    "# run a for loop to see effect of sample size in each group\n",
    "ns = [5,30, 50, 150]\n",
    "gaps = []\n",
    "means= []\n",
    "for n in ns:\n",
    "    print(f'Now running {n} subjects')\n",
    "    # random sample from dataframe\n",
    "    dfSample = df.groupby(['groupIdx']).sample(n, replace=True).reset_index()\n",
    "    with pm.Model() as model_glm:\n",
    "        pm.GLM.from_formula('amg2 ~ groupIdx', df)\n",
    "        trace = pm.sample(return_inferencedata=True)\n",
    "        \n",
    "    fivePer= az.summary(trace, hdi_prob=.9, var_names=['groupIdx'])['hdi_5%']\n",
    "    ninetyPer = az.summary(trace, hdi_prob=.9, var_names=['groupIdx'])['hdi_95%']\n",
    "    gap = ninetyPer - fivePer\n",
    "    means.append(abs(az.summary(trace, hdi_prob=.9, var_names=['groupIdx'])['mean']))\n",
    "    gaps.append(gap)"
   ]
  },
  {
   "cell_type": "code",
   "execution_count": null,
   "id": "7638288a-6d3d-44d4-9c0a-4149f1aba3ca",
   "metadata": {},
   "outputs": [],
   "source": [
    "# Plot results\n",
    "\n",
    "plt.plot(ns,np.array(gaps), label = '5-95')\n",
    "plt.plot(ns, means, label = 'diff')\n",
    "plt.legend()"
   ]
  },
  {
   "cell_type": "code",
   "execution_count": null,
   "id": "4a91d1fb-ca53-4960-be16-f60dfbf0f708",
   "metadata": {},
   "outputs": [],
   "source": [
    "# define ROPE around the zero \n",
    "gaps"
   ]
  }
 ],
 "metadata": {
  "kernelspec": {
   "display_name": "pymc4",
   "language": "python",
   "name": "pymc4"
  },
  "language_info": {
   "codemirror_mode": {
    "name": "ipython",
    "version": 3
   },
   "file_extension": ".py",
   "mimetype": "text/x-python",
   "name": "python",
   "nbconvert_exporter": "python",
   "pygments_lexer": "ipython3",
   "version": "3.9.12"
  }
 },
 "nbformat": 4,
 "nbformat_minor": 5
}
