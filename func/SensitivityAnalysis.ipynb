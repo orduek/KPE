{
 "cells": [
  {
   "cell_type": "markdown",
   "id": "6be63692",
   "metadata": {},
   "source": [
    "## Calculate differences\n",
    "- Calculate differences using different models on the effect of Trauma vs. Sad on amygdala (later hippocampus and vmPFC)"
   ]
  },
  {
   "cell_type": "code",
   "execution_count": 1,
   "id": "d3fdd094",
   "metadata": {},
   "outputs": [],
   "source": [
    "import warnings\n",
    "warnings.filterwarnings('ignore')"
   ]
  },
  {
   "cell_type": "code",
   "execution_count": 2,
   "id": "2044bf5e",
   "metadata": {},
   "outputs": [],
   "source": [
    "import pandas as pd\n",
    "import numpy as np\n",
    "import seaborn as sns\n",
    "import matplotlib.pyplot as plt\n",
    "import pymc3 as pm\n",
    "import arviz as az\n",
    "\n",
    "# regular GLMs\n",
    "import pingouin as pg\n",
    "import statsmodels.api as sm\n",
    "import statsmodels.formula.api as smf"
   ]
  },
  {
   "cell_type": "code",
   "execution_count": 3,
   "id": "60284eb7",
   "metadata": {},
   "outputs": [
    {
     "data": {
      "text/html": [
       "<div>\n",
       "<style scoped>\n",
       "    .dataframe tbody tr th:only-of-type {\n",
       "        vertical-align: middle;\n",
       "    }\n",
       "\n",
       "    .dataframe tbody tr th {\n",
       "        vertical-align: top;\n",
       "    }\n",
       "\n",
       "    .dataframe thead th {\n",
       "        text-align: right;\n",
       "    }\n",
       "</style>\n",
       "<table border=\"1\" class=\"dataframe\">\n",
       "  <thead>\n",
       "    <tr style=\"text-align: right;\">\n",
       "      <th></th>\n",
       "      <th>scr_id</th>\n",
       "      <th>groupIdx</th>\n",
       "      <th>variable</th>\n",
       "      <th>value</th>\n",
       "    </tr>\n",
       "  </thead>\n",
       "  <tbody>\n",
       "    <tr>\n",
       "      <th>0</th>\n",
       "      <td>KPE008</td>\n",
       "      <td>1</td>\n",
       "      <td>amg1</td>\n",
       "      <td>0.384864</td>\n",
       "    </tr>\n",
       "    <tr>\n",
       "      <th>1</th>\n",
       "      <td>KPE1223</td>\n",
       "      <td>1</td>\n",
       "      <td>amg1</td>\n",
       "      <td>0.072214</td>\n",
       "    </tr>\n",
       "    <tr>\n",
       "      <th>2</th>\n",
       "      <td>KPE1253</td>\n",
       "      <td>0</td>\n",
       "      <td>amg1</td>\n",
       "      <td>-0.142767</td>\n",
       "    </tr>\n",
       "    <tr>\n",
       "      <th>3</th>\n",
       "      <td>KPE1263</td>\n",
       "      <td>0</td>\n",
       "      <td>amg1</td>\n",
       "      <td>-0.254799</td>\n",
       "    </tr>\n",
       "    <tr>\n",
       "      <th>4</th>\n",
       "      <td>KPE1293</td>\n",
       "      <td>1</td>\n",
       "      <td>amg1</td>\n",
       "      <td>-0.054429</td>\n",
       "    </tr>\n",
       "    <tr>\n",
       "      <th>...</th>\n",
       "      <td>...</td>\n",
       "      <td>...</td>\n",
       "      <td>...</td>\n",
       "      <td>...</td>\n",
       "    </tr>\n",
       "    <tr>\n",
       "      <th>73</th>\n",
       "      <td>KPE1561</td>\n",
       "      <td>0</td>\n",
       "      <td>amg3</td>\n",
       "      <td>0.184200</td>\n",
       "    </tr>\n",
       "    <tr>\n",
       "      <th>74</th>\n",
       "      <td>KPE1573</td>\n",
       "      <td>1</td>\n",
       "      <td>amg3</td>\n",
       "      <td>0.391631</td>\n",
       "    </tr>\n",
       "    <tr>\n",
       "      <th>75</th>\n",
       "      <td>KPE1578</td>\n",
       "      <td>0</td>\n",
       "      <td>amg3</td>\n",
       "      <td>-0.246893</td>\n",
       "    </tr>\n",
       "    <tr>\n",
       "      <th>76</th>\n",
       "      <td>KPE1587</td>\n",
       "      <td>1</td>\n",
       "      <td>amg3</td>\n",
       "      <td>NaN</td>\n",
       "    </tr>\n",
       "    <tr>\n",
       "      <th>77</th>\n",
       "      <td>KPE1612</td>\n",
       "      <td>0</td>\n",
       "      <td>amg3</td>\n",
       "      <td>0.196278</td>\n",
       "    </tr>\n",
       "  </tbody>\n",
       "</table>\n",
       "<p>78 rows × 4 columns</p>\n",
       "</div>"
      ],
      "text/plain": [
       "     scr_id  groupIdx variable     value\n",
       "0    KPE008         1     amg1  0.384864\n",
       "1   KPE1223         1     amg1  0.072214\n",
       "2   KPE1253         0     amg1 -0.142767\n",
       "3   KPE1263         0     amg1 -0.254799\n",
       "4   KPE1293         1     amg1 -0.054429\n",
       "..      ...       ...      ...       ...\n",
       "73  KPE1561         0     amg3  0.184200\n",
       "74  KPE1573         1     amg3  0.391631\n",
       "75  KPE1578         0     amg3 -0.246893\n",
       "76  KPE1587         1     amg3       NaN\n",
       "77  KPE1612         0     amg3  0.196278\n",
       "\n",
       "[78 rows x 4 columns]"
      ]
     },
     "execution_count": 3,
     "metadata": {},
     "output_type": "execute_result"
    }
   ],
   "source": [
    "## Load amygdala database\n",
    "df = pd.read_csv('TraumavsNeutral_threeSes.csv')\n",
    "# create a long format for analysis\n",
    "df_long = pd.melt(df, id_vars=['scr_id','groupIdx'], value_vars=['amg1','amg2','amg3'])\n",
    "df_long"
   ]
  },
  {
   "cell_type": "code",
   "execution_count": 6,
   "id": "38f2a701",
   "metadata": {},
   "outputs": [
    {
     "data": {
      "text/html": [
       "<div>\n",
       "<style scoped>\n",
       "    .dataframe tbody tr th:only-of-type {\n",
       "        vertical-align: middle;\n",
       "    }\n",
       "\n",
       "    .dataframe tbody tr th {\n",
       "        vertical-align: top;\n",
       "    }\n",
       "\n",
       "    .dataframe thead th {\n",
       "        text-align: right;\n",
       "    }\n",
       "</style>\n",
       "<table border=\"1\" class=\"dataframe\">\n",
       "  <thead>\n",
       "    <tr style=\"text-align: right;\">\n",
       "      <th></th>\n",
       "      <th>T</th>\n",
       "      <th>dof</th>\n",
       "      <th>alternative</th>\n",
       "      <th>p-val</th>\n",
       "      <th>CI95%</th>\n",
       "      <th>cohen-d</th>\n",
       "      <th>BF10</th>\n",
       "      <th>power</th>\n",
       "    </tr>\n",
       "  </thead>\n",
       "  <tbody>\n",
       "    <tr>\n",
       "      <th>T-test</th>\n",
       "      <td>-2.644598</td>\n",
       "      <td>23</td>\n",
       "      <td>two-sided</td>\n",
       "      <td>0.014484</td>\n",
       "      <td>[-0.62, -0.08]</td>\n",
       "      <td>1.058687</td>\n",
       "      <td>3.918</td>\n",
       "      <td>0.716666</td>\n",
       "    </tr>\n",
       "  </tbody>\n",
       "</table>\n",
       "</div>"
      ],
      "text/plain": [
       "               T  dof alternative     p-val           CI95%   cohen-d   BF10  \\\n",
       "T-test -2.644598   23   two-sided  0.014484  [-0.62, -0.08]  1.058687  3.918   \n",
       "\n",
       "           power  \n",
       "T-test  0.716666  "
      ]
     },
     "execution_count": 6,
     "metadata": {},
     "output_type": "execute_result"
    }
   ],
   "source": [
    "pg.ttest(df.amg2[df.groupIdx==1], df.amg2[df.groupIdx==0], paired=False, correction=False)"
   ]
  },
  {
   "cell_type": "code",
   "execution_count": 7,
   "id": "66b65ffc",
   "metadata": {},
   "outputs": [
    {
     "data": {
      "text/html": [
       "<div>\n",
       "<style scoped>\n",
       "    .dataframe tbody tr th:only-of-type {\n",
       "        vertical-align: middle;\n",
       "    }\n",
       "\n",
       "    .dataframe tbody tr th {\n",
       "        vertical-align: top;\n",
       "    }\n",
       "\n",
       "    .dataframe thead th {\n",
       "        text-align: right;\n",
       "    }\n",
       "</style>\n",
       "<table border=\"1\" class=\"dataframe\">\n",
       "  <thead>\n",
       "    <tr style=\"text-align: right;\">\n",
       "      <th></th>\n",
       "      <th>T</th>\n",
       "      <th>dof</th>\n",
       "      <th>alternative</th>\n",
       "      <th>p-val</th>\n",
       "      <th>CI95%</th>\n",
       "      <th>cohen-d</th>\n",
       "      <th>BF10</th>\n",
       "      <th>power</th>\n",
       "    </tr>\n",
       "  </thead>\n",
       "  <tbody>\n",
       "    <tr>\n",
       "      <th>T-test</th>\n",
       "      <td>-0.520308</td>\n",
       "      <td>24</td>\n",
       "      <td>two-sided</td>\n",
       "      <td>0.607616</td>\n",
       "      <td>[-0.4, 0.24]</td>\n",
       "      <td>0.204082</td>\n",
       "      <td>0.401</td>\n",
       "      <td>0.079073</td>\n",
       "    </tr>\n",
       "  </tbody>\n",
       "</table>\n",
       "</div>"
      ],
      "text/plain": [
       "               T  dof alternative     p-val         CI95%   cohen-d   BF10  \\\n",
       "T-test -0.520308   24   two-sided  0.607616  [-0.4, 0.24]  0.204082  0.401   \n",
       "\n",
       "           power  \n",
       "T-test  0.079073  "
      ]
     },
     "execution_count": 7,
     "metadata": {},
     "output_type": "execute_result"
    }
   ],
   "source": [
    "pg.ttest(df.amg1[df.groupIdx==1], df.amg1[df.groupIdx==0], paired=False, correction=False)"
   ]
  },
  {
   "cell_type": "code",
   "execution_count": 8,
   "id": "7206cacc",
   "metadata": {},
   "outputs": [
    {
     "data": {
      "text/html": [
       "<div>\n",
       "<style scoped>\n",
       "    .dataframe tbody tr th:only-of-type {\n",
       "        vertical-align: middle;\n",
       "    }\n",
       "\n",
       "    .dataframe tbody tr th {\n",
       "        vertical-align: top;\n",
       "    }\n",
       "\n",
       "    .dataframe thead th {\n",
       "        text-align: right;\n",
       "    }\n",
       "</style>\n",
       "<table border=\"1\" class=\"dataframe\">\n",
       "  <thead>\n",
       "    <tr style=\"text-align: right;\">\n",
       "      <th></th>\n",
       "      <th>T</th>\n",
       "      <th>dof</th>\n",
       "      <th>alternative</th>\n",
       "      <th>p-val</th>\n",
       "      <th>CI95%</th>\n",
       "      <th>cohen-d</th>\n",
       "      <th>BF10</th>\n",
       "      <th>power</th>\n",
       "    </tr>\n",
       "  </thead>\n",
       "  <tbody>\n",
       "    <tr>\n",
       "      <th>T-test</th>\n",
       "      <td>-1.904562</td>\n",
       "      <td>20</td>\n",
       "      <td>two-sided</td>\n",
       "      <td>0.071321</td>\n",
       "      <td>[-0.63, 0.03]</td>\n",
       "      <td>0.815485</td>\n",
       "      <td>1.331</td>\n",
       "      <td>0.441659</td>\n",
       "    </tr>\n",
       "  </tbody>\n",
       "</table>\n",
       "</div>"
      ],
      "text/plain": [
       "               T  dof alternative     p-val          CI95%   cohen-d   BF10  \\\n",
       "T-test -1.904562   20   two-sided  0.071321  [-0.63, 0.03]  0.815485  1.331   \n",
       "\n",
       "           power  \n",
       "T-test  0.441659  "
      ]
     },
     "execution_count": 8,
     "metadata": {},
     "output_type": "execute_result"
    }
   ],
   "source": [
    "pg.ttest(df.amg3[df.groupIdx==1], df.amg3[df.groupIdx==0], correction=False)"
   ]
  },
  {
   "cell_type": "markdown",
   "id": "1c46c433-65cb-4a44-8f47-81fbb6752888",
   "metadata": {},
   "source": [
    "# Run Sensitivity Analysis"
   ]
  },
  {
   "cell_type": "code",
   "execution_count": 125,
   "id": "de271de9-4e14-4fee-b5c6-b5cce80258bc",
   "metadata": {},
   "outputs": [],
   "source": [
    "df_second = df_long[df_long['variable']=='amg2']\n",
    "# generate subject names arrays\n",
    "ketSubjects = df_second.scr_id[df_second.groupIdx==1].values\n",
    "midSubjects = df_second.scr_id[df_second.groupIdx==0].values\n",
    "\n",
    "tvals = [] # keep t values\n",
    "dvals = [] # keep cohen's d values\n",
    "pvals = [] # keep p-values\n",
    "for i in np.arange(1000):\n",
    "    \n",
    "    # randomly remove two subjects from each group\n",
    "    ketOmit = np.random.choice(ketSubjects, 2)\n",
    "    midOmit = np.random.choice(midSubjects,2)\n",
    "    sub_omit = np.hstack([ketOmit, midOmit])\n",
    "\n",
    "    # remove subjects from data\n",
    "    indexNames = df_second[df_second['scr_id'].isin(sub_omit)].index\n",
    "    dfNew = df_second.drop(indexNames)\n",
    "    dfNew = dfNew.dropna()\n",
    "    dfNew\n",
    "    # run t-test\n",
    "    test = pg.ttest(dfNew['value'][dfNew.groupIdx==1], dfNew['value'][dfNew.groupIdx==0], paired=False, correction=False)\n",
    "    tvals.append(test['T'][0])\n",
    "    dvals.append(test['cohen-d'][0])\n",
    "    pvals.append(test['p-val'][0])"
   ]
  },
  {
   "cell_type": "code",
   "execution_count": 129,
   "id": "8a1268d8-aa0d-47e7-94db-280e092f836e",
   "metadata": {},
   "outputs": [
    {
     "name": "stdout",
     "output_type": "stream",
     "text": [
      "Percent above d=0.9 0.811\n"
     ]
    },
    {
     "data": {
      "image/png": "[encoded data removed]",
      "text/plain": [
       "<Figure size 360x360 with 1 Axes>"
      ]
     },
     "metadata": {
      "needs_background": "light"
     },
     "output_type": "display_data"
    }
   ],
   "source": [
    "sns.displot(dvals, label=\"cohen's-d\")\n",
    "dvals = np.array(dvals)\n",
    "print(f'Percent above d=0.9 {sum(dvals>=0.9) / len(dvals)}')"
   ]
  },
  {
   "cell_type": "code",
   "execution_count": 127,
   "id": "614af371-03be-4ad3-994c-59239f2c5f96",
   "metadata": {},
   "outputs": [
    {
     "data": {
      "text/plain": [
       "<seaborn.axisgrid.FacetGrid at 0x2abf06e9d580>"
      ]
     },
     "execution_count": 127,
     "metadata": {},
     "output_type": "execute_result"
    },
    {
     "data": {
      "image/png": "[encoded data removed]",
      "text/plain": [
       "<Figure size 360x360 with 1 Axes>"
      ]
     },
     "metadata": {
      "needs_background": "light"
     },
     "output_type": "display_data"
    }
   ],
   "source": [
    "sns.displot(tvals, label=\"t\")\n",
    "#"
   ]
  },
  {
   "cell_type": "code",
   "execution_count": 128,
   "id": "85588a49-4baf-44f2-bc8b-fad716c0f2d2",
   "metadata": {},
   "outputs": [
    {
     "name": "stdout",
     "output_type": "stream",
     "text": [
      "Percent below 0.05 is 0.798\n"
     ]
    },
    {
     "data": {
      "image/png": "[encoded data removed]",
      "text/plain": [
       "<Figure size 360x360 with 1 Axes>"
      ]
     },
     "metadata": {
      "needs_background": "light"
     },
     "output_type": "display_data"
    }
   ],
   "source": [
    "sns.displot(pvals, label=\"p\")\n",
    "pvals = np.array(pvals)\n",
    "print(f'Percent below 0.05 is {sum(pvals<0.05) / len(pvals)}')"
   ]
  }
 ],
 "metadata": {
  "kernelspec": {
   "display_name": "Python 3 (ipykernel)",
   "language": "python",
   "name": "python3"
  },
  "language_info": {
   "codemirror_mode": {
    "name": "ipython",
    "version": 3
   },
   "file_extension": ".py",
   "mimetype": "text/x-python",
   "name": "python",
   "nbconvert_exporter": "python",
   "pygments_lexer": "ipython3",
   "version": "3.9.7"
  }
 },
 "nbformat": 4,
 "nbformat_minor": 5
}
